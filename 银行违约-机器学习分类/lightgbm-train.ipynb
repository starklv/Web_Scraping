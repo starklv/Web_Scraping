{
 "cells": [
  {
   "cell_type": "code",
   "execution_count": 1,
   "metadata": {},
   "outputs": [],
   "source": [
    "import pandas as pd\n",
    "import numpy as np\n",
    "from lightgbm import LGBMClassifier\n",
    "from sklearn.metrics import r2_score,confusion_matrix,f1_score,cohen_kappa_score,precision_score,recall_score\n",
    "from sklearn.model_selection import GridSearchCV,train_test_split\n",
    "from sklearn.preprocessing import LabelEncoder\n",
    "import os\n",
    "import time "
   ]
  },
  {
   "cell_type": "code",
   "execution_count": 2,
   "metadata": {},
   "outputs": [],
   "source": [
    "?LGBMClassifier"
   ]
  },
  {
   "cell_type": "code",
   "execution_count": 47,
   "metadata": {},
   "outputs": [],
   "source": [
    "##或者使用 alldata=pd.read_csv('E:/研究生相关/统计学习1课件/数据分析项目与小论文/数据分析项目/trainset.csv',index_col=0) \n",
    "##将第一列变为index的值\n",
    "alldata=pd.read_csv('E:/研究生相关/统计学习1课件/数据分析项目与小论文/数据分析项目/trainset.csv')\n",
    "alldata=alldata.drop(alldata.columns[0],axis=1)\n",
    "test=pd.read_csv('E:/研究生相关/统计学习1课件/数据分析项目与小论文/数据分析项目/testxset.csv')\n",
    "test=test.drop('Unnamed: 0',axis=1)"
   ]
  },
  {
   "cell_type": "markdown",
   "metadata": {},
   "source": [
    "碰到字符串变量中含有nan(缺失值),用LabelEncoder函数将字符串转化为数字时,就会出现报错现象,将这些变量转化为np.string_类型"
   ]
  },
  {
   "cell_type": "code",
   "execution_count": 48,
   "metadata": {
    "scrolled": true
   },
   "outputs": [
    {
     "data": {
      "text/html": [
       "<div>\n",
       "<style scoped>\n",
       "    .dataframe tbody tr th:only-of-type {\n",
       "        vertical-align: middle;\n",
       "    }\n",
       "\n",
       "    .dataframe tbody tr th {\n",
       "        vertical-align: top;\n",
       "    }\n",
       "\n",
       "    .dataframe thead th {\n",
       "        text-align: right;\n",
       "    }\n",
       "</style>\n",
       "<table border=\"1\" class=\"dataframe\">\n",
       "  <thead>\n",
       "    <tr style=\"text-align: right;\">\n",
       "      <th></th>\n",
       "      <th>y</th>\n",
       "      <th>loan_amnt</th>\n",
       "      <th>term</th>\n",
       "      <th>int_rate</th>\n",
       "      <th>installment</th>\n",
       "      <th>grade</th>\n",
       "      <th>sub_grade</th>\n",
       "      <th>emp_length</th>\n",
       "      <th>home_ownership</th>\n",
       "      <th>annual_inc</th>\n",
       "      <th>...</th>\n",
       "      <th>num_rev_tl_bal_gt_0</th>\n",
       "      <th>num_sats</th>\n",
       "      <th>num_tl_op_past_12m</th>\n",
       "      <th>percent_bc_gt_75</th>\n",
       "      <th>pub_rec_bankruptcies</th>\n",
       "      <th>tot_hi_cred_lim</th>\n",
       "      <th>total_bal_ex_mort</th>\n",
       "      <th>total_bc_limit</th>\n",
       "      <th>total_il_high_credit_limit</th>\n",
       "      <th>disbursement_method</th>\n",
       "    </tr>\n",
       "  </thead>\n",
       "  <tbody>\n",
       "    <tr>\n",
       "      <th>0</th>\n",
       "      <td>0</td>\n",
       "      <td>36000</td>\n",
       "      <td>1</td>\n",
       "      <td>17.97</td>\n",
       "      <td>913.58</td>\n",
       "      <td>3</td>\n",
       "      <td>15</td>\n",
       "      <td>9</td>\n",
       "      <td>3</td>\n",
       "      <td>9515</td>\n",
       "      <td>...</td>\n",
       "      <td>7.0</td>\n",
       "      <td>24.0</td>\n",
       "      <td>4.0</td>\n",
       "      <td>22.2</td>\n",
       "      <td>0</td>\n",
       "      <td>259812.0</td>\n",
       "      <td>138100</td>\n",
       "      <td>76800</td>\n",
       "      <td>181515.0</td>\n",
       "      <td>0</td>\n",
       "    </tr>\n",
       "    <tr>\n",
       "      <th>1</th>\n",
       "      <td>0</td>\n",
       "      <td>3000</td>\n",
       "      <td>0</td>\n",
       "      <td>17.97</td>\n",
       "      <td>108.42</td>\n",
       "      <td>3</td>\n",
       "      <td>15</td>\n",
       "      <td>1</td>\n",
       "      <td>3</td>\n",
       "      <td>30978</td>\n",
       "      <td>...</td>\n",
       "      <td>7.0</td>\n",
       "      <td>22.0</td>\n",
       "      <td>1.0</td>\n",
       "      <td>30.0</td>\n",
       "      <td>1</td>\n",
       "      <td>69552.0</td>\n",
       "      <td>31910</td>\n",
       "      <td>20000</td>\n",
       "      <td>37734.0</td>\n",
       "      <td>0</td>\n",
       "    </tr>\n",
       "    <tr>\n",
       "      <th>2</th>\n",
       "      <td>0</td>\n",
       "      <td>35000</td>\n",
       "      <td>0</td>\n",
       "      <td>12.98</td>\n",
       "      <td>1178.96</td>\n",
       "      <td>1</td>\n",
       "      <td>9</td>\n",
       "      <td>2</td>\n",
       "      <td>3</td>\n",
       "      <td>3219</td>\n",
       "      <td>...</td>\n",
       "      <td>8.0</td>\n",
       "      <td>10.0</td>\n",
       "      <td>1.0</td>\n",
       "      <td>100.0</td>\n",
       "      <td>0</td>\n",
       "      <td>76400.0</td>\n",
       "      <td>63497</td>\n",
       "      <td>56800</td>\n",
       "      <td>11000.0</td>\n",
       "      <td>1</td>\n",
       "    </tr>\n",
       "    <tr>\n",
       "      <th>3</th>\n",
       "      <td>0</td>\n",
       "      <td>26500</td>\n",
       "      <td>1</td>\n",
       "      <td>11.31</td>\n",
       "      <td>580.28</td>\n",
       "      <td>1</td>\n",
       "      <td>7</td>\n",
       "      <td>1</td>\n",
       "      <td>1</td>\n",
       "      <td>6808</td>\n",
       "      <td>...</td>\n",
       "      <td>10.0</td>\n",
       "      <td>17.0</td>\n",
       "      <td>4.0</td>\n",
       "      <td>66.7</td>\n",
       "      <td>0</td>\n",
       "      <td>430403.0</td>\n",
       "      <td>107975</td>\n",
       "      <td>49300</td>\n",
       "      <td>88875.0</td>\n",
       "      <td>1</td>\n",
       "    </tr>\n",
       "    <tr>\n",
       "      <th>4</th>\n",
       "      <td>0</td>\n",
       "      <td>3000</td>\n",
       "      <td>0</td>\n",
       "      <td>15.02</td>\n",
       "      <td>104.03</td>\n",
       "      <td>2</td>\n",
       "      <td>12</td>\n",
       "      <td>4</td>\n",
       "      <td>1</td>\n",
       "      <td>37842</td>\n",
       "      <td>...</td>\n",
       "      <td>7.0</td>\n",
       "      <td>13.0</td>\n",
       "      <td>3.0</td>\n",
       "      <td>25.0</td>\n",
       "      <td>0</td>\n",
       "      <td>400137.0</td>\n",
       "      <td>60074</td>\n",
       "      <td>11500</td>\n",
       "      <td>50524.0</td>\n",
       "      <td>0</td>\n",
       "    </tr>\n",
       "  </tbody>\n",
       "</table>\n",
       "<p>5 rows × 56 columns</p>\n",
       "</div>"
      ],
      "text/plain": [
       "   y  loan_amnt  term  int_rate  installment  grade  sub_grade  emp_length  \\\n",
       "0  0      36000     1     17.97       913.58      3         15           9   \n",
       "1  0       3000     0     17.97       108.42      3         15           1   \n",
       "2  0      35000     0     12.98      1178.96      1          9           2   \n",
       "3  0      26500     1     11.31       580.28      1          7           1   \n",
       "4  0       3000     0     15.02       104.03      2         12           4   \n",
       "\n",
       "   home_ownership  annual_inc  ...  num_rev_tl_bal_gt_0  num_sats  \\\n",
       "0               3        9515  ...                  7.0      24.0   \n",
       "1               3       30978  ...                  7.0      22.0   \n",
       "2               3        3219  ...                  8.0      10.0   \n",
       "3               1        6808  ...                 10.0      17.0   \n",
       "4               1       37842  ...                  7.0      13.0   \n",
       "\n",
       "   num_tl_op_past_12m  percent_bc_gt_75  pub_rec_bankruptcies  \\\n",
       "0                 4.0              22.2                     0   \n",
       "1                 1.0              30.0                     1   \n",
       "2                 1.0             100.0                     0   \n",
       "3                 4.0              66.7                     0   \n",
       "4                 3.0              25.0                     0   \n",
       "\n",
       "   tot_hi_cred_lim  total_bal_ex_mort  total_bc_limit  \\\n",
       "0         259812.0             138100           76800   \n",
       "1          69552.0              31910           20000   \n",
       "2          76400.0              63497           56800   \n",
       "3         430403.0             107975           49300   \n",
       "4         400137.0              60074           11500   \n",
       "\n",
       "   total_il_high_credit_limit  disbursement_method  \n",
       "0                    181515.0                    0  \n",
       "1                     37734.0                    0  \n",
       "2                     11000.0                    1  \n",
       "3                     88875.0                    1  \n",
       "4                     50524.0                    0  \n",
       "\n",
       "[5 rows x 56 columns]"
      ]
     },
     "execution_count": 48,
     "metadata": {},
     "output_type": "execute_result"
    }
   ],
   "source": [
    "#lightgbm不接受字符串，故先将字符串转化为数字，通过LabelEncoder函数实现\n",
    "#找出类别变量\n",
    "alldata['emp_length']=alldata['emp_length'].astype(np.string_)\n",
    "categorical_features=np.where(alldata.dtypes==object)[0]\n",
    "class_le=LabelEncoder()\n",
    "#用class_le先fit，之后再实行transform\n",
    "for i in categorical_features:\n",
    "    class_le.fit(alldata.iloc[:,i].values)\n",
    "    alldata.iloc[:,i]=class_le.transform(alldata.iloc[:,i].values)\n",
    "alldata.head()"
   ]
  },
  {
   "cell_type": "code",
   "execution_count": 49,
   "metadata": {},
   "outputs": [],
   "source": [
    "x_train=alldata.iloc[:,1:]\n",
    "y_train=alldata.iloc[:,0]"
   ]
  },
  {
   "cell_type": "code",
   "execution_count": 59,
   "metadata": {},
   "outputs": [
    {
     "name": "stdout",
     "output_type": "stream",
     "text": [
      "GridSearchCV(cv=3, error_score='raise-deprecating',\n",
      "             estimator=LGBMClassifier(boosting_type='gbdt', class_weight=None,\n",
      "                                      colsample_bytree=0.8, eval_metric='auc',\n",
      "                                      importance_type='split',\n",
      "                                      learning_rate=0.3, max_depth=-1,\n",
      "                                      min_child_samples=20,\n",
      "                                      min_child_weight=0.001,\n",
      "                                      min_split_gain=0.0, n_estimators=25,\n",
      "                                      n_jobs=-1, num_leaves=31,\n",
      "                                      objective='binary', random_state=None,\n",
      "                                      reg_alpha=0.0, reg_lambda=0.0,\n",
      "                                      silent=True, subsample=0.8,\n",
      "                                      subsample_for_bin=200000,\n",
      "                                      subsample_freq=0),\n",
      "             iid='warn', n_jobs=None,\n",
      "             param_grid={'max_depth': range(6, 18, 3),\n",
      "                         'num_leaves': range(1000, 10000, 2000)},\n",
      "             pre_dispatch='2*n_jobs', refit=True, return_train_score=False,\n",
      "             scoring=None, verbose=0)\n",
      "128.69 sec\n"
     ]
    }
   ],
   "source": [
    "start = time.time()\n",
    "estimator=LGBMClassifier(objective='binary',colsample_bytree=0.8,subsample=0.8,\n",
    "                         eval_metric='auc',learning_rate=0.3,n_estimators=25)\n",
    "param_grid={'max_depth':range(6,18,3),\n",
    "           'num_leaves':range(1000,10000,2000)}\n",
    "gs=GridSearchCV(estimator,param_grid,cv=3)\n",
    "print(gs.fit(x_train.head(100000),y_train.head(100000)))\n",
    "print('{:.2f}'.format(time.time()-start)+' sec')"
   ]
  },
  {
   "cell_type": "code",
   "execution_count": 10,
   "metadata": {},
   "outputs": [
    {
     "data": {
      "text/plain": [
       "GridSearchCV(cv=3, error_score='raise-deprecating',\n",
       "             estimator=LGBMClassifier(boosting_type='gbdt', class_weight=None,\n",
       "                                      colsample_bytree=0.8, eval_metric='auc',\n",
       "                                      importance_type='split',\n",
       "                                      learning_rate=0.3, max_depth=-1,\n",
       "                                      min_child_samples=20,\n",
       "                                      min_child_weight=0.001,\n",
       "                                      min_split_gain=0.0, n_estimators=25,\n",
       "                                      n_jobs=-1, num_leaves=31,\n",
       "                                      objective='binary', random_state=None,\n",
       "                                      reg_alpha=0.0, reg_lambda=0.0,\n",
       "                                      silent=True, subsample=0.8,\n",
       "                                      subsample_for_bin=200000,\n",
       "                                      subsample_freq=0),\n",
       "             iid='warn', n_jobs=None,\n",
       "             param_grid={'max_depth': range(6, 18, 3),\n",
       "                         'num_leaves': range(1000, 10000, 2000)},\n",
       "             pre_dispatch='2*n_jobs', refit=True, return_train_score=False,\n",
       "             scoring=None, verbose=0)"
      ]
     },
     "execution_count": 10,
     "metadata": {},
     "output_type": "execute_result"
    }
   ],
   "source": [
    "#网格化搜索max_depth,num_leaves，且num_leaves<2**max_depth\n",
    "estimator=LGBMClassifier(objective='binary',colsample_bytree=0.8,subsample=0.8,\n",
    "                         eval_metric='auc',learning_rate=0.3,n_estimators=25)\n",
    "param_grid={'max_depth':range(6,18,3),\n",
    "           'num_leaves':range(1000,10000,2000)}\n",
    "gs=GridSearchCV(estimator,param_grid,cv=3)\n",
    "gs.fit(x_train,y_train)"
   ]
  },
  {
   "cell_type": "code",
   "execution_count": 11,
   "metadata": {},
   "outputs": [
    {
     "data": {
      "text/plain": [
       "0.8228750973688472"
      ]
     },
     "execution_count": 11,
     "metadata": {},
     "output_type": "execute_result"
    }
   ],
   "source": [
    "gs.best_score_"
   ]
  },
  {
   "cell_type": "code",
   "execution_count": 12,
   "metadata": {},
   "outputs": [
    {
     "data": {
      "text/plain": [
       "{'max_depth': 6, 'num_leaves': 1000}"
      ]
     },
     "execution_count": 12,
     "metadata": {},
     "output_type": "execute_result"
    }
   ],
   "source": [
    "gs.best_params_"
   ]
  },
  {
   "cell_type": "code",
   "execution_count": 13,
   "metadata": {},
   "outputs": [
    {
     "data": {
      "text/plain": [
       "GridSearchCV(cv=3, error_score='raise-deprecating',\n",
       "             estimator=LGBMClassifier(boosting_type='gbdt', class_weight=None,\n",
       "                                      colsample_bytree=0.8, eval_metric='auc',\n",
       "                                      importance_type='split',\n",
       "                                      learning_rate=0.3, max_depth=-1,\n",
       "                                      min_child_samples=20,\n",
       "                                      min_child_weight=0.001,\n",
       "                                      min_split_gain=0.0, n_estimators=25,\n",
       "                                      n_jobs=-1, num_leaves=31,\n",
       "                                      objective='binary', random_state=None,\n",
       "                                      reg_alpha=0.0, reg_lambda=0.0,\n",
       "                                      silent=True, subsample=0.8,\n",
       "                                      subsample_for_bin=200000,\n",
       "                                      subsample_freq=0),\n",
       "             iid='warn', n_jobs=None,\n",
       "             param_grid={'max_depth': range(3, 7),\n",
       "                         'num_leaves': range(50, 220, 30)},\n",
       "             pre_dispatch='2*n_jobs', refit=True, return_train_score=False,\n",
       "             scoring=None, verbose=0)"
      ]
     },
     "execution_count": 13,
     "metadata": {},
     "output_type": "execute_result"
    }
   ],
   "source": [
    "param_grid={'max_depth':range(3,7,1),\n",
    "           'num_leaves':range(50,220,30)}\n",
    "gs=GridSearchCV(estimator,param_grid,cv=3)\n",
    "gs.fit(x_train,y_train)\n",
    "#由于num_leaves为下界，再进行调优"
   ]
  },
  {
   "cell_type": "code",
   "execution_count": 14,
   "metadata": {},
   "outputs": [
    {
     "data": {
      "text/plain": [
       "0.8772505661189886"
      ]
     },
     "execution_count": 14,
     "metadata": {},
     "output_type": "execute_result"
    }
   ],
   "source": [
    "gs.best_score_"
   ]
  },
  {
   "cell_type": "code",
   "execution_count": 15,
   "metadata": {},
   "outputs": [
    {
     "data": {
      "text/plain": [
       "{'max_depth': 3, 'num_leaves': 50}"
      ]
     },
     "execution_count": 15,
     "metadata": {},
     "output_type": "execute_result"
    }
   ],
   "source": [
    "gs.best_params_"
   ]
  },
  {
   "cell_type": "code",
   "execution_count": 13,
   "metadata": {},
   "outputs": [
    {
     "data": {
      "text/plain": [
       "GridSearchCV(cv=5, error_score='raise-deprecating',\n",
       "             estimator=LGBMClassifier(binary='objective', boosting_type='gbdt',\n",
       "                                      class_weight=None, colsample_bytree=0.8,\n",
       "                                      eval_metric='auc',\n",
       "                                      importance_type='split',\n",
       "                                      learning_rate=0.3, max_depth=4,\n",
       "                                      min_child_samples=20,\n",
       "                                      min_child_weight=0.001,\n",
       "                                      min_split_gain=0.0, n_estimators=25,\n",
       "                                      n_jobs=-1, num_leaves=31, objective=None,\n",
       "                                      random_state=None, reg_alpha=0.0,\n",
       "                                      reg_lambda=0.0, silent=True,\n",
       "                                      subsample=0.8, subsample_for_bin=200000,\n",
       "                                      subsample_freq=0),\n",
       "             iid='warn', n_jobs=None, param_grid={'num_leaves': range(6, 10)},\n",
       "             pre_dispatch='2*n_jobs', refit=True, return_train_score=False,\n",
       "             scoring=None, verbose=0)"
      ]
     },
     "execution_count": 13,
     "metadata": {},
     "output_type": "execute_result"
    }
   ],
   "source": [
    "estimator=LGBMClassifier(binary='objective',eval_metric='auc',colsample_bytree=0.8,\n",
    "                        subsample=0.8,learning_rate=0.3,n_estimators=25,max_depth=4)\n",
    "param_grid={'num_leaves':range(6,10,1)}\n",
    "gs=GridSearchCV(estimator,param_grid,cv=5)\n",
    "gs.fit(x_train,y_train)\n",
    "#最后优化时缩小间距，逐渐中心化调优"
   ]
  },
  {
   "cell_type": "code",
   "execution_count": 14,
   "metadata": {},
   "outputs": [
    {
     "data": {
      "text/plain": [
       "0.9775569896130849"
      ]
     },
     "execution_count": 14,
     "metadata": {},
     "output_type": "execute_result"
    }
   ],
   "source": [
    "gs.best_score_"
   ]
  },
  {
   "cell_type": "code",
   "execution_count": 15,
   "metadata": {},
   "outputs": [
    {
     "data": {
      "text/plain": [
       "{'num_leaves': 8}"
      ]
     },
     "execution_count": 15,
     "metadata": {},
     "output_type": "execute_result"
    }
   ],
   "source": [
    "gs.best_params_"
   ]
  },
  {
   "cell_type": "code",
   "execution_count": 18,
   "metadata": {},
   "outputs": [
    {
     "data": {
      "text/plain": [
       "GridSearchCV(cv=5, error_score='raise-deprecating',\n",
       "             estimator=LGBMClassifier(boosting_type='gbdt', class_weight=None,\n",
       "                                      colsample_bytree=0.8, eval_metric='auc',\n",
       "                                      importance_type='split',\n",
       "                                      learning_rate=0.1, max_depth=4,\n",
       "                                      min_child_samples=20,\n",
       "                                      min_child_weight=0.001,\n",
       "                                      min_split_gain=0.0, n_estimators=100,\n",
       "                                      n_jobs=-1, num_leaves=8,\n",
       "                                      objective='binary', random_state=None,\n",
       "                                      reg_alpha=0.0, reg_lambda=0.0,\n",
       "                                      silent=True, subsample=0.8,\n",
       "                                      subsample_for_bin=200000,\n",
       "                                      subsample_freq=0),\n",
       "             iid='warn', n_jobs=None,\n",
       "             param_grid={'learning_rate': array([0.05, 0.1 , 0.15, 0.2 , 0.25, 0.3 ]),\n",
       "                         'n_estimators': [20, 30, 40]},\n",
       "             pre_dispatch='2*n_jobs', refit=True, return_train_score=False,\n",
       "             scoring=None, verbose=0)"
      ]
     },
     "execution_count": 18,
     "metadata": {},
     "output_type": "execute_result"
    }
   ],
   "source": [
    "# 最优 max_depth=4,num_leaves=8\n",
    "#网格化搜索 learning_rate 和 n_estimators\n",
    "estimator=LGBMClassifier(objective='binary',eval_metric='auc',subsample=0.8,\n",
    "                        colsample_bytree=0.8,max_depth=4,num_leaves=8)\n",
    "param_grid={'learning_rate':np.arange(0.05,0.35,0.05),\n",
    "           'n_estimators':[20,30,40]}\n",
    "gs=GridSearchCV(estimator,param_grid,cv=5)\n",
    "gs.fit(x_train,y_train)"
   ]
  },
  {
   "cell_type": "code",
   "execution_count": 19,
   "metadata": {},
   "outputs": [
    {
     "data": {
      "text/plain": [
       "0.979447822511406"
      ]
     },
     "execution_count": 19,
     "metadata": {},
     "output_type": "execute_result"
    }
   ],
   "source": [
    "gs.best_score_"
   ]
  },
  {
   "cell_type": "code",
   "execution_count": 20,
   "metadata": {},
   "outputs": [
    {
     "data": {
      "text/plain": [
       "{'learning_rate': 0.3, 'n_estimators': 40}"
      ]
     },
     "execution_count": 20,
     "metadata": {},
     "output_type": "execute_result"
    }
   ],
   "source": [
    "gs.best_params_"
   ]
  },
  {
   "cell_type": "code",
   "execution_count": 22,
   "metadata": {},
   "outputs": [
    {
     "data": {
      "text/plain": [
       "GridSearchCV(cv=5, error_score='raise-deprecating',\n",
       "             estimator=LGBMClassifier(boosting_type='gbdt', class_weight=None,\n",
       "                                      colsample_bytree=0.8, eval_metric='auc',\n",
       "                                      importance_type='split',\n",
       "                                      learning_rate=0.1, max_depth=4,\n",
       "                                      min_child_samples=20,\n",
       "                                      min_child_weight=0.001,\n",
       "                                      min_split_gain=0.0, n_estimators=100,\n",
       "                                      n_jobs=-1, num_leaves=8,\n",
       "                                      objective='binary', random_state=None,\n",
       "                                      reg_alpha=0.0, reg_lambda=0.0,\n",
       "                                      silent=True, subsample=0.8,\n",
       "                                      subsample_for_bin=200000,\n",
       "                                      subsample_freq=0),\n",
       "             iid='warn', n_jobs=None,\n",
       "             param_grid={'learning_rate': array([0.3, 0.4, 0.5, 0.6]),\n",
       "                         'n_estimators': range(40, 80, 10)},\n",
       "             pre_dispatch='2*n_jobs', refit=True, return_train_score=False,\n",
       "             scoring=None, verbose=0)"
      ]
     },
     "execution_count": 22,
     "metadata": {},
     "output_type": "execute_result"
    }
   ],
   "source": [
    "param_grid={'learning_rate':np.arange(0.3,0.7,0.1),\n",
    "           'n_estimators':range(40,80,10)}\n",
    "gs=GridSearchCV(estimator,param_grid,cv=5)\n",
    "gs.fit(x_train,y_train)"
   ]
  },
  {
   "cell_type": "code",
   "execution_count": 24,
   "metadata": {},
   "outputs": [
    {
     "data": {
      "text/plain": [
       "0.9812527084598035"
      ]
     },
     "execution_count": 24,
     "metadata": {},
     "output_type": "execute_result"
    }
   ],
   "source": [
    "gs.best_score_"
   ]
  },
  {
   "cell_type": "code",
   "execution_count": 26,
   "metadata": {
    "scrolled": true
   },
   "outputs": [
    {
     "data": {
      "text/plain": [
       "{'learning_rate': 0.3, 'n_estimators': 70}"
      ]
     },
     "execution_count": 26,
     "metadata": {},
     "output_type": "execute_result"
    }
   ],
   "source": [
    "gs.best_params_"
   ]
  },
  {
   "cell_type": "code",
   "execution_count": 12,
   "metadata": {},
   "outputs": [],
   "source": [
    "#最优 learning_rate=0.3,n_estimators=70\n",
    "#网格化搜索 min_child_samples和max_bin\n",
    "from time import *\n",
    "begin_time=time()\n",
    "estimator=LGBMClassifier(objective='binary',colsample_bytree=0.8,subsample=0.8,\n",
    "                        max_depth=4,num_leaves=8,learning_rate=0.3,n_estimators=70,\n",
    "                        save_binary='true',max_bin=240)\n",
    "param_grid={'min_child_samples':range(18,23,1),\n",
    "           'max_bin':range(230,270,10)}\n",
    "gs=GridSearchCV(estimator,param_grid,cv=5)\n",
    "gs.fit(x_train,y_train)\n",
    "end_time=time()\n",
    "run_time=end_time-begin_time"
   ]
  },
  {
   "cell_type": "code",
   "execution_count": 18,
   "metadata": {},
   "outputs": [
    {
     "data": {
      "text/plain": [
       "19.757814180850982"
      ]
     },
     "execution_count": 18,
     "metadata": {},
     "output_type": "execute_result"
    }
   ],
   "source": [
    "run_time/60"
   ]
  },
  {
   "cell_type": "code",
   "execution_count": 15,
   "metadata": {},
   "outputs": [
    {
     "data": {
      "text/plain": [
       "0.981098908654677"
      ]
     },
     "execution_count": 15,
     "metadata": {},
     "output_type": "execute_result"
    }
   ],
   "source": [
    "gs.best_score_"
   ]
  },
  {
   "cell_type": "code",
   "execution_count": 19,
   "metadata": {},
   "outputs": [
    {
     "data": {
      "text/plain": [
       "{'max_bin': 255, 'min_child_samples': 16}"
      ]
     },
     "execution_count": 19,
     "metadata": {},
     "output_type": "execute_result"
    }
   ],
   "source": [
    "param_grid={\n",
    "    'min_child_samples':range(14,19,2),\n",
    "    'max_bin':range(253,257,1)\n",
    "}\n",
    "gs=GridSearchCV(estimator,param_grid,cv=5)\n",
    "gs.fit(x_train,y_train)\n",
    "gs.best_params_"
   ]
  },
  {
   "cell_type": "code",
   "execution_count": 20,
   "metadata": {},
   "outputs": [
    {
     "data": {
      "text/plain": [
       "0.9812671837355801"
      ]
     },
     "execution_count": 20,
     "metadata": {},
     "output_type": "execute_result"
    }
   ],
   "source": [
    "gs.best_score_"
   ]
  },
  {
   "cell_type": "code",
   "execution_count": 29,
   "metadata": {},
   "outputs": [
    {
     "data": {
      "text/plain": [
       "GridSearchCV(cv=5, error_score='raise-deprecating',\n",
       "             estimator=LGBMClassifier(boosting_type='gbdt', class_weight=None,\n",
       "                                      colsample_bytree=1.0,\n",
       "                                      importance_type='split',\n",
       "                                      learning_rate=0.3, max_bin=255,\n",
       "                                      max_depth=4, min_child_samples=16,\n",
       "                                      min_child_weight=0.001,\n",
       "                                      min_split_gain=0.0, n_estimators=70,\n",
       "                                      n_jobs=-1, num_leaves=8,\n",
       "                                      objective='binary', random_state=None,\n",
       "                                      reg_alpha=0.0, reg_lambda=0.0,\n",
       "                                      save_binary='true', silent=True,\n",
       "                                      subsample=1.0, subsample_for_bin=200000,\n",
       "                                      subsample_freq=0),\n",
       "             iid='warn', n_jobs=None,\n",
       "             param_grid={'colsample_bytree': array([0.7, 0.8, 0.9, 1. ]),\n",
       "                         'subsample': array([0.7, 0.8, 0.9, 1. ])},\n",
       "             pre_dispatch='2*n_jobs', refit=True, return_train_score=False,\n",
       "             scoring=None, verbose=0)"
      ]
     },
     "execution_count": 29,
     "metadata": {},
     "output_type": "execute_result"
    }
   ],
   "source": [
    "#最优 max_bin=255,min_child_samples=16\n",
    "#网格化搜索 colsample_bytree和subsample\n",
    "estimator=LGBMClassifier(objective='binary',max_depth=4,num_leaves=8,learning_rate=0.3,\n",
    "                        n_estimators=70,min_child_samples=16,max_bin=255,\n",
    "                         save_binary='true')\n",
    "param_grid={'colsample_bytree':np.arange(0.7,1.0,0.1),\n",
    "           'subsample':np.arange(0.7,1.0,0.1)}\n",
    "gs=GridSearchCV(estimator,param_grid,cv=5)\n",
    "gs.fit(x_train,y_train)"
   ]
  },
  {
   "cell_type": "code",
   "execution_count": 30,
   "metadata": {},
   "outputs": [
    {
     "data": {
      "text/plain": [
       "0.9812671837355801"
      ]
     },
     "execution_count": 30,
     "metadata": {},
     "output_type": "execute_result"
    }
   ],
   "source": [
    "gs.best_score_"
   ]
  },
  {
   "cell_type": "code",
   "execution_count": 31,
   "metadata": {},
   "outputs": [
    {
     "data": {
      "text/plain": [
       "{'colsample_bytree': 0.7999999999999999, 'subsample': 0.7}"
      ]
     },
     "execution_count": 31,
     "metadata": {},
     "output_type": "execute_result"
    }
   ],
   "source": [
    "gs.best_params_"
   ]
  },
  {
   "cell_type": "code",
   "execution_count": 40,
   "metadata": {},
   "outputs": [
    {
     "data": {
      "text/plain": [
       "GridSearchCV(cv=5, error_score='raise-deprecating',\n",
       "             estimator=LGBMClassifier(bagging_freq=5, boosting_type='gbdt',\n",
       "                                      class_weight=None, colsample_bytree=0.8,\n",
       "                                      importance_type='split',\n",
       "                                      learning_rate=0.3, max_bin=255,\n",
       "                                      max_depth=4, min_child_samples=16,\n",
       "                                      min_child_weight=0.001,\n",
       "                                      min_split_gain=0.0, n_estimators=70,\n",
       "                                      n_jobs=-1, num_leaves=8,\n",
       "                                      objective='binary', random_state=None,\n",
       "                                      reg_alpha=0.0, reg_lambda=0.0,\n",
       "                                      save_binary='true', silent=True,\n",
       "                                      subsample=1.0, subsample_for_bin=200000,\n",
       "                                      subsample_freq=0),\n",
       "             iid='warn', n_jobs=None,\n",
       "             param_grid={'subsample': array([0.6 , 0.65, 0.7 , 0.75, 0.8 ])},\n",
       "             pre_dispatch='2*n_jobs', refit=True, return_train_score=False,\n",
       "             scoring=None, verbose=0)"
      ]
     },
     "execution_count": 40,
     "metadata": {},
     "output_type": "execute_result"
    }
   ],
   "source": [
    "#subsample取在边界，继续搜索\n",
    "estimator=LGBMClassifier(objective='binary',max_depth=4,num_leaves=8,learning_rate=0.3,\n",
    "                        n_estimators=70,min_child_samples=16,max_bin=255,\n",
    "                         save_binary='true',colsample_bytree=0.8)\n",
    "param_grid={'subsample':np.arange(0.6,0.8,0.05)}\n",
    "gs=GridSearchCV(estimator,param_grid,cv=5)\n",
    "gs.fit(x_train,y_train)"
   ]
  },
  {
   "cell_type": "code",
   "execution_count": 41,
   "metadata": {},
   "outputs": [
    {
     "data": {
      "text/plain": [
       "0.9810446263705146"
      ]
     },
     "execution_count": 41,
     "metadata": {},
     "output_type": "execute_result"
    }
   ],
   "source": [
    "gs.best_score_"
   ]
  },
  {
   "cell_type": "code",
   "execution_count": 42,
   "metadata": {},
   "outputs": [
    {
     "data": {
      "text/plain": [
       "{'subsample': 0.8000000000000002}"
      ]
     },
     "execution_count": 42,
     "metadata": {},
     "output_type": "execute_result"
    }
   ],
   "source": [
    "gs.best_params_"
   ]
  },
  {
   "cell_type": "code",
   "execution_count": 127,
   "metadata": {},
   "outputs": [
    {
     "name": "stdout",
     "output_type": "stream",
     "text": [
      "[1]\ttraining's auc: 0.874416\ttraining's binary_logloss: 0.360177\n",
      "Training until validation scores don't improve for 5 rounds\n",
      "[2]\ttraining's auc: 0.875305\ttraining's binary_logloss: 0.339537\n",
      "[3]\ttraining's auc: 0.882749\ttraining's binary_logloss: 0.33395\n",
      "[4]\ttraining's auc: 0.885909\ttraining's binary_logloss: 0.319039\n",
      "[5]\ttraining's auc: 0.887902\ttraining's binary_logloss: 0.314592\n",
      "[6]\ttraining's auc: 0.890517\ttraining's binary_logloss: 0.302882\n",
      "[7]\ttraining's auc: 0.893543\ttraining's binary_logloss: 0.292937\n",
      "[8]\ttraining's auc: 0.899963\ttraining's binary_logloss: 0.283277\n",
      "[9]\ttraining's auc: 0.903454\ttraining's binary_logloss: 0.276493\n",
      "[10]\ttraining's auc: 0.904271\ttraining's binary_logloss: 0.269581\n",
      "[11]\ttraining's auc: 0.905735\ttraining's binary_logloss: 0.265189\n",
      "[12]\ttraining's auc: 0.907507\ttraining's binary_logloss: 0.257062\n",
      "[13]\ttraining's auc: 0.905849\ttraining's binary_logloss: 0.249847\n",
      "[14]\ttraining's auc: 0.907262\ttraining's binary_logloss: 0.243379\n",
      "[15]\ttraining's auc: 0.909256\ttraining's binary_logloss: 0.238694\n",
      "[16]\ttraining's auc: 0.912209\ttraining's binary_logloss: 0.234437\n",
      "[17]\ttraining's auc: 0.914706\ttraining's binary_logloss: 0.229132\n",
      "[18]\ttraining's auc: 0.920111\ttraining's binary_logloss: 0.223063\n",
      "[19]\ttraining's auc: 0.923018\ttraining's binary_logloss: 0.217616\n",
      "[20]\ttraining's auc: 0.922791\ttraining's binary_logloss: 0.21421\n",
      "[21]\ttraining's auc: 0.925709\ttraining's binary_logloss: 0.209388\n",
      "[22]\ttraining's auc: 0.928422\ttraining's binary_logloss: 0.206732\n",
      "[23]\ttraining's auc: 0.927644\ttraining's binary_logloss: 0.20378\n",
      "[24]\ttraining's auc: 0.929231\ttraining's binary_logloss: 0.199799\n",
      "[25]\ttraining's auc: 0.933659\ttraining's binary_logloss: 0.19741\n",
      "[26]\ttraining's auc: 0.932733\ttraining's binary_logloss: 0.194837\n",
      "[27]\ttraining's auc: 0.933994\ttraining's binary_logloss: 0.191222\n",
      "[28]\ttraining's auc: 0.934399\ttraining's binary_logloss: 0.187811\n",
      "[29]\ttraining's auc: 0.934544\ttraining's binary_logloss: 0.18493\n",
      "[30]\ttraining's auc: 0.935534\ttraining's binary_logloss: 0.181634\n",
      "[31]\ttraining's auc: 0.936307\ttraining's binary_logloss: 0.178641\n",
      "[32]\ttraining's auc: 0.936092\ttraining's binary_logloss: 0.17723\n",
      "[33]\ttraining's auc: 0.937778\ttraining's binary_logloss: 0.175639\n",
      "[34]\ttraining's auc: 0.938175\ttraining's binary_logloss: 0.173244\n",
      "[35]\ttraining's auc: 0.938138\ttraining's binary_logloss: 0.172066\n",
      "[36]\ttraining's auc: 0.937596\ttraining's binary_logloss: 0.171206\n",
      "[37]\ttraining's auc: 0.937007\ttraining's binary_logloss: 0.170467\n",
      "[38]\ttraining's auc: 0.937606\ttraining's binary_logloss: 0.168329\n",
      "[39]\ttraining's auc: 0.939287\ttraining's binary_logloss: 0.166471\n",
      "[40]\ttraining's auc: 0.939773\ttraining's binary_logloss: 0.164765\n",
      "[41]\ttraining's auc: 0.940413\ttraining's binary_logloss: 0.162541\n",
      "[42]\ttraining's auc: 0.941071\ttraining's binary_logloss: 0.160394\n",
      "[43]\ttraining's auc: 0.941487\ttraining's binary_logloss: 0.158887\n",
      "[44]\ttraining's auc: 0.942087\ttraining's binary_logloss: 0.156974\n",
      "[45]\ttraining's auc: 0.942595\ttraining's binary_logloss: 0.155234\n",
      "[46]\ttraining's auc: 0.942682\ttraining's binary_logloss: 0.153856\n",
      "[47]\ttraining's auc: 0.94317\ttraining's binary_logloss: 0.152242\n",
      "[48]\ttraining's auc: 0.943607\ttraining's binary_logloss: 0.151087\n",
      "[49]\ttraining's auc: 0.944843\ttraining's binary_logloss: 0.14992\n",
      "[50]\ttraining's auc: 0.944325\ttraining's binary_logloss: 0.148981\n",
      "[51]\ttraining's auc: 0.944163\ttraining's binary_logloss: 0.147754\n",
      "[52]\ttraining's auc: 0.944723\ttraining's binary_logloss: 0.146185\n",
      "[53]\ttraining's auc: 0.945112\ttraining's binary_logloss: 0.144882\n",
      "[54]\ttraining's auc: 0.945548\ttraining's binary_logloss: 0.144488\n",
      "[55]\ttraining's auc: 0.945272\ttraining's binary_logloss: 0.143985\n",
      "[56]\ttraining's auc: 0.94571\ttraining's binary_logloss: 0.142776\n",
      "[57]\ttraining's auc: 0.945385\ttraining's binary_logloss: 0.141921\n",
      "[58]\ttraining's auc: 0.945816\ttraining's binary_logloss: 0.140882\n",
      "[59]\ttraining's auc: 0.946023\ttraining's binary_logloss: 0.139922\n",
      "[60]\ttraining's auc: 0.947088\ttraining's binary_logloss: 0.139109\n",
      "[61]\ttraining's auc: 0.946922\ttraining's binary_logloss: 0.138387\n",
      "[62]\ttraining's auc: 0.947458\ttraining's binary_logloss: 0.137098\n",
      "[63]\ttraining's auc: 0.947569\ttraining's binary_logloss: 0.136592\n",
      "[64]\ttraining's auc: 0.947405\ttraining's binary_logloss: 0.13568\n",
      "[65]\ttraining's auc: 0.947341\ttraining's binary_logloss: 0.135419\n",
      "[66]\ttraining's auc: 0.948806\ttraining's binary_logloss: 0.134547\n",
      "[67]\ttraining's auc: 0.949289\ttraining's binary_logloss: 0.133299\n",
      "[68]\ttraining's auc: 0.948917\ttraining's binary_logloss: 0.132763\n",
      "[69]\ttraining's auc: 0.94928\ttraining's binary_logloss: 0.131768\n",
      "[70]\ttraining's auc: 0.949186\ttraining's binary_logloss: 0.131527\n",
      "[71]\ttraining's auc: 0.94969\ttraining's binary_logloss: 0.13114\n",
      "[72]\ttraining's auc: 0.950579\ttraining's binary_logloss: 0.130552\n",
      "[73]\ttraining's auc: 0.950349\ttraining's binary_logloss: 0.129946\n",
      "[74]\ttraining's auc: 0.950143\ttraining's binary_logloss: 0.129194\n",
      "[75]\ttraining's auc: 0.950516\ttraining's binary_logloss: 0.128218\n",
      "[76]\ttraining's auc: 0.950863\ttraining's binary_logloss: 0.127459\n",
      "[77]\ttraining's auc: 0.950578\ttraining's binary_logloss: 0.126932\n",
      "[78]\ttraining's auc: 0.950902\ttraining's binary_logloss: 0.12623\n",
      "[79]\ttraining's auc: 0.951219\ttraining's binary_logloss: 0.125612\n",
      "[80]\ttraining's auc: 0.951406\ttraining's binary_logloss: 0.125004\n",
      "[81]\ttraining's auc: 0.95167\ttraining's binary_logloss: 0.124396\n",
      "[82]\ttraining's auc: 0.951877\ttraining's binary_logloss: 0.124008\n",
      "[83]\ttraining's auc: 0.952179\ttraining's binary_logloss: 0.123683\n",
      "[84]\ttraining's auc: 0.952014\ttraining's binary_logloss: 0.123488\n",
      "[85]\ttraining's auc: 0.952809\ttraining's binary_logloss: 0.123153\n",
      "[86]\ttraining's auc: 0.952898\ttraining's binary_logloss: 0.122896\n",
      "[87]\ttraining's auc: 0.952994\ttraining's binary_logloss: 0.122648\n",
      "[88]\ttraining's auc: 0.953064\ttraining's binary_logloss: 0.122312\n",
      "Did not meet early stopping. Best iteration is:\n",
      "[88]\ttraining's auc: 0.953064\ttraining's binary_logloss: 0.122312\n"
     ]
    },
    {
     "data": {
      "text/plain": [
       "LGBMClassifier(bagging_fraction=0.6, boosting_type='gbdt', class_weight=None,\n",
       "               colsample_bytree=1.0, eval_metric='auc', feature_fraction=0.9,\n",
       "               importance_type='split', learning_rate=0.06, max_depth=3,\n",
       "               min_child_samples=18, min_child_weight=0.0005,\n",
       "               min_split_gain=0.0, n_estimators=88, n_jobs=-1, num_leaves=6,\n",
       "               objective='binary', random_state=None, reg_alpha=0.0,\n",
       "               reg_lambda=0.0, silent=True, subsample=1.0,\n",
       "               subsample_for_bin=200000, subsample_freq=0)"
      ]
     },
     "execution_count": 127,
     "metadata": {},
     "output_type": "execute_result"
    }
   ],
   "source": [
    "#最优参数如下\n",
    "gbm=LGBMClassifier(objective='binary',max_depth=4,num_leaves=8,learning_rate=0.3,\n",
    "                  n_estimators=70,min_child_samples=16,max_bin=255,\n",
    "                  colsample_bytree=0.8,subsample=0.7)"
   ]
  },
  {
   "cell_type": "code",
   "execution_count": 37,
   "metadata": {},
   "outputs": [],
   "source": [
    "#第一个抽样\n",
    "x_train1,x_test1,y_train1,y_test1=train_test_split(x_train,y_train,test_size=1/3,random_state=1)"
   ]
  },
  {
   "cell_type": "code",
   "execution_count": 134,
   "metadata": {},
   "outputs": [
    {
     "name": "stdout",
     "output_type": "stream",
     "text": [
      "[1]\tvalid_0's auc: 0.892176\tvalid_0's binary_logloss: 0.219706\n",
      "Training until validation scores don't improve for 5 rounds\n",
      "[2]\tvalid_0's auc: 0.938264\tvalid_0's binary_logloss: 0.180656\n",
      "[3]\tvalid_0's auc: 0.940942\tvalid_0's binary_logloss: 0.156723\n",
      "[4]\tvalid_0's auc: 0.944992\tvalid_0's binary_logloss: 0.145828\n",
      "[5]\tvalid_0's auc: 0.949724\tvalid_0's binary_logloss: 0.139243\n",
      "[6]\tvalid_0's auc: 0.956803\tvalid_0's binary_logloss: 0.127778\n",
      "[7]\tvalid_0's auc: 0.955986\tvalid_0's binary_logloss: 0.123901\n",
      "[8]\tvalid_0's auc: 0.955722\tvalid_0's binary_logloss: 0.119659\n",
      "[9]\tvalid_0's auc: 0.957799\tvalid_0's binary_logloss: 0.114793\n",
      "[10]\tvalid_0's auc: 0.958993\tvalid_0's binary_logloss: 0.110866\n",
      "[11]\tvalid_0's auc: 0.961877\tvalid_0's binary_logloss: 0.1072\n",
      "[12]\tvalid_0's auc: 0.961656\tvalid_0's binary_logloss: 0.105872\n",
      "[13]\tvalid_0's auc: 0.962149\tvalid_0's binary_logloss: 0.104907\n",
      "[14]\tvalid_0's auc: 0.963382\tvalid_0's binary_logloss: 0.10257\n",
      "[15]\tvalid_0's auc: 0.964583\tvalid_0's binary_logloss: 0.100955\n",
      "[16]\tvalid_0's auc: 0.964602\tvalid_0's binary_logloss: 0.0994644\n",
      "[17]\tvalid_0's auc: 0.965328\tvalid_0's binary_logloss: 0.0986869\n",
      "[18]\tvalid_0's auc: 0.966942\tvalid_0's binary_logloss: 0.0978683\n",
      "[19]\tvalid_0's auc: 0.968285\tvalid_0's binary_logloss: 0.0955608\n",
      "[20]\tvalid_0's auc: 0.969353\tvalid_0's binary_logloss: 0.0946182\n",
      "[21]\tvalid_0's auc: 0.969577\tvalid_0's binary_logloss: 0.0936732\n",
      "[22]\tvalid_0's auc: 0.970177\tvalid_0's binary_logloss: 0.0922258\n",
      "[23]\tvalid_0's auc: 0.970052\tvalid_0's binary_logloss: 0.0918061\n",
      "[24]\tvalid_0's auc: 0.970794\tvalid_0's binary_logloss: 0.0906506\n",
      "[25]\tvalid_0's auc: 0.970781\tvalid_0's binary_logloss: 0.0903197\n",
      "[26]\tvalid_0's auc: 0.971534\tvalid_0's binary_logloss: 0.0887816\n",
      "[27]\tvalid_0's auc: 0.971682\tvalid_0's binary_logloss: 0.0881772\n",
      "[28]\tvalid_0's auc: 0.972473\tvalid_0's binary_logloss: 0.0872677\n",
      "[29]\tvalid_0's auc: 0.972741\tvalid_0's binary_logloss: 0.0869821\n",
      "[30]\tvalid_0's auc: 0.972912\tvalid_0's binary_logloss: 0.0867978\n",
      "[31]\tvalid_0's auc: 0.973511\tvalid_0's binary_logloss: 0.0858145\n",
      "[32]\tvalid_0's auc: 0.973762\tvalid_0's binary_logloss: 0.0854566\n",
      "[33]\tvalid_0's auc: 0.973616\tvalid_0's binary_logloss: 0.0851871\n",
      "[34]\tvalid_0's auc: 0.973883\tvalid_0's binary_logloss: 0.0847183\n",
      "[35]\tvalid_0's auc: 0.974081\tvalid_0's binary_logloss: 0.0845685\n",
      "[36]\tvalid_0's auc: 0.974168\tvalid_0's binary_logloss: 0.0840238\n",
      "[37]\tvalid_0's auc: 0.974693\tvalid_0's binary_logloss: 0.0834476\n",
      "[38]\tvalid_0's auc: 0.974782\tvalid_0's binary_logloss: 0.0830713\n",
      "[39]\tvalid_0's auc: 0.975669\tvalid_0's binary_logloss: 0.0816217\n",
      "[40]\tvalid_0's auc: 0.975734\tvalid_0's binary_logloss: 0.0815245\n",
      "[41]\tvalid_0's auc: 0.975912\tvalid_0's binary_logloss: 0.0809863\n",
      "[42]\tvalid_0's auc: 0.976328\tvalid_0's binary_logloss: 0.0803436\n",
      "[43]\tvalid_0's auc: 0.976551\tvalid_0's binary_logloss: 0.0799054\n",
      "[44]\tvalid_0's auc: 0.97657\tvalid_0's binary_logloss: 0.0798174\n",
      "[45]\tvalid_0's auc: 0.976586\tvalid_0's binary_logloss: 0.0797412\n",
      "[46]\tvalid_0's auc: 0.976781\tvalid_0's binary_logloss: 0.0793101\n",
      "[47]\tvalid_0's auc: 0.976909\tvalid_0's binary_logloss: 0.0790641\n",
      "[48]\tvalid_0's auc: 0.976998\tvalid_0's binary_logloss: 0.0788239\n",
      "[49]\tvalid_0's auc: 0.977049\tvalid_0's binary_logloss: 0.0787659\n",
      "[50]\tvalid_0's auc: 0.977145\tvalid_0's binary_logloss: 0.0782941\n",
      "[51]\tvalid_0's auc: 0.977583\tvalid_0's binary_logloss: 0.0773156\n",
      "[52]\tvalid_0's auc: 0.977737\tvalid_0's binary_logloss: 0.0770181\n",
      "[53]\tvalid_0's auc: 0.97779\tvalid_0's binary_logloss: 0.0768923\n",
      "[54]\tvalid_0's auc: 0.977851\tvalid_0's binary_logloss: 0.0768313\n",
      "[55]\tvalid_0's auc: 0.978218\tvalid_0's binary_logloss: 0.0766123\n",
      "[56]\tvalid_0's auc: 0.978255\tvalid_0's binary_logloss: 0.0761122\n",
      "[57]\tvalid_0's auc: 0.978315\tvalid_0's binary_logloss: 0.0758975\n",
      "[58]\tvalid_0's auc: 0.978372\tvalid_0's binary_logloss: 0.0757295\n",
      "[59]\tvalid_0's auc: 0.978568\tvalid_0's binary_logloss: 0.0755394\n",
      "[60]\tvalid_0's auc: 0.978594\tvalid_0's binary_logloss: 0.0754681\n",
      "[61]\tvalid_0's auc: 0.978696\tvalid_0's binary_logloss: 0.07519\n",
      "[62]\tvalid_0's auc: 0.978729\tvalid_0's binary_logloss: 0.0751447\n",
      "[63]\tvalid_0's auc: 0.978813\tvalid_0's binary_logloss: 0.074901\n",
      "[64]\tvalid_0's auc: 0.978841\tvalid_0's binary_logloss: 0.0748375\n",
      "[65]\tvalid_0's auc: 0.978918\tvalid_0's binary_logloss: 0.074672\n",
      "[66]\tvalid_0's auc: 0.978979\tvalid_0's binary_logloss: 0.0746223\n",
      "[67]\tvalid_0's auc: 0.979253\tvalid_0's binary_logloss: 0.0740075\n",
      "[68]\tvalid_0's auc: 0.979269\tvalid_0's binary_logloss: 0.0739623\n",
      "[69]\tvalid_0's auc: 0.979397\tvalid_0's binary_logloss: 0.0736826\n",
      "[70]\tvalid_0's auc: 0.979393\tvalid_0's binary_logloss: 0.073644\n",
      "Did not meet early stopping. Best iteration is:\n",
      "[69]\tvalid_0's auc: 0.979397\tvalid_0's binary_logloss: 0.0736826\n"
     ]
    },
    {
     "data": {
      "text/plain": [
       "LGBMClassifier(boosting_type='gbdt', class_weight=None, colsample_bytree=0.8,\n",
       "               importance_type='split', learning_rate=0.3, max_bin=255,\n",
       "               max_depth=4, min_child_samples=16, min_child_weight=0.001,\n",
       "               min_split_gain=0.0, n_estimators=70, n_jobs=-1, num_leaves=8,\n",
       "               objective='binary', random_state=None, reg_alpha=0.0,\n",
       "               reg_lambda=0.0, silent=True, subsample=0.7,\n",
       "               subsample_for_bin=200000, subsample_freq=0)"
      ]
     },
     "execution_count": 134,
     "metadata": {},
     "output_type": "execute_result"
    }
   ],
   "source": [
    "gbm1=LGBMClassifier(objective='binary',max_depth=4,num_leaves=8,\n",
    "                   learning_rate=0.3,n_estimators=70,min_child_samples=16,max_bin=255,\n",
    "                   colsample_bytree=0.8,subsample=0.7)\n",
    "gbm1.fit(x_train1,y_train1,eval_metric={'binary_logloss','auc'},early_stopping_rounds=5,eval_set=[(x_train,y_train)])"
   ]
  },
  {
   "cell_type": "code",
   "execution_count": 135,
   "metadata": {},
   "outputs": [
    {
     "name": "stdout",
     "output_type": "stream",
     "text": [
      "kappa1: 0.915170167972228 F-measure1: 0.9254234638618117\n"
     ]
    }
   ],
   "source": [
    "pred_test1=gbm1.predict(x_test1)\n",
    "kappa1=cohen_kappa_score(pred_test1,y_test1)\n",
    "f1=f1_score(y_true=y_test1,y_pred=pred_test1)\n",
    "print('kappa1:',kappa1,'F-measure1:',f1)"
   ]
  },
  {
   "cell_type": "code",
   "execution_count": 56,
   "metadata": {},
   "outputs": [],
   "source": [
    "#第二个抽样\n",
    "x_train2,x_test2,y_train2,y_test2=train_test_split(x_train,y_train,test_size=1/3,random_state=2)"
   ]
  },
  {
   "cell_type": "code",
   "execution_count": 136,
   "metadata": {},
   "outputs": [
    {
     "name": "stdout",
     "output_type": "stream",
     "text": [
      "[1]\tvalid_0's auc: 0.892153\tvalid_0's binary_logloss: 0.218925\n",
      "Training until validation scores don't improve for 5 rounds\n",
      "[2]\tvalid_0's auc: 0.940417\tvalid_0's binary_logloss: 0.180141\n",
      "[3]\tvalid_0's auc: 0.941219\tvalid_0's binary_logloss: 0.156323\n",
      "[4]\tvalid_0's auc: 0.945471\tvalid_0's binary_logloss: 0.145555\n",
      "[5]\tvalid_0's auc: 0.946761\tvalid_0's binary_logloss: 0.138878\n",
      "[6]\tvalid_0's auc: 0.952681\tvalid_0's binary_logloss: 0.12804\n",
      "[7]\tvalid_0's auc: 0.953963\tvalid_0's binary_logloss: 0.124681\n",
      "[8]\tvalid_0's auc: 0.955332\tvalid_0's binary_logloss: 0.120135\n",
      "[9]\tvalid_0's auc: 0.95725\tvalid_0's binary_logloss: 0.115176\n",
      "[10]\tvalid_0's auc: 0.960116\tvalid_0's binary_logloss: 0.111832\n",
      "[11]\tvalid_0's auc: 0.961243\tvalid_0's binary_logloss: 0.10947\n",
      "[12]\tvalid_0's auc: 0.961116\tvalid_0's binary_logloss: 0.108109\n",
      "[13]\tvalid_0's auc: 0.962182\tvalid_0's binary_logloss: 0.107342\n",
      "[14]\tvalid_0's auc: 0.963685\tvalid_0's binary_logloss: 0.104097\n",
      "[15]\tvalid_0's auc: 0.964684\tvalid_0's binary_logloss: 0.102417\n",
      "[16]\tvalid_0's auc: 0.965795\tvalid_0's binary_logloss: 0.100061\n",
      "[17]\tvalid_0's auc: 0.965877\tvalid_0's binary_logloss: 0.0992219\n",
      "[18]\tvalid_0's auc: 0.966997\tvalid_0's binary_logloss: 0.0981749\n",
      "[19]\tvalid_0's auc: 0.967548\tvalid_0's binary_logloss: 0.0957119\n",
      "[20]\tvalid_0's auc: 0.969365\tvalid_0's binary_logloss: 0.0945545\n",
      "[21]\tvalid_0's auc: 0.969655\tvalid_0's binary_logloss: 0.0933305\n",
      "[22]\tvalid_0's auc: 0.969589\tvalid_0's binary_logloss: 0.0926181\n",
      "[23]\tvalid_0's auc: 0.9698\tvalid_0's binary_logloss: 0.0918565\n",
      "[24]\tvalid_0's auc: 0.97019\tvalid_0's binary_logloss: 0.0909048\n",
      "[25]\tvalid_0's auc: 0.970594\tvalid_0's binary_logloss: 0.0903662\n",
      "[26]\tvalid_0's auc: 0.971062\tvalid_0's binary_logloss: 0.0892598\n",
      "[27]\tvalid_0's auc: 0.971264\tvalid_0's binary_logloss: 0.0890223\n",
      "[28]\tvalid_0's auc: 0.972158\tvalid_0's binary_logloss: 0.086969\n",
      "[29]\tvalid_0's auc: 0.972641\tvalid_0's binary_logloss: 0.0865643\n",
      "[30]\tvalid_0's auc: 0.972784\tvalid_0's binary_logloss: 0.0863745\n",
      "[31]\tvalid_0's auc: 0.973056\tvalid_0's binary_logloss: 0.086067\n",
      "[32]\tvalid_0's auc: 0.973575\tvalid_0's binary_logloss: 0.0856092\n",
      "[33]\tvalid_0's auc: 0.973537\tvalid_0's binary_logloss: 0.0852253\n",
      "[34]\tvalid_0's auc: 0.973758\tvalid_0's binary_logloss: 0.0847278\n",
      "[35]\tvalid_0's auc: 0.973817\tvalid_0's binary_logloss: 0.0846203\n",
      "[36]\tvalid_0's auc: 0.974285\tvalid_0's binary_logloss: 0.0839207\n",
      "[37]\tvalid_0's auc: 0.974609\tvalid_0's binary_logloss: 0.0836652\n",
      "[38]\tvalid_0's auc: 0.974644\tvalid_0's binary_logloss: 0.0831951\n",
      "[39]\tvalid_0's auc: 0.974589\tvalid_0's binary_logloss: 0.0829457\n",
      "[40]\tvalid_0's auc: 0.974591\tvalid_0's binary_logloss: 0.082857\n",
      "[41]\tvalid_0's auc: 0.974891\tvalid_0's binary_logloss: 0.0819939\n",
      "[42]\tvalid_0's auc: 0.975117\tvalid_0's binary_logloss: 0.0815841\n",
      "[43]\tvalid_0's auc: 0.975685\tvalid_0's binary_logloss: 0.0806708\n",
      "[44]\tvalid_0's auc: 0.97581\tvalid_0's binary_logloss: 0.080581\n",
      "[45]\tvalid_0's auc: 0.97586\tvalid_0's binary_logloss: 0.0805118\n",
      "[46]\tvalid_0's auc: 0.976034\tvalid_0's binary_logloss: 0.0802809\n",
      "[47]\tvalid_0's auc: 0.976171\tvalid_0's binary_logloss: 0.0800786\n",
      "[48]\tvalid_0's auc: 0.976422\tvalid_0's binary_logloss: 0.0796369\n",
      "[49]\tvalid_0's auc: 0.9765\tvalid_0's binary_logloss: 0.0795545\n",
      "[50]\tvalid_0's auc: 0.976905\tvalid_0's binary_logloss: 0.0787495\n",
      "[51]\tvalid_0's auc: 0.977259\tvalid_0's binary_logloss: 0.0778888\n",
      "[52]\tvalid_0's auc: 0.977342\tvalid_0's binary_logloss: 0.0777467\n",
      "[53]\tvalid_0's auc: 0.977602\tvalid_0's binary_logloss: 0.0774509\n",
      "[54]\tvalid_0's auc: 0.977618\tvalid_0's binary_logloss: 0.0774088\n",
      "[55]\tvalid_0's auc: 0.977727\tvalid_0's binary_logloss: 0.0772342\n",
      "[56]\tvalid_0's auc: 0.977686\tvalid_0's binary_logloss: 0.0774505\n",
      "[57]\tvalid_0's auc: 0.97775\tvalid_0's binary_logloss: 0.0771349\n",
      "[58]\tvalid_0's auc: 0.977878\tvalid_0's binary_logloss: 0.0767466\n",
      "[59]\tvalid_0's auc: 0.978075\tvalid_0's binary_logloss: 0.0765147\n",
      "[60]\tvalid_0's auc: 0.978085\tvalid_0's binary_logloss: 0.076636\n",
      "[61]\tvalid_0's auc: 0.97815\tvalid_0's binary_logloss: 0.0765138\n",
      "[62]\tvalid_0's auc: 0.978199\tvalid_0's binary_logloss: 0.0764696\n",
      "[63]\tvalid_0's auc: 0.978329\tvalid_0's binary_logloss: 0.076171\n",
      "[64]\tvalid_0's auc: 0.978379\tvalid_0's binary_logloss: 0.0760214\n",
      "[65]\tvalid_0's auc: 0.97839\tvalid_0's binary_logloss: 0.0758077\n",
      "[66]\tvalid_0's auc: 0.978401\tvalid_0's binary_logloss: 0.0757654\n",
      "[67]\tvalid_0's auc: 0.978444\tvalid_0's binary_logloss: 0.0755894\n",
      "[68]\tvalid_0's auc: 0.978492\tvalid_0's binary_logloss: 0.0755355\n",
      "[69]\tvalid_0's auc: 0.978651\tvalid_0's binary_logloss: 0.0751044\n",
      "[70]\tvalid_0's auc: 0.978695\tvalid_0's binary_logloss: 0.0750689\n",
      "Did not meet early stopping. Best iteration is:\n",
      "[70]\tvalid_0's auc: 0.978695\tvalid_0's binary_logloss: 0.0750689\n"
     ]
    },
    {
     "data": {
      "text/plain": [
       "LGBMClassifier(boosting_type='gbdt', class_weight=None, colsample_bytree=0.8,\n",
       "               importance_type='split', learning_rate=0.3, max_bin=255,\n",
       "               max_depth=4, min_child_samples=16, min_child_weight=0.001,\n",
       "               min_split_gain=0.0, n_estimators=70, n_jobs=-1, num_leaves=8,\n",
       "               objective='binary', random_state=None, reg_alpha=0.0,\n",
       "               reg_lambda=0.0, silent=True, subsample=0.7,\n",
       "               subsample_for_bin=200000, subsample_freq=0)"
      ]
     },
     "execution_count": 136,
     "metadata": {},
     "output_type": "execute_result"
    }
   ],
   "source": [
    "gbm1.fit(x_train2,y_train2,eval_metric={'binary_logloss','auc'},early_stopping_rounds=5,eval_set=[(x_train,y_train)])"
   ]
  },
  {
   "cell_type": "code",
   "execution_count": 137,
   "metadata": {},
   "outputs": [
    {
     "name": "stdout",
     "output_type": "stream",
     "text": [
      "kappa2: 0.9121601799027738 F-measure2: 0.9228186427110202\n"
     ]
    }
   ],
   "source": [
    "pred_test2=gbm1.predict(x_test2)\n",
    "kappa2=cohen_kappa_score(pred_test2,y_test2)\n",
    "f2=f1_score(y_true=y_test2,y_pred=pred_test2)\n",
    "print('kappa2:',kappa2,'F-measure2:',f2)"
   ]
  },
  {
   "cell_type": "code",
   "execution_count": 93,
   "metadata": {},
   "outputs": [],
   "source": [
    "#第三个抽样\n",
    "x_train3,x_test3,y_train3,y_test3=train_test_split(x_train,y_train,test_size=1/3,random_state=3)"
   ]
  },
  {
   "cell_type": "code",
   "execution_count": 143,
   "metadata": {},
   "outputs": [
    {
     "data": {
      "text/plain": [
       "LGBMClassifier(boosting_type='gbdt', class_weight=None, colsample_bytree=0.8,\n",
       "               importance_type='split', learning_rate=0.3, max_bin=255,\n",
       "               max_depth=4, min_child_samples=16, min_child_weight=0.001,\n",
       "               min_split_gain=0.0, n_estimators=70, n_jobs=-1, num_leaves=8,\n",
       "               objective='binary', random_state=None, reg_alpha=0.0,\n",
       "               reg_lambda=0.0, silent=True, subsample=0.7,\n",
       "               subsample_for_bin=200000, subsample_freq=0)"
      ]
     },
     "execution_count": 143,
     "metadata": {},
     "output_type": "execute_result"
    }
   ],
   "source": [
    "gbm1.fit(x_train3,y_train3,eval_metric='auc',early_stopping_rounds=5,eval_set=[(x_train,y_train)])"
   ]
  },
  {
   "cell_type": "code",
   "execution_count": 144,
   "metadata": {},
   "outputs": [
    {
     "name": "stdout",
     "output_type": "stream",
     "text": [
      "kappa3: 0.9141526459838484 F-meaure3: 0.9245988178017324\n"
     ]
    }
   ],
   "source": [
    "pred_test3=gbm1.predict(x_test3)\n",
    "kappa3=cohen_kappa_score(pred_test3,y_test3)\n",
    "f3=f1_score(y_true=y_test3,y_pred=pred_test3)\n",
    "print('kappa3:',kappa3,'F-meaure3:',f3)"
   ]
  },
  {
   "cell_type": "code",
   "execution_count": 141,
   "metadata": {},
   "outputs": [],
   "source": [
    "mean_kappa=(kappa1+kappa2+kappa3)/3\n",
    "mean_Fmeasure=(f1+f2+f3)/3"
   ]
  },
  {
   "cell_type": "code",
   "execution_count": 129,
   "metadata": {},
   "outputs": [
    {
     "data": {
      "text/html": [
       "<div>\n",
       "<style scoped>\n",
       "    .dataframe tbody tr th:only-of-type {\n",
       "        vertical-align: middle;\n",
       "    }\n",
       "\n",
       "    .dataframe tbody tr th {\n",
       "        vertical-align: top;\n",
       "    }\n",
       "\n",
       "    .dataframe thead th {\n",
       "        text-align: right;\n",
       "    }\n",
       "</style>\n",
       "<table border=\"1\" class=\"dataframe\">\n",
       "  <thead>\n",
       "    <tr style=\"text-align: right;\">\n",
       "      <th></th>\n",
       "      <th>loan_amnt</th>\n",
       "      <th>term</th>\n",
       "      <th>int_rate</th>\n",
       "      <th>installment</th>\n",
       "      <th>grade</th>\n",
       "      <th>sub_grade</th>\n",
       "      <th>emp_length</th>\n",
       "      <th>home_ownership</th>\n",
       "      <th>annual_inc</th>\n",
       "      <th>verification_status</th>\n",
       "      <th>...</th>\n",
       "      <th>num_rev_tl_bal_gt_0</th>\n",
       "      <th>num_sats</th>\n",
       "      <th>num_tl_op_past_12m</th>\n",
       "      <th>percent_bc_gt_75</th>\n",
       "      <th>pub_rec_bankruptcies</th>\n",
       "      <th>tot_hi_cred_lim</th>\n",
       "      <th>total_bal_ex_mort</th>\n",
       "      <th>total_bc_limit</th>\n",
       "      <th>total_il_high_credit_limit</th>\n",
       "      <th>disbursement_method</th>\n",
       "    </tr>\n",
       "  </thead>\n",
       "  <tbody>\n",
       "    <tr>\n",
       "      <th>0</th>\n",
       "      <td>9600</td>\n",
       "      <td>0</td>\n",
       "      <td>23.40</td>\n",
       "      <td>373.62</td>\n",
       "      <td>4</td>\n",
       "      <td>20</td>\n",
       "      <td>9</td>\n",
       "      <td>3</td>\n",
       "      <td>65000.0</td>\n",
       "      <td>0</td>\n",
       "      <td>...</td>\n",
       "      <td>9</td>\n",
       "      <td>12</td>\n",
       "      <td>1</td>\n",
       "      <td>85.7</td>\n",
       "      <td>0</td>\n",
       "      <td>68902</td>\n",
       "      <td>24165</td>\n",
       "      <td>7600</td>\n",
       "      <td>40402</td>\n",
       "      <td>0</td>\n",
       "    </tr>\n",
       "    <tr>\n",
       "      <th>1</th>\n",
       "      <td>16000</td>\n",
       "      <td>0</td>\n",
       "      <td>14.47</td>\n",
       "      <td>550.51</td>\n",
       "      <td>2</td>\n",
       "      <td>11</td>\n",
       "      <td>1</td>\n",
       "      <td>3</td>\n",
       "      <td>150000.0</td>\n",
       "      <td>1</td>\n",
       "      <td>...</td>\n",
       "      <td>19</td>\n",
       "      <td>24</td>\n",
       "      <td>0</td>\n",
       "      <td>85.7</td>\n",
       "      <td>0</td>\n",
       "      <td>116647</td>\n",
       "      <td>57465</td>\n",
       "      <td>32100</td>\n",
       "      <td>42847</td>\n",
       "      <td>0</td>\n",
       "    </tr>\n",
       "    <tr>\n",
       "      <th>2</th>\n",
       "      <td>15000</td>\n",
       "      <td>0</td>\n",
       "      <td>15.02</td>\n",
       "      <td>520.13</td>\n",
       "      <td>2</td>\n",
       "      <td>12</td>\n",
       "      <td>11</td>\n",
       "      <td>1</td>\n",
       "      <td>42000.0</td>\n",
       "      <td>2</td>\n",
       "      <td>...</td>\n",
       "      <td>1</td>\n",
       "      <td>5</td>\n",
       "      <td>2</td>\n",
       "      <td>33.3</td>\n",
       "      <td>0</td>\n",
       "      <td>67397</td>\n",
       "      <td>11750</td>\n",
       "      <td>8000</td>\n",
       "      <td>7000</td>\n",
       "      <td>0</td>\n",
       "    </tr>\n",
       "    <tr>\n",
       "      <th>3</th>\n",
       "      <td>10000</td>\n",
       "      <td>1</td>\n",
       "      <td>12.98</td>\n",
       "      <td>227.43</td>\n",
       "      <td>1</td>\n",
       "      <td>9</td>\n",
       "      <td>2</td>\n",
       "      <td>3</td>\n",
       "      <td>62000.0</td>\n",
       "      <td>0</td>\n",
       "      <td>...</td>\n",
       "      <td>4</td>\n",
       "      <td>7</td>\n",
       "      <td>2</td>\n",
       "      <td>0.0</td>\n",
       "      <td>0</td>\n",
       "      <td>50500</td>\n",
       "      <td>30552</td>\n",
       "      <td>14900</td>\n",
       "      <td>20000</td>\n",
       "      <td>0</td>\n",
       "    </tr>\n",
       "    <tr>\n",
       "      <th>4</th>\n",
       "      <td>24000</td>\n",
       "      <td>1</td>\n",
       "      <td>12.98</td>\n",
       "      <td>545.83</td>\n",
       "      <td>1</td>\n",
       "      <td>9</td>\n",
       "      <td>1</td>\n",
       "      <td>1</td>\n",
       "      <td>140000.0</td>\n",
       "      <td>1</td>\n",
       "      <td>...</td>\n",
       "      <td>17</td>\n",
       "      <td>31</td>\n",
       "      <td>1</td>\n",
       "      <td>31.8</td>\n",
       "      <td>0</td>\n",
       "      <td>528705</td>\n",
       "      <td>145356</td>\n",
       "      <td>125000</td>\n",
       "      <td>123596</td>\n",
       "      <td>0</td>\n",
       "    </tr>\n",
       "  </tbody>\n",
       "</table>\n",
       "<p>5 rows × 55 columns</p>\n",
       "</div>"
      ],
      "text/plain": [
       "   loan_amnt  term  int_rate  installment  grade  sub_grade  emp_length  \\\n",
       "0       9600     0     23.40       373.62      4         20           9   \n",
       "1      16000     0     14.47       550.51      2         11           1   \n",
       "2      15000     0     15.02       520.13      2         12          11   \n",
       "3      10000     1     12.98       227.43      1          9           2   \n",
       "4      24000     1     12.98       545.83      1          9           1   \n",
       "\n",
       "   home_ownership  annual_inc  verification_status  ...  num_rev_tl_bal_gt_0  \\\n",
       "0               3     65000.0                    0  ...                    9   \n",
       "1               3    150000.0                    1  ...                   19   \n",
       "2               1     42000.0                    2  ...                    1   \n",
       "3               3     62000.0                    0  ...                    4   \n",
       "4               1    140000.0                    1  ...                   17   \n",
       "\n",
       "   num_sats  num_tl_op_past_12m  percent_bc_gt_75  pub_rec_bankruptcies  \\\n",
       "0        12                   1              85.7                     0   \n",
       "1        24                   0              85.7                     0   \n",
       "2         5                   2              33.3                     0   \n",
       "3         7                   2               0.0                     0   \n",
       "4        31                   1              31.8                     0   \n",
       "\n",
       "   tot_hi_cred_lim  total_bal_ex_mort  total_bc_limit  \\\n",
       "0            68902              24165            7600   \n",
       "1           116647              57465           32100   \n",
       "2            67397              11750            8000   \n",
       "3            50500              30552           14900   \n",
       "4           528705             145356          125000   \n",
       "\n",
       "   total_il_high_credit_limit  disbursement_method  \n",
       "0                       40402                    0  \n",
       "1                       42847                    0  \n",
       "2                        7000                    0  \n",
       "3                       20000                    0  \n",
       "4                      123596                    0  \n",
       "\n",
       "[5 rows x 55 columns]"
      ]
     },
     "execution_count": 129,
     "metadata": {},
     "output_type": "execute_result"
    }
   ],
   "source": [
    "#最终预测,categorical_features最后的那个[0]不要忘记,本身对象是个列表\n",
    "categorical_features_test=np.where(test.dtypes==np.object)[0]\n",
    "test['emp_length']=test['emp_length'].astype(np.string_)\n",
    "class_le=LabelEncoder()\n",
    "for i in categorical_features_test:\n",
    "    class_le.fit(test.iloc[:,i].values)\n",
    "    test.iloc[:,i]=class_le.transform(test.iloc[:,i].values)\n",
    "test.head()   "
   ]
  },
  {
   "cell_type": "code",
   "execution_count": 145,
   "metadata": {
    "scrolled": true
   },
   "outputs": [
    {
     "name": "stdout",
     "output_type": "stream",
     "text": [
      "[1]\ttraining's auc: 0.892133\ttraining's binary_logloss: 0.219218\n",
      "Training until validation scores don't improve for 5 rounds\n",
      "[2]\ttraining's auc: 0.94084\ttraining's binary_logloss: 0.180361\n",
      "[3]\ttraining's auc: 0.941138\ttraining's binary_logloss: 0.156482\n",
      "[4]\ttraining's auc: 0.947535\ttraining's binary_logloss: 0.145624\n",
      "[5]\ttraining's auc: 0.951268\ttraining's binary_logloss: 0.138324\n",
      "[6]\ttraining's auc: 0.957593\ttraining's binary_logloss: 0.127545\n",
      "[7]\ttraining's auc: 0.958504\ttraining's binary_logloss: 0.122717\n",
      "[8]\ttraining's auc: 0.96032\ttraining's binary_logloss: 0.116966\n",
      "[9]\ttraining's auc: 0.962264\ttraining's binary_logloss: 0.112252\n",
      "[10]\ttraining's auc: 0.962831\ttraining's binary_logloss: 0.108608\n",
      "[11]\ttraining's auc: 0.963605\ttraining's binary_logloss: 0.107416\n",
      "[12]\ttraining's auc: 0.96379\ttraining's binary_logloss: 0.106716\n",
      "[13]\ttraining's auc: 0.962594\ttraining's binary_logloss: 0.105369\n",
      "[14]\ttraining's auc: 0.964081\ttraining's binary_logloss: 0.102503\n",
      "[15]\ttraining's auc: 0.966052\ttraining's binary_logloss: 0.101052\n",
      "[16]\ttraining's auc: 0.967105\ttraining's binary_logloss: 0.0985655\n",
      "[17]\ttraining's auc: 0.96691\ttraining's binary_logloss: 0.0976583\n",
      "[18]\ttraining's auc: 0.967539\ttraining's binary_logloss: 0.0967875\n",
      "[19]\ttraining's auc: 0.968768\ttraining's binary_logloss: 0.0949497\n",
      "[20]\ttraining's auc: 0.969556\ttraining's binary_logloss: 0.0942612\n",
      "[21]\ttraining's auc: 0.969665\ttraining's binary_logloss: 0.0930497\n",
      "[22]\ttraining's auc: 0.969804\ttraining's binary_logloss: 0.0924827\n",
      "[23]\ttraining's auc: 0.969638\ttraining's binary_logloss: 0.0921719\n",
      "[24]\ttraining's auc: 0.969882\ttraining's binary_logloss: 0.0911382\n",
      "[25]\ttraining's auc: 0.969904\ttraining's binary_logloss: 0.0909692\n",
      "[26]\ttraining's auc: 0.97092\ttraining's binary_logloss: 0.0889496\n",
      "[27]\ttraining's auc: 0.971522\ttraining's binary_logloss: 0.0874848\n",
      "[28]\ttraining's auc: 0.972146\ttraining's binary_logloss: 0.086196\n",
      "[29]\ttraining's auc: 0.972875\ttraining's binary_logloss: 0.0856048\n",
      "[30]\ttraining's auc: 0.973308\ttraining's binary_logloss: 0.0852293\n",
      "[31]\ttraining's auc: 0.973456\ttraining's binary_logloss: 0.0850589\n",
      "[32]\ttraining's auc: 0.974153\ttraining's binary_logloss: 0.0845894\n",
      "[33]\ttraining's auc: 0.974238\ttraining's binary_logloss: 0.0844438\n",
      "[34]\ttraining's auc: 0.974512\ttraining's binary_logloss: 0.0835449\n",
      "[35]\ttraining's auc: 0.97457\ttraining's binary_logloss: 0.0834404\n",
      "[36]\ttraining's auc: 0.97478\ttraining's binary_logloss: 0.0828722\n",
      "[37]\ttraining's auc: 0.975173\ttraining's binary_logloss: 0.0824023\n",
      "[38]\ttraining's auc: 0.97532\ttraining's binary_logloss: 0.0819429\n",
      "[39]\ttraining's auc: 0.975472\ttraining's binary_logloss: 0.0816865\n",
      "[40]\ttraining's auc: 0.975466\ttraining's binary_logloss: 0.0816216\n",
      "[41]\ttraining's auc: 0.975671\ttraining's binary_logloss: 0.0811873\n",
      "[42]\ttraining's auc: 0.975903\ttraining's binary_logloss: 0.0802905\n",
      "[43]\ttraining's auc: 0.976085\ttraining's binary_logloss: 0.0798244\n",
      "[44]\ttraining's auc: 0.976189\ttraining's binary_logloss: 0.0797445\n",
      "[45]\ttraining's auc: 0.976255\ttraining's binary_logloss: 0.079665\n",
      "[46]\ttraining's auc: 0.976421\ttraining's binary_logloss: 0.079137\n",
      "[47]\ttraining's auc: 0.976742\ttraining's binary_logloss: 0.0784057\n",
      "[48]\ttraining's auc: 0.976929\ttraining's binary_logloss: 0.0780511\n",
      "[49]\ttraining's auc: 0.97701\ttraining's binary_logloss: 0.0779966\n",
      "[50]\ttraining's auc: 0.977272\ttraining's binary_logloss: 0.0775008\n",
      "[51]\ttraining's auc: 0.977574\ttraining's binary_logloss: 0.0771164\n",
      "[52]\ttraining's auc: 0.977724\ttraining's binary_logloss: 0.0769644\n",
      "[53]\ttraining's auc: 0.977799\ttraining's binary_logloss: 0.0768786\n",
      "[54]\ttraining's auc: 0.977825\ttraining's binary_logloss: 0.0768228\n",
      "[55]\ttraining's auc: 0.977744\ttraining's binary_logloss: 0.0775257\n",
      "[56]\ttraining's auc: 0.977888\ttraining's binary_logloss: 0.0771694\n",
      "[57]\ttraining's auc: 0.977941\ttraining's binary_logloss: 0.0769916\n",
      "[58]\ttraining's auc: 0.977975\ttraining's binary_logloss: 0.0766578\n",
      "[59]\ttraining's auc: 0.978194\ttraining's binary_logloss: 0.0763573\n",
      "[60]\ttraining's auc: 0.978282\ttraining's binary_logloss: 0.0761225\n",
      "[61]\ttraining's auc: 0.978354\ttraining's binary_logloss: 0.0758266\n",
      "[62]\ttraining's auc: 0.978418\ttraining's binary_logloss: 0.075779\n",
      "[63]\ttraining's auc: 0.978393\ttraining's binary_logloss: 0.0756193\n",
      "[64]\ttraining's auc: 0.978609\ttraining's binary_logloss: 0.0754371\n",
      "[65]\ttraining's auc: 0.978706\ttraining's binary_logloss: 0.0751937\n",
      "[66]\ttraining's auc: 0.978775\ttraining's binary_logloss: 0.0751357\n",
      "[67]\ttraining's auc: 0.978816\ttraining's binary_logloss: 0.0750622\n",
      "[68]\ttraining's auc: 0.978863\ttraining's binary_logloss: 0.074991\n",
      "[69]\ttraining's auc: 0.979066\ttraining's binary_logloss: 0.0743387\n",
      "[70]\ttraining's auc: 0.979076\ttraining's binary_logloss: 0.074287\n",
      "Did not meet early stopping. Best iteration is:\n",
      "[70]\ttraining's auc: 0.979076\ttraining's binary_logloss: 0.074287\n"
     ]
    },
    {
     "data": {
      "text/plain": [
       "LGBMClassifier(boosting_type='gbdt', class_weight=None, colsample_bytree=0.8,\n",
       "               importance_type='split', learning_rate=0.3, max_bin=255,\n",
       "               max_depth=4, min_child_samples=16, min_child_weight=0.001,\n",
       "               min_split_gain=0.0, n_estimators=70, n_jobs=-1, num_leaves=8,\n",
       "               objective='binary', random_state=None, reg_alpha=0.0,\n",
       "               reg_lambda=0.0, silent=True, subsample=0.7,\n",
       "               subsample_for_bin=200000, subsample_freq=0)"
      ]
     },
     "execution_count": 145,
     "metadata": {},
     "output_type": "execute_result"
    }
   ],
   "source": [
    "gbm=LGBMClassifier(objective='binary',max_depth=4,num_leaves=8,learning_rate=0.3,\n",
    "                  n_estimators=70,min_child_samples=16,max_bin=255,\n",
    "                  colsample_bytree=0.8,subsample=0.7)\n",
    "gbm.fit(x_train,y_train,eval_metric='auc',early_stopping_rounds=5,eval_set=[(x_train,y_train)])"
   ]
  },
  {
   "cell_type": "code",
   "execution_count": 155,
   "metadata": {},
   "outputs": [
    {
     "data": {
      "text/html": [
       "<div>\n",
       "<style scoped>\n",
       "    .dataframe tbody tr th:only-of-type {\n",
       "        vertical-align: middle;\n",
       "    }\n",
       "\n",
       "    .dataframe tbody tr th {\n",
       "        vertical-align: top;\n",
       "    }\n",
       "\n",
       "    .dataframe thead th {\n",
       "        text-align: right;\n",
       "    }\n",
       "</style>\n",
       "<table border=\"1\" class=\"dataframe\">\n",
       "  <thead>\n",
       "    <tr style=\"text-align: right;\">\n",
       "      <th></th>\n",
       "      <th>0</th>\n",
       "    </tr>\n",
       "  </thead>\n",
       "  <tbody>\n",
       "    <tr>\n",
       "      <th>0</th>\n",
       "      <td>26708</td>\n",
       "    </tr>\n",
       "    <tr>\n",
       "      <th>1</th>\n",
       "      <td>3292</td>\n",
       "    </tr>\n",
       "  </tbody>\n",
       "</table>\n",
       "</div>"
      ],
      "text/plain": [
       "       0\n",
       "0  26708\n",
       "1   3292"
      ]
     },
     "execution_count": 155,
     "metadata": {},
     "output_type": "execute_result"
    }
   ],
   "source": [
    "#将预测出的test_pred输出\n",
    "pred_test=gbm.predict(test)\n",
    "result_lightgbm=pd.DataFrame(pred_test)\n",
    "result_lightgbm.to_csv('E:/研究生相关/统计学习1课件/数据分析项目与小论文/数据分析项目/result_lightgbm1.csv')"
   ]
  },
  {
   "cell_type": "code",
   "execution_count": 165,
   "metadata": {},
   "outputs": [],
   "source": [
    "#画出重要性变量\n",
    "import matplotlib.pylab as plt\n",
    "import lightgbm as lgb"
   ]
  },
  {
   "cell_type": "code",
   "execution_count": 167,
   "metadata": {},
   "outputs": [
    {
     "data": {
      "text/plain": [
       "<Figure size 864x432 with 0 Axes>"
      ]
     },
     "metadata": {},
     "output_type": "display_data"
    },
    {
     "data": {
      "image/png": "[encoded data removed]",
      "text/plain": [
       "<Figure size 432x288 with 1 Axes>"
      ]
     },
     "metadata": {
      "needs_background": "light"
     },
     "output_type": "display_data"
    }
   ],
   "source": [
    "plt.figure(figsize=(12,6))\n",
    "lgb.plot_importance(gbm,max_num_features=15)\n",
    "plt.title('Featuretances')\n",
    "plt.show()"
   ]
  }
 ],
 "metadata": {
  "kernelspec": {
   "display_name": "Python 3",
   "language": "python",
   "name": "python3"
  },
  "language_info": {
   "codemirror_mode": {
    "name": "ipython",
    "version": 3
   },
   "file_extension": ".py",
   "mimetype": "text/x-python",
   "name": "python",
   "nbconvert_exporter": "python",
   "pygments_lexer": "ipython3",
   "version": "3.7.3"
  }
 },
 "nbformat": 4,
 "nbformat_minor": 2
}
