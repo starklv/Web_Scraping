{
 "cells": [
  {
   "cell_type": "markdown",
   "metadata": {},
   "source": [
    "# The \"lxml\" Package and xpath Expressions for Web Scraping"
   ]
  },
  {
   "cell_type": "markdown",
   "metadata": {},
   "source": [
    "python lxml软件包是用于抓取网页（从中提取数据）的流行工具。 通常，此过程涉及4个步骤：\n",
    "\n",
    "* 下载（访问并获取）html格式的页面\n",
    "* “解析”到对象lxml可以使用\n",
    "* 使用xpath表达式和其他方法浏览html“文档树”（DOM）并抓取数据\n",
    "* 清洗数据和分析数据\n",
    "\n",
    "下面的“基本示例”部分介绍了所有这些步骤，以说明该过程。 要下载页面，需要使用requests包的“ get” http方法，已使用请求包实现了get。 通过lxml包中的类来解析页面并使用xpath表达式导航（浏览）文档树。 清理和数据分析已通过字符串操作和pandas程序包执行。 附录部分包含连续性功能，这些功能可用于帮助进行所介绍的分析，但并不局限于此。 附录中的细胞应首先运行！\n",
    "The \"xpath Tutorial\" 基于文档 XPath语法：http://www.w3school.com.cn/xpath/xpath_syntax.asp, 通过lxml软件包执行的xpath命令。\n",
    "\n",
    "#### lxml 简介\n",
    "\n",
    "lxml包是C库libxml2和libxslt的Python绑定，它兼容但类似于众所周知的ElementTree API。 最新版本适用于python从2.6到3.7的所有CPython版本。\n",
    "\n",
    "有关此软件包的更多信息，包括安装说明，请访问以下链接：\n",
    "\n",
    "* [lxml homepage](https://lxml.de/)\n",
    "* [PyPI page](https://pypi.org/project/lxml/)"
   ]
  },
  {
   "cell_type": "markdown",
   "metadata": {},
   "source": [
    "## Basic Example --快速入门示例"
   ]
  },
  {
   "cell_type": "markdown",
   "metadata": {},
   "source": [
    "### 1 Downloading and Parsing"
   ]
  },
  {
   "cell_type": "markdown",
   "metadata": {},
   "source": [
    "下面的代码使用requests请求包从互联网下载html页面。 然后，使用lxml库中的html类将下载内容解析为适合lxml操作的对象（DOM）。 然后使用xpath表达式从lxml库中提取数据。 然后将其清洗并加载到pandas数据框中，并用于生成简单的条形图。"
   ]
  },
  {
   "cell_type": "code",
   "execution_count": 1,
   "metadata": {},
   "outputs": [
    {
     "name": "stdout",
     "output_type": "stream",
     "text": [
      "<html>\n",
      "<head>\n",
      "    <meta charset=\"utf-8\">\n",
      "    <title>Items 1 to 20 -- Example Page 1</title>\n",
      "    <script type=\"text/javascript\">\n",
      "      var _gaq = _gaq || [];\n",
      "      _gaq.push(['_setAccount', 'UA-23648880-1']);\n",
      "      _gaq.push(['_trackPageview']);\n",
      "      _gaq.push(['_setDomainName', 'econpy.org']);\n",
      "    </script>\n",
      "</head>\n",
      "<body>\n",
      "<div align=\"center\">1, <a href=\"http://econpy.pythonanywhere.com/ex/002.html\">[<font color=\"green\">2</font>]</a>, <a href=\"http://econpy.pythonanywhere.com/ex/003.html\">[<font color=\"green\">3</font>]</a>, <a href=\"http://econpy.pythonanywhere.com/ex/004.html\">[<font color=\"green\">4</font>]</a>, <a href=\"http://econpy.pythonanywhere.com/ex/005.html\">[<font color=\"green\">5</font>]</a>\n",
      "</div>\n",
      "<div title=\"buyer-info\">\n",
      "  <div title=\"buyer-name\">Carson Busses</div>\n",
      "  <span class=\"item-price\">$29.95</span><br>\n",
      "</div>\n",
      "<div title=\"buyer-info\">\n",
      "  <div title=\"buyer-name\">Earl E. Byrd</div>\n",
      "  <span class=\"item-price\">$8.37</span><br>\n",
      "</div>\n",
      "<div title=\"buyer-info\">\n",
      "  <div title=\"buyer-name\">Patty Cakes</div>\n",
      "  <span class=\"item-price\">$15.26</span><br>\n",
      "</div>\n",
      "<div title=\"buyer-info\">\n",
      "  <div title=\"buyer-name\">Derri Anne Connecticut</div>\n",
      "  <span class=\"item-price\">$19.25</span><br>\n",
      "</div>\n",
      "<div title=\"buyer-info\">\n",
      "  <div title=\"buyer-name\">Moe Dess</div>\n",
      "  <span class=\"item-price\">$19.25</span><br>\n",
      "</div>\n",
      "<div title=\"buyer-info\">\n",
      "  <div title=\"buyer-name\">Leda Doggslife</div>\n",
      "  <span class=\"item-price\">$13.99</span><br>\n",
      "</div>\n",
      "<div title=\"buyer-info\">\n",
      "  <div title=\"buyer-name\">Dan Druff</div>\n",
      "  <span class=\"item-price\">$31.57</span><br>\n",
      "</div>\n",
      "<div title=\"buyer-info\">\n",
      "  <div title=\"buyer-name\">Al Fresco</div>\n",
      "  <span class=\"item-price\">$8.49</span><br>\n",
      "</div>\n",
      "<div title=\"buyer-info\">\n",
      "  <div title=\"buyer-name\">Ido Hoe</div>\n",
      "  <span class=\"item-price\">$14.47</span><br>\n",
      "</div>\n",
      "<div title=\"buyer-info\">\n",
      "  <div title=\"buyer-name\">Howie Kisses</div>\n",
      "  <span class=\"item-price\">$15.86</span><br>\n",
      "</div>\n",
      "<div title=\"buyer-info\">\n",
      "  <div title=\"buyer-name\">Len Lease</div>\n",
      "  <span class=\"item-price\">$11.11</span><br>\n",
      "</div>\n",
      "<div title=\"buyer-info\">\n",
      "  <div title=\"buyer-name\">Phil Meup</div>\n",
      "  <span class=\"item-price\">$15.98</span><br>\n",
      "</div>\n",
      "<div title=\"buyer-info\">\n",
      "  <div title=\"buyer-name\">Ira Pent</div>\n",
      "  <span class=\"item-price\">$16.27</span><br>\n",
      "</div>\n",
      "<div title=\"buyer-info\">\n",
      "  <div title=\"buyer-name\">Ben D. Rules</div>\n",
      "  <span class=\"item-price\">$7.50</span><br>\n",
      "</div>\n",
      "<div title=\"buyer-info\">\n",
      "  <div title=\"buyer-name\">Ave Sectomy</div>\n",
      "  <span class=\"item-price\">$50.85</span><br>\n",
      "</div>\n",
      "<div title=\"buyer-info\">\n",
      "  <div title=\"buyer-name\">Gary Shattire</div>\n",
      "  <span class=\"item-price\">$14.26</span><br>\n",
      "</div>\n",
      "<div title=\"buyer-info\">\n",
      "  <div title=\"buyer-name\">Bobbi Soks</div>\n",
      "  <span class=\"item-price\">$5.68</span><br>\n",
      "</div>\n",
      "<div title=\"buyer-info\">\n",
      "  <div title=\"buyer-name\">Sheila Takya</div>\n",
      "  <span class=\"item-price\">$15.00</span><br>\n",
      "</div>\n",
      "<div title=\"buyer-info\">\n",
      "  <div title=\"buyer-name\">Rose Tattoo</div>\n",
      "  <span class=\"item-price\">$114.07</span><br>\n",
      "</div>\n",
      "<div title=\"buyer-info\">\n",
      "  <div title=\"buyer-name\">Moe Tell</div>\n",
      "  <span class=\"item-price\">$10.09</span><br>\n",
      "</div>\n",
      "  <script type=\"text/javascript\">  (function() {\n",
      "    var ga = document.createElement('script');     ga.type = 'text/javascript'; ga.async = true;\n",
      "    ga.src = ('https:'   == document.location.protocol ? 'https://ssl'   : 'http://www') + '.google-analytics.com/ga.js';\n",
      "    var s = document.getElementsByTagName('script')[0]; s.parentNode.insertBefore(ga, s);\n",
      "    })();\n",
      "  </script>\n",
      "</body>\n",
      "</html>\n",
      "\n"
     ]
    }
   ],
   "source": [
    "from lxml import html\n",
    "import requests\n",
    "\n",
    "#Getting the page and parsing it\n",
    "page = requests.get('http://econpy.pythonanywhere.com/ex/001.html')\n",
    "root = html.fromstring(page.content)\n",
    "print(html.tostring(root,pretty_print=True).decode('UTF-8'))   #设漂亮打印pretty_print\n"
   ]
  },
  {
   "cell_type": "markdown",
   "metadata": {},
   "source": [
    "[html教程](https://www.w3school.com.cn/h.asp)"
   ]
  },
  {
   "cell_type": "markdown",
   "metadata": {},
   "source": [
    "### 2 Extracting Data using xpath\n",
    "先快速学习xpath的基本语法："
   ]
  },
  {
   "cell_type": "markdown",
   "metadata": {},
   "source": [
    "<img src='imgs/xpath.png' width=\"600\" height=\"400\" align=\"left\"/>"
   ]
  },
  {
   "cell_type": "code",
   "execution_count": 2,
   "metadata": {},
   "outputs": [
    {
     "name": "stdout",
     "output_type": "stream",
     "text": [
      "['Carson Busses', 'Earl E. Byrd', 'Patty Cakes', 'Derri Anne Connecticut', 'Moe Dess', 'Leda Doggslife', 'Dan Druff', 'Al Fresco', 'Ido Hoe', 'Howie Kisses', 'Len Lease', 'Phil Meup', 'Ira Pent', 'Ben D. Rules', 'Ave Sectomy', 'Gary Shattire', 'Bobbi Soks', 'Sheila Takya', 'Rose Tattoo', 'Moe Tell']\n",
      "['$29.95', '$8.37', '$15.26', '$19.25', '$19.25', '$13.99', '$31.57', '$8.49', '$14.47', '$15.86', '$11.11', '$15.98', '$16.27', '$7.50', '$50.85', '$14.26', '$5.68', '$15.00', '$114.07', '$10.09']\n"
     ]
    }
   ],
   "source": [
    "#This will create a list of buyers:\n",
    "buyers = root.xpath('//div[@title=\"buyer-name\"]/text()')\n",
    "print(buyers)\n",
    "\n",
    "#This will create a list of prices\n",
    "prices = root.xpath('//span[@class=\"item-price\"]/text()')\n",
    "print(prices)"
   ]
  },
  {
   "cell_type": "markdown",
   "metadata": {},
   "source": [
    "### 3 Cleaning and Analysing the Data\n",
    "\n",
    "为了清洗数据，要从价格中删除了美元符号，并且将价格类型从字符串转换为浮点型。 然后将数据插入pandas数据框中，并排序和绘制图表。"
   ]
  },
  {
   "cell_type": "code",
   "execution_count": 5,
   "metadata": {},
   "outputs": [],
   "source": [
    "#type(prices[0])"
   ]
  },
  {
   "cell_type": "code",
   "execution_count": 7,
   "metadata": {},
   "outputs": [
    {
     "name": "stdout",
     "output_type": "stream",
     "text": [
      "                    Buyers  Prices\n",
      "18             Rose Tattoo  114.07\n",
      "14             Ave Sectomy   50.85\n",
      "6                Dan Druff   31.57\n",
      "0            Carson Busses   29.95\n",
      "3   Derri Anne Connecticut   19.25\n"
     ]
    }
   ],
   "source": [
    "import pandas as pd\n",
    "\n",
    "# cleaning by removing first character and converting to a float\n",
    "if type(prices[0]) !=float:\n",
    "    prices = [price[1:] for price in prices]          #列表解析式，去掉第1个位置的美元符号\n",
    "    prices = [float(price) for price in prices]       #列表解析式，将价格转成浮点型\n",
    "\n",
    "# inserting data into a data frame & ordering\n",
    "data = {'Buyers': buyers, 'Prices': prices}          #构造字典\n",
    "df = pd.DataFrame(data=data)                         #构造数据框\n",
    "df = df.sort_values(by='Prices', ascending=False)\n",
    "print(df.head())\n"
   ]
  },
  {
   "cell_type": "markdown",
   "metadata": {},
   "source": [
    "Producing a bar plot of the data"
   ]
  },
  {
   "cell_type": "code",
   "execution_count": 8,
   "metadata": {},
   "outputs": [],
   "source": [
    "import matplotlib.pyplot as plt\n",
    "%matplotlib inline"
   ]
  },
  {
   "cell_type": "code",
   "execution_count": 9,
   "metadata": {},
   "outputs": [
    {
     "data": {
      "image/png": "[encoded data removed]",
      "text/plain": [
       "<Figure size 432x288 with 1 Axes>"
      ]
     },
     "metadata": {
      "needs_background": "light"
     },
     "output_type": "display_data"
    }
   ],
   "source": [
    "ax = df.plot.bar(x='Buyers', y='Prices')"
   ]
  },
  {
   "cell_type": "markdown",
   "metadata": {},
   "source": [
    "## xpath 教程"
   ]
  },
  {
   "cell_type": "markdown",
   "metadata": {},
   "source": [
    "xpath用于查询和过滤以xml格式编写的文档。 可以将html视为xml的一种特定类型，因此也可以使用xpath表达式查询html文档。\n",
    "\n",
    "根本上，xml文档是节点树（DOM），用于封装具有定义结构的数据，请参见下面的示例。 一旦理解了这种结构，就可以使用xpath表达式导航树并过滤掉数据。"
   ]
  },
  {
   "cell_type": "code",
   "execution_count": 10,
   "metadata": {},
   "outputs": [
    {
     "name": "stdout",
     "output_type": "stream",
     "text": [
      "############# Example xml file ###############\n",
      "\n",
      "<bookstore>\n",
      "\n",
      "<book>\n",
      "  <title lang=\"ge\">\n",
      "    Harry Potter\n",
      "  </title>\n",
      "  <price currency=\"pounds\">29.99</price>\n",
      "  <author lang=\"ge\">\n",
      "    <firstname>Joanne</firstname>\n",
      "    <lastname> Rowling</lastname>\n",
      "  </author>\n",
      "</book>\n",
      "\n",
      "<book>\n",
      "  <title lang=\"en\">Learning XML</title>\n",
      "  <price currency=\"dollars\">39.95</price>\n",
      "  <author lang=\"en\">\n",
      "    <firstname>John</firstname>\n",
      "    <lastname> Smith</lastname>\n",
      "  </author>\n",
      "  <author lang=\"en\">\n",
      "    <firstname>Fred</firstname>\n",
      "    <lastname> Blogs</lastname>\n",
      "  </author>\n",
      "</book>\n",
      "\n",
      "</bookstore>\n",
      "\n"
     ]
    }
   ],
   "source": [
    "from lxml import etree\n",
    "\n",
    "# Parsing from a file  当前目录下的simple_xml.xml文件\n",
    "root = etree.parse(\"simple_xml.xml\")\n",
    "print(\"############# Example xml file ###############\\n\")\n",
    "print(etree.tostring(root,pretty_print=True).decode('UTF-8'))"
   ]
  },
  {
   "cell_type": "markdown",
   "metadata": {},
   "source": [
    "The xml standard defines 7 types of node:\n",
    "* element\n",
    "* attribute\n",
    "* text\n",
    "* namespace\n",
    "* processing-instruction\n",
    "* comment\n",
    "* document\n",
    "<br>有7种类型的节点（Node）：元素、属性、文本、命名空间、处理指令、注释、文档节点（或称为根节点）.\n",
    "\n",
    "术语：**父代，子代，同级，祖先，后代**以预期的方式定义节点关系。 因此，在上面的示例中，书名title是书book的子代； 书book是书名title的父代； 书名title和价格price是兄弟姐妹； 书名是书的后代，书是书名的始祖。\n",
    "<br>\n",
    "<img src='imgs/noderelation.png' width=\"600\" height=\"400\" align=\"left\"/> <br>\n",
    "<br>以下各节使用上面的示例xml文件演示了xpath表达式的特定方面。"
   ]
  },
  {
   "cell_type": "code",
   "execution_count": 12,
   "metadata": {},
   "outputs": [],
   "source": [
    "# function used to print nodes\n",
    "\n",
    "def print_nodes(nodes):\n",
    "    for node in nodes:\n",
    "        if type(node).__name__==\"_Element\":\n",
    "            print(\"########### Node start ###############\")\n",
    "            print(etree.tostring(node,pretty_print=True).decode('UTF-8'))\n",
    "            print(\"########### Node end ###############\")\n",
    "        elif type(node).__name__==\"_ElementUnicodeResult\":\n",
    "            print(\"########### Node start ###############\")\n",
    "            print(\"node name = \" + node)\n",
    "            print(\"node attribute = \" + str(node.attrname))\n",
    "            print(\"node.is_attribute = \" + str(node.is_attribute))\n",
    "            print(\"node.is_text = \" + str(node.is_text))\n",
    "            print(\"node.is_tail = \" + str(node.is_tail))\n",
    "            print(\"########### Node end ###############\")"
   ]
  },
  {
   "cell_type": "markdown",
   "metadata": {},
   "source": [
    "### 1 node name, attribute name, absolute path and \"//\"\n",
    "\n",
    "要提取具有特定名称的节点的所有实例，xpath表达式可以只是节点名称或以“ //”开头的节点名称。 同样，要提取特定属性的所有实例，请在属性名称前加上“ // @”。 请参见下面的代码。"
   ]
  },
  {
   "cell_type": "code",
   "execution_count": 13,
   "metadata": {},
   "outputs": [
    {
     "name": "stdout",
     "output_type": "stream",
     "text": [
      "######## (1)node name ###########\n",
      "\n",
      "########### Node start ###############\n",
      "<book>\n",
      "  <title lang=\"ge\">\n",
      "    Harry Potter\n",
      "  </title>\n",
      "  <price currency=\"pounds\">29.99</price>\n",
      "  <author lang=\"ge\">\n",
      "    <firstname>Joanne</firstname>\n",
      "    <lastname> Rowling</lastname>\n",
      "  </author>\n",
      "</book>\n",
      "\n",
      "\n",
      "\n",
      "########### Node end ###############\n",
      "########### Node start ###############\n",
      "<book>\n",
      "  <title lang=\"en\">Learning XML</title>\n",
      "  <price currency=\"dollars\">39.95</price>\n",
      "  <author lang=\"en\">\n",
      "    <firstname>John</firstname>\n",
      "    <lastname> Smith</lastname>\n",
      "  </author>\n",
      "  <author lang=\"en\">\n",
      "    <firstname>Fred</firstname>\n",
      "    <lastname> Blogs</lastname>\n",
      "  </author>\n",
      "</book>\n",
      "\n",
      "\n",
      "\n",
      "########### Node end ###############\n",
      "######## (2)//node name ###########\n",
      "\n",
      "########### Node start ###############\n",
      "<book>\n",
      "  <title lang=\"ge\">\n",
      "    Harry Potter\n",
      "  </title>\n",
      "  <price currency=\"pounds\">29.99</price>\n",
      "  <author lang=\"ge\">\n",
      "    <firstname>Joanne</firstname>\n",
      "    <lastname> Rowling</lastname>\n",
      "  </author>\n",
      "</book>\n",
      "\n",
      "\n",
      "\n",
      "########### Node end ###############\n",
      "########### Node start ###############\n",
      "<book>\n",
      "  <title lang=\"en\">Learning XML</title>\n",
      "  <price currency=\"dollars\">39.95</price>\n",
      "  <author lang=\"en\">\n",
      "    <firstname>John</firstname>\n",
      "    <lastname> Smith</lastname>\n",
      "  </author>\n",
      "  <author lang=\"en\">\n",
      "    <firstname>Fred</firstname>\n",
      "    <lastname> Blogs</lastname>\n",
      "  </author>\n",
      "</book>\n",
      "\n",
      "\n",
      "\n",
      "########### Node end ###############\n",
      "######## (3)//@attribute name ###########\n",
      "\n",
      "########### Node start ###############\n",
      "node name = ge\n",
      "node attribute = lang\n",
      "node.is_attribute = True\n",
      "node.is_text = False\n",
      "node.is_tail = False\n",
      "########### Node end ###############\n",
      "########### Node start ###############\n",
      "node name = ge\n",
      "node attribute = lang\n",
      "node.is_attribute = True\n",
      "node.is_text = False\n",
      "node.is_tail = False\n",
      "########### Node end ###############\n",
      "########### Node start ###############\n",
      "node name = en\n",
      "node attribute = lang\n",
      "node.is_attribute = True\n",
      "node.is_text = False\n",
      "node.is_tail = False\n",
      "########### Node end ###############\n",
      "########### Node start ###############\n",
      "node name = en\n",
      "node attribute = lang\n",
      "node.is_attribute = True\n",
      "node.is_text = False\n",
      "node.is_tail = False\n",
      "########### Node end ###############\n",
      "########### Node start ###############\n",
      "node name = en\n",
      "node attribute = lang\n",
      "node.is_attribute = True\n",
      "node.is_text = False\n",
      "node.is_tail = False\n",
      "########### Node end ###############\n"
     ]
    }
   ],
   "source": [
    "print(\"######## (1)node name ###########\\n\")\n",
    "nodes = root.xpath('book')\n",
    "print_nodes(nodes)\n",
    "\n",
    "print(\"######## (2)//node name ###########\\n\")\n",
    "nodes = root.xpath('//book')\n",
    "print_nodes(nodes)\n",
    "\n",
    "print(\"######## (3)//@attribute name ###########\\n\")\n",
    "nodes = root.xpath('//@lang')\n",
    "print_nodes(nodes)"
   ]
  },
  {
   "cell_type": "markdown",
   "metadata": {},
   "source": [
    "“ //”运算符可找到“ //”之前的元素节点的所有后代，而节点名称则位于“ //”之后。 因此，在下面的示例中，找到了第二本书的所有作者。"
   ]
  },
  {
   "cell_type": "code",
   "execution_count": 14,
   "metadata": {},
   "outputs": [
    {
     "name": "stdout",
     "output_type": "stream",
     "text": [
      "######## //second book authors ###########\n",
      "\n",
      "########### Node start ###############\n",
      "<author lang=\"en\">\n",
      "    <firstname>John</firstname>\n",
      "    <lastname> Smith</lastname>\n",
      "  </author>\n",
      "  \n",
      "\n",
      "########### Node end ###############\n",
      "########### Node start ###############\n",
      "<author lang=\"en\">\n",
      "    <firstname>Fred</firstname>\n",
      "    <lastname> Blogs</lastname>\n",
      "  </author>\n",
      "\n",
      "\n",
      "########### Node end ###############\n"
     ]
    }
   ],
   "source": [
    "print(\"######## //second book authors ###########\\n\")\n",
    "nodes = root.xpath('/bookstore/book[2]//author')\n",
    "print_nodes(nodes)\n"
   ]
  },
  {
   "cell_type": "markdown",
   "metadata": {},
   "source": [
    "[路径表达式]\n",
    "1. 绝对路径方式  \n",
    "绝对路径方式（起始于正斜杠'/'）是从根节点开始导航，逐级而进，像上文提到的实例一样，直到想要抓取的节点。这种方式会让xpath()有更高的效率，稍后解释这点。\n",
    "2. 相对路径方式  \n",
    "相对路径方式（双斜杠'//'表达），不用考虑相对于根节点，要抓取的节点所在的所有级别路径。而是只需要知道当前节点上下几个级别的节点即可。在人工定位路径的时候，会更方便一些，但代码执行效率要比绝对路径低一些。"
   ]
  },
  {
   "cell_type": "markdown",
   "metadata": {},
   "source": [
    "###  XPath实践要注意的问题\n",
    "**1. 效率问题  **  \n",
    "如果xpath()的路径表达式参数是从__根元素__开始的，是__定位效率最高__的。这点容易解释，就像在一层办公大楼格子间去寻找一位同事一样。相比指定楼层， 逐个去问，给定一条直通这位同事的地图会更快。  \n",
    "但是有时候从根元素开始，人工地定位路径表达式的参数并不方便（可以借助插件解决），或者是出于自己封装的解析函数的泛型化的要求，选择相对路径，牺牲些代码效率仍然是明智之举（人力才是最贵资源）。  \n",
    "以下是我的一些思考测试。  \n",
    "如果相对路径往上级多写几层，路径变得更加具体，应该会提升效率，但是测试之后，时间反而增加了2-3倍。\n",
    "初始例子是这样的 ‘//span[@id=\"media_span\"]/span’。\n",
    "加了几层变成这样‘//div/div/div/span[@id=\"media_span\"]/span’。\n",
    "推测xpath的索引方式很可能像NTFS文件系统一样。经过统计当篇XML文档的元素个数，span 20个，而div是90个，得证。\n",
    "所以，在__使用相对路径的时候，div这种极易出现的标签元素尽量不要放在起始节点__。  \n",
    "从根节点开始解析比以上span开始的例子相比，只快了一点（粗略测试多篇文档，10万次解析差2秒）。  \n",
    "\n",
    "**2. 不能跨级  **  \n",
    "在选择路径表达式的时候，__不能出现跨级别的元素__，否则路径表达式是不能被xpath()解析的。  \n",
    "还拿上图举例，不可以用 /bookstore/price 去解析 book 下面的 price 标签。这是一种跨级。  \n",
    "\n",
    "**3. 最方便的确定路径参数的方式  **   \n",
    "审查元素，右键copy xpath（Firefox和chrome都适用），可以直接给出从根开始的xpath路径。"
   ]
  },
  {
   "cell_type": "markdown",
   "metadata": {},
   "source": [
    "### 2 Predicates（谓词）\n",
    "\n",
    "谓词用于查找特定节点或特含特定值的节点。 对于上面的示例xml文档，我们可以使用谓词查找第一本书。 前三本书或价格高于£35的图书。 谓词始终在方括号内指定为条件。 所以\"//title[@lang='en']\" 将找到所有属性lang设置为“ en”的title节点。 "
   ]
  },
  {
   "cell_type": "markdown",
   "metadata": {},
   "source": [
    "<img src='imgs/Predicates.png' width=\"600\" height=\"400\" align=\"left\"/> <br>"
   ]
  },
  {
   "cell_type": "code",
   "execution_count": 15,
   "metadata": {},
   "outputs": [
    {
     "name": "stdout",
     "output_type": "stream",
     "text": [
      "######## first node ###########\n",
      "\n",
      "########### Node start ###############\n",
      "<book>\n",
      "  <title lang=\"ge\">\n",
      "    Harry Potter\n",
      "  </title>\n",
      "  <price currency=\"pounds\">29.99</price>\n",
      "  <author lang=\"ge\">\n",
      "    <firstname>Joanne</firstname>\n",
      "    <lastname> Rowling</lastname>\n",
      "  </author>\n",
      "</book>\n",
      "\n",
      "\n",
      "\n",
      "########### Node end ###############\n",
      "length of node list: 1\n",
      "\n",
      "######## last node ###########\n",
      "\n",
      "########### Node start ###############\n",
      "<book>\n",
      "  <title lang=\"en\">Learning XML</title>\n",
      "  <price currency=\"dollars\">39.95</price>\n",
      "  <author lang=\"en\">\n",
      "    <firstname>John</firstname>\n",
      "    <lastname> Smith</lastname>\n",
      "  </author>\n",
      "  <author lang=\"en\">\n",
      "    <firstname>Fred</firstname>\n",
      "    <lastname> Blogs</lastname>\n",
      "  </author>\n",
      "</book>\n",
      "\n",
      "\n",
      "\n",
      "########### Node end ###############\n",
      "length of node list: 1\n",
      "\n",
      "######## pos < 2 node ###########\n",
      "\n",
      "########### Node start ###############\n",
      "<book>\n",
      "  <title lang=\"ge\">\n",
      "    Harry Potter\n",
      "  </title>\n",
      "  <price currency=\"pounds\">29.99</price>\n",
      "  <author lang=\"ge\">\n",
      "    <firstname>Joanne</firstname>\n",
      "    <lastname> Rowling</lastname>\n",
      "  </author>\n",
      "</book>\n",
      "\n",
      "\n",
      "\n",
      "########### Node end ###############\n",
      "length of node list: 1\n",
      "\n",
      "######## price greater than 35 nodes ###########\n",
      "\n",
      "########### Node start ###############\n",
      "<book>\n",
      "  <title lang=\"en\">Learning XML</title>\n",
      "  <price currency=\"dollars\">39.95</price>\n",
      "  <author lang=\"en\">\n",
      "    <firstname>John</firstname>\n",
      "    <lastname> Smith</lastname>\n",
      "  </author>\n",
      "  <author lang=\"en\">\n",
      "    <firstname>Fred</firstname>\n",
      "    <lastname> Blogs</lastname>\n",
      "  </author>\n",
      "</book>\n",
      "\n",
      "\n",
      "\n",
      "########### Node end ###############\n",
      "length of node list: 1\n",
      "\n",
      "######## price greater than 35 title nodes ###########\n",
      "\n",
      "########### Node start ###############\n",
      "<title lang=\"en\">Learning XML</title>\n",
      "  \n",
      "\n",
      "########### Node end ###############\n",
      "length of node list: 1\n",
      "\n",
      "######## title nodes with attribute lang  ###########\n",
      "\n",
      "########### Node start ###############\n",
      "<title lang=\"ge\">\n",
      "    Harry Potter\n",
      "  </title>\n",
      "  \n",
      "\n",
      "########### Node end ###############\n",
      "########### Node start ###############\n",
      "<title lang=\"en\">Learning XML</title>\n",
      "  \n",
      "\n",
      "########### Node end ###############\n",
      "length of node list: 2\n",
      "\n",
      "######## title nodes with attribute lang='en' ###########\n",
      "\n",
      "########### Node start ###############\n",
      "<title lang=\"en\">Learning XML</title>\n",
      "  \n",
      "\n",
      "########### Node end ###############\n",
      "length of node list: 1\n",
      "\n"
     ]
    }
   ],
   "source": [
    "print(\"######## first node ###########\\n\")\n",
    "nodes = root.xpath('/bookstore/book[1]')\n",
    "print_nodes(nodes)\n",
    "print(\"length of node list: \"+str(len(nodes))+\"\\n\")\n",
    "\n",
    "print(\"######## last node ###########\\n\")\n",
    "nodes = root.xpath('/bookstore/book[last()]')\n",
    "print_nodes(nodes)\n",
    "print(\"length of node list: \"+str(len(nodes))+\"\\n\")\n",
    "\n",
    "print(\"######## pos < 2 node ###########\\n\")\n",
    "nodes = root.xpath('/bookstore/book[position()<2]')\n",
    "print_nodes(nodes)\n",
    "print(\"length of node list: \"+str(len(nodes))+\"\\n\")\n",
    "\n",
    "print(\"######## price greater than 35 nodes ###########\\n\")\n",
    "nodes = root.xpath('/bookstore/book[price>35.00]')\n",
    "print_nodes(nodes)\n",
    "print(\"length of node list: \"+str(len(nodes))+\"\\n\")\n",
    "\n",
    "print(\"######## price greater than 35 title nodes ###########\\n\")\n",
    "nodes = root.xpath('/bookstore/book[price>35.00]/title')\n",
    "print_nodes(nodes)\n",
    "print(\"length of node list: \"+str(len(nodes))+\"\\n\")\n",
    "\n",
    "print(\"######## title nodes with attribute lang  ###########\\n\")\n",
    "nodes = root.xpath('//title[@lang]')\n",
    "print_nodes(nodes)\n",
    "print(\"length of node list: \"+str(len(nodes))+\"\\n\")\n",
    "\n",
    "print(\"######## title nodes with attribute lang='en' ###########\\n\")\n",
    "nodes = root.xpath('//title[@lang=\"en\"]')\n",
    "print_nodes(nodes)\n",
    "print(\"length of node list: \"+str(len(nodes))+\"\\n\")\n"
   ]
  },
  {
   "cell_type": "markdown",
   "metadata": {},
   "source": [
    "### 3 Wildcards 通配符选取未知节点"
   ]
  },
  {
   "cell_type": "markdown",
   "metadata": {},
   "source": [
    "<img src='imgs/Wildcards.png' width=\"600\" height=\"400\" align=\"left\"/> <br>"
   ]
  },
  {
   "cell_type": "markdown",
   "metadata": {},
   "source": [
    "“ *”运算符用作通配符。 语法“ // book [2] / *”将选择第二本书中的所有元素节点。 语法“ // book [1] / @ *”将选择第一本书中的所有属性节点，语法“ // book [1] / nodes（）”将选择第一本书中所有类型的所有节点 （需要更多的调查，因为不希望自己挑选结点）。 下面的代码演示了这些选择。"
   ]
  },
  {
   "cell_type": "code",
   "execution_count": 16,
   "metadata": {},
   "outputs": [
    {
     "name": "stdout",
     "output_type": "stream",
     "text": [
      "######## element nodes in the second book ###########\n",
      "\n",
      "########### Node start ###############\n",
      "<title lang=\"en\">Learning XML</title>\n",
      "  \n",
      "\n",
      "########### Node end ###############\n",
      "########### Node start ###############\n",
      "<price currency=\"dollars\">39.95</price>\n",
      "  \n",
      "\n",
      "########### Node end ###############\n",
      "########### Node start ###############\n",
      "<author lang=\"en\">\n",
      "    <firstname>John</firstname>\n",
      "    <lastname> Smith</lastname>\n",
      "  </author>\n",
      "  \n",
      "\n",
      "########### Node end ###############\n",
      "########### Node start ###############\n",
      "<author lang=\"en\">\n",
      "    <firstname>Fred</firstname>\n",
      "    <lastname> Blogs</lastname>\n",
      "  </author>\n",
      "\n",
      "\n",
      "########### Node end ###############\n",
      "length of node list: 4\n",
      "\n",
      "######## attributes nodes in the first book  ###########\n",
      "\n",
      "########### Node start ###############\n",
      "node name = ge\n",
      "node attribute = lang\n",
      "node.is_attribute = True\n",
      "node.is_text = False\n",
      "node.is_tail = False\n",
      "########### Node end ###############\n",
      "########### Node start ###############\n",
      "node name = pounds\n",
      "node attribute = currency\n",
      "node.is_attribute = True\n",
      "node.is_text = False\n",
      "node.is_tail = False\n",
      "########### Node end ###############\n",
      "########### Node start ###############\n",
      "node name = ge\n",
      "node attribute = lang\n",
      "node.is_attribute = True\n",
      "node.is_text = False\n",
      "node.is_tail = False\n",
      "########### Node end ###############\n",
      "length of node list: 3\n",
      "\n",
      "######## all nodes in the first book ###########\n",
      "\n",
      "########### Node start ###############\n",
      "node name = \n",
      "  \n",
      "node attribute = None\n",
      "node.is_attribute = False\n",
      "node.is_text = True\n",
      "node.is_tail = False\n",
      "########### Node end ###############\n",
      "########### Node start ###############\n",
      "<title lang=\"ge\">\n",
      "    Harry Potter\n",
      "  </title>\n",
      "  \n",
      "\n",
      "########### Node end ###############\n",
      "########### Node start ###############\n",
      "node name = \n",
      "    Harry Potter\n",
      "  \n",
      "node attribute = None\n",
      "node.is_attribute = False\n",
      "node.is_text = True\n",
      "node.is_tail = False\n",
      "########### Node end ###############\n",
      "########### Node start ###############\n",
      "node name = \n",
      "  \n",
      "node attribute = None\n",
      "node.is_attribute = False\n",
      "node.is_text = False\n",
      "node.is_tail = True\n",
      "########### Node end ###############\n",
      "########### Node start ###############\n",
      "<price currency=\"pounds\">29.99</price>\n",
      "  \n",
      "\n",
      "########### Node end ###############\n",
      "########### Node start ###############\n",
      "node name = 29.99\n",
      "node attribute = None\n",
      "node.is_attribute = False\n",
      "node.is_text = True\n",
      "node.is_tail = False\n",
      "########### Node end ###############\n",
      "########### Node start ###############\n",
      "node name = \n",
      "  \n",
      "node attribute = None\n",
      "node.is_attribute = False\n",
      "node.is_text = False\n",
      "node.is_tail = True\n",
      "########### Node end ###############\n",
      "########### Node start ###############\n",
      "<author lang=\"ge\">\n",
      "    <firstname>Joanne</firstname>\n",
      "    <lastname> Rowling</lastname>\n",
      "  </author>\n",
      "\n",
      "\n",
      "########### Node end ###############\n",
      "########### Node start ###############\n",
      "node name = \n",
      "    \n",
      "node attribute = None\n",
      "node.is_attribute = False\n",
      "node.is_text = True\n",
      "node.is_tail = False\n",
      "########### Node end ###############\n",
      "########### Node start ###############\n",
      "<firstname>Joanne</firstname>\n",
      "    \n",
      "\n",
      "########### Node end ###############\n",
      "########### Node start ###############\n",
      "node name = Joanne\n",
      "node attribute = None\n",
      "node.is_attribute = False\n",
      "node.is_text = True\n",
      "node.is_tail = False\n",
      "########### Node end ###############\n",
      "########### Node start ###############\n",
      "node name = \n",
      "    \n",
      "node attribute = None\n",
      "node.is_attribute = False\n",
      "node.is_text = False\n",
      "node.is_tail = True\n",
      "########### Node end ###############\n",
      "########### Node start ###############\n",
      "<lastname> Rowling</lastname>\n",
      "  \n",
      "\n",
      "########### Node end ###############\n",
      "########### Node start ###############\n",
      "node name =  Rowling\n",
      "node attribute = None\n",
      "node.is_attribute = False\n",
      "node.is_text = True\n",
      "node.is_tail = False\n",
      "########### Node end ###############\n",
      "########### Node start ###############\n",
      "node name = \n",
      "  \n",
      "node attribute = None\n",
      "node.is_attribute = False\n",
      "node.is_text = False\n",
      "node.is_tail = True\n",
      "########### Node end ###############\n",
      "########### Node start ###############\n",
      "node name = \n",
      "\n",
      "node attribute = None\n",
      "node.is_attribute = False\n",
      "node.is_text = False\n",
      "node.is_tail = True\n",
      "########### Node end ###############\n",
      "length of node list: 16\n",
      "\n"
     ]
    }
   ],
   "source": [
    "print(\"######## element nodes in the second book ###########\\n\")\n",
    "nodes = root.xpath('//book[2]/*')\n",
    "print_nodes(nodes)\n",
    "print(\"length of node list: \"+str(len(nodes))+\"\\n\")\n",
    "\n",
    "print(\"######## attributes nodes in the first book  ###########\\n\")\n",
    "nodes = root.xpath('//book[1]//@*')\n",
    "print_nodes(nodes)\n",
    "print(\"length of node list: \"+str(len(nodes))+\"\\n\")\n",
    "\n",
    "print(\"######## all nodes in the first book ###########\\n\")\n",
    "nodes = root.xpath('//book[1]//node()')\n",
    "print_nodes(nodes)\n",
    "print(\"length of node list: \"+str(len(nodes))+\"\\n\")"
   ]
  },
  {
   "cell_type": "markdown",
   "metadata": {},
   "source": [
    "### 4 Axes（轴）\n",
    "<img src='imgs/axes.png' width=\"600\" height=\"300\" align=\"left\"/> <br>\n",
    "\n",
    "xpath \"axes\" 轴可定义相对于当前节点的节点集。例如 xpath 语法 \"//firstname/parent::*\", 轴 parent 选则 \"firstname\" 节点的parents节点. 轴后可跟路径与步，例如前面的：：。下面的代码演示了如何使用“轴”语法。"
   ]
  },
  {
   "cell_type": "code",
   "execution_count": 17,
   "metadata": {},
   "outputs": [
    {
     "name": "stdout",
     "output_type": "stream",
     "text": [
      "######## parents of firstname nodes ###########\n",
      "\n",
      "########### Node start ###############\n",
      "<author lang=\"ge\">\n",
      "    <firstname>Joanne</firstname>\n",
      "    <lastname> Rowling</lastname>\n",
      "  </author>\n",
      "\n",
      "\n",
      "########### Node end ###############\n",
      "########### Node start ###############\n",
      "<author lang=\"en\">\n",
      "    <firstname>John</firstname>\n",
      "    <lastname> Smith</lastname>\n",
      "  </author>\n",
      "  \n",
      "\n",
      "########### Node end ###############\n",
      "########### Node start ###############\n",
      "<author lang=\"en\">\n",
      "    <firstname>Fred</firstname>\n",
      "    <lastname> Blogs</lastname>\n",
      "  </author>\n",
      "\n",
      "\n",
      "########### Node end ###############\n",
      "length of node list: 3\n",
      "\n",
      "######## ancestors of firstname nodes ###########\n",
      "\n",
      "########### Node start ###############\n",
      "<bookstore>\n",
      "\n",
      "<book>\n",
      "  <title lang=\"ge\">\n",
      "    Harry Potter\n",
      "  </title>\n",
      "  <price currency=\"pounds\">29.99</price>\n",
      "  <author lang=\"ge\">\n",
      "    <firstname>Joanne</firstname>\n",
      "    <lastname> Rowling</lastname>\n",
      "  </author>\n",
      "</book>\n",
      "\n",
      "<book>\n",
      "  <title lang=\"en\">Learning XML</title>\n",
      "  <price currency=\"dollars\">39.95</price>\n",
      "  <author lang=\"en\">\n",
      "    <firstname>John</firstname>\n",
      "    <lastname> Smith</lastname>\n",
      "  </author>\n",
      "  <author lang=\"en\">\n",
      "    <firstname>Fred</firstname>\n",
      "    <lastname> Blogs</lastname>\n",
      "  </author>\n",
      "</book>\n",
      "\n",
      "</bookstore>\n",
      "\n",
      "########### Node end ###############\n",
      "########### Node start ###############\n",
      "<book>\n",
      "  <title lang=\"ge\">\n",
      "    Harry Potter\n",
      "  </title>\n",
      "  <price currency=\"pounds\">29.99</price>\n",
      "  <author lang=\"ge\">\n",
      "    <firstname>Joanne</firstname>\n",
      "    <lastname> Rowling</lastname>\n",
      "  </author>\n",
      "</book>\n",
      "\n",
      "\n",
      "\n",
      "########### Node end ###############\n",
      "########### Node start ###############\n",
      "<author lang=\"ge\">\n",
      "    <firstname>Joanne</firstname>\n",
      "    <lastname> Rowling</lastname>\n",
      "  </author>\n",
      "\n",
      "\n",
      "########### Node end ###############\n",
      "########### Node start ###############\n",
      "<book>\n",
      "  <title lang=\"en\">Learning XML</title>\n",
      "  <price currency=\"dollars\">39.95</price>\n",
      "  <author lang=\"en\">\n",
      "    <firstname>John</firstname>\n",
      "    <lastname> Smith</lastname>\n",
      "  </author>\n",
      "  <author lang=\"en\">\n",
      "    <firstname>Fred</firstname>\n",
      "    <lastname> Blogs</lastname>\n",
      "  </author>\n",
      "</book>\n",
      "\n",
      "\n",
      "\n",
      "########### Node end ###############\n",
      "########### Node start ###############\n",
      "<author lang=\"en\">\n",
      "    <firstname>John</firstname>\n",
      "    <lastname> Smith</lastname>\n",
      "  </author>\n",
      "  \n",
      "\n",
      "########### Node end ###############\n",
      "########### Node start ###############\n",
      "<author lang=\"en\">\n",
      "    <firstname>Fred</firstname>\n",
      "    <lastname> Blogs</lastname>\n",
      "  </author>\n",
      "\n",
      "\n",
      "########### Node end ###############\n",
      "length of node list: 6\n",
      "\n",
      "######## attribute of firstname nodes ###########\n",
      "\n",
      "########### Node start ###############\n",
      "node name = ge\n",
      "node attribute = lang\n",
      "node.is_attribute = True\n",
      "node.is_text = False\n",
      "node.is_tail = False\n",
      "########### Node end ###############\n",
      "########### Node start ###############\n",
      "node name = en\n",
      "node attribute = lang\n",
      "node.is_attribute = True\n",
      "node.is_text = False\n",
      "node.is_tail = False\n",
      "########### Node end ###############\n",
      "########### Node start ###############\n",
      "node name = en\n",
      "node attribute = lang\n",
      "node.is_attribute = True\n",
      "node.is_text = False\n",
      "node.is_tail = False\n",
      "########### Node end ###############\n",
      "length of node list: 3\n",
      "\n",
      "########  child of author nodes ###########\n",
      "\n",
      "########### Node start ###############\n",
      "<firstname>Joanne</firstname>\n",
      "    \n",
      "\n",
      "########### Node end ###############\n",
      "########### Node start ###############\n",
      "<lastname> Rowling</lastname>\n",
      "  \n",
      "\n",
      "########### Node end ###############\n",
      "########### Node start ###############\n",
      "<firstname>John</firstname>\n",
      "    \n",
      "\n",
      "########### Node end ###############\n",
      "########### Node start ###############\n",
      "<lastname> Smith</lastname>\n",
      "  \n",
      "\n",
      "########### Node end ###############\n",
      "########### Node start ###############\n",
      "<firstname>Fred</firstname>\n",
      "    \n",
      "\n",
      "########### Node end ###############\n",
      "########### Node start ###############\n",
      "<lastname> Blogs</lastname>\n",
      "  \n",
      "\n",
      "########### Node end ###############\n",
      "length of node list: 6\n",
      "\n",
      "########  following-sibling of price ###########\n",
      "\n",
      "########### Node start ###############\n",
      "<author lang=\"ge\">\n",
      "    <firstname>Joanne</firstname>\n",
      "    <lastname> Rowling</lastname>\n",
      "  </author>\n",
      "\n",
      "\n",
      "########### Node end ###############\n",
      "########### Node start ###############\n",
      "<author lang=\"en\">\n",
      "    <firstname>John</firstname>\n",
      "    <lastname> Smith</lastname>\n",
      "  </author>\n",
      "  \n",
      "\n",
      "########### Node end ###############\n",
      "########### Node start ###############\n",
      "<author lang=\"en\">\n",
      "    <firstname>Fred</firstname>\n",
      "    <lastname> Blogs</lastname>\n",
      "  </author>\n",
      "\n",
      "\n",
      "########### Node end ###############\n",
      "length of node list: 3\n",
      "\n"
     ]
    }
   ],
   "source": [
    "print(\"######## parents of firstname nodes ###########\\n\")\n",
    "nodes = root.xpath('//firstname/parent::*')\n",
    "print_nodes(nodes)\n",
    "print(\"length of node list: \"+str(len(nodes))+\"\\n\")\n",
    "\n",
    "print(\"######## ancestors of firstname nodes ###########\\n\")\n",
    "nodes = root.xpath('//firstname/ancestor::*')\n",
    "print_nodes(nodes)\n",
    "print(\"length of node list: \"+str(len(nodes))+\"\\n\")\n",
    "\n",
    "print(\"######## attribute of firstname nodes ###########\\n\")\n",
    "nodes = root.xpath('//author/attribute::*')\n",
    "print_nodes(nodes)\n",
    "print(\"length of node list: \"+str(len(nodes))+\"\\n\")\n",
    "\n",
    "print(\"########  child of author nodes ###########\\n\")\n",
    "nodes = root.xpath('//author/child::*')\n",
    "print_nodes(nodes)\n",
    "print(\"length of node list: \"+str(len(nodes))+\"\\n\")\n",
    "\n",
    "print(\"########  following-sibling of price ###########\\n\")\n",
    "nodes = root.xpath('//price/following-sibling::*')\n",
    "print_nodes(nodes)\n",
    "print(\"length of node list: \"+str(len(nodes))+\"\\n\")\n",
    "\n"
   ]
  },
  {
   "cell_type": "markdown",
   "metadata": {},
   "source": [
    "#### 位置路径表达（Location Path Expression）\n",
    "\n",
    "* absolute path  /step/step/step\n",
    "* relative path  - step/step/step\n",
    "\n",
    "步（step）的语法:\n",
    "\n",
    "\"axisname::nodetest[predicate]\"\n",
    "\n",
    "E.g. /bookstore/book[2]/author/child::firstname\n",
    "\n",
    "将在第二本书book节点中选择所有属于作者author子节点的名字firstname节点。"
   ]
  },
  {
   "cell_type": "code",
   "execution_count": 18,
   "metadata": {},
   "outputs": [
    {
     "name": "stdout",
     "output_type": "stream",
     "text": [
      "######## firstname children of author in book 2 ###########\n",
      "\n",
      "########### Node start ###############\n",
      "<firstname>John</firstname>\n",
      "    \n",
      "\n",
      "########### Node end ###############\n",
      "########### Node start ###############\n",
      "<firstname>Fred</firstname>\n",
      "    \n",
      "\n",
      "########### Node end ###############\n",
      "length of node list: 2\n",
      "\n",
      "######## all children of book 2 ###########\n",
      "\n",
      "########### Node start ###############\n",
      "<title lang=\"en\">Learning XML</title>\n",
      "  \n",
      "\n",
      "########### Node end ###############\n",
      "########### Node start ###############\n",
      "<price currency=\"dollars\">39.95</price>\n",
      "  \n",
      "\n",
      "########### Node end ###############\n",
      "########### Node start ###############\n",
      "<author lang=\"en\">\n",
      "    <firstname>John</firstname>\n",
      "    <lastname> Smith</lastname>\n",
      "  </author>\n",
      "  \n",
      "\n",
      "########### Node end ###############\n",
      "########### Node start ###############\n",
      "<author lang=\"en\">\n",
      "    <firstname>Fred</firstname>\n",
      "    <lastname> Blogs</lastname>\n",
      "  </author>\n",
      "\n",
      "\n",
      "########### Node end ###############\n",
      "length of node list: 4\n",
      "\n",
      "######## the second author of book 2 ###########\n",
      "\n",
      "########### Node start ###############\n",
      "<author lang=\"en\">\n",
      "    <firstname>Fred</firstname>\n",
      "    <lastname> Blogs</lastname>\n",
      "  </author>\n",
      "\n",
      "\n",
      "########### Node end ###############\n",
      "length of node list: 1\n",
      "\n"
     ]
    }
   ],
   "source": [
    "print(\"######## firstname children of author in book 2 ###########\\n\")\n",
    "nodes = root.xpath('/bookstore/book[2]/author/child::firstname')\n",
    "print_nodes(nodes)\n",
    "print(\"length of node list: \"+str(len(nodes))+\"\\n\")\n",
    "\n",
    "print(\"######## all children of book 2 ###########\\n\")\n",
    "nodes = root.xpath('/bookstore/book[2]/child::*')\n",
    "print_nodes(nodes)\n",
    "print(\"length of node list: \"+str(len(nodes))+\"\\n\")\n",
    "\n",
    "print(\"######## the second author of book 2 ###########\\n\")\n",
    "nodes = root.xpath('/bookstore/book[2]/descendant::author[position()=2]')\n",
    "print_nodes(nodes)\n",
    "print(\"length of node list: \"+str(len(nodes))+\"\\n\")\n",
    "\n"
   ]
  },
  {
   "cell_type": "markdown",
   "metadata": {},
   "source": [
    "<img src='imgs/step.png' width=\"600\" height=\"300\" align=\"left\"/> <br>"
   ]
  },
  {
   "cell_type": "markdown",
   "metadata": {},
   "source": [
    "### 5 Operators（运算符）\n",
    "\n",
    "“ |” 符号可用于指定一个xpath表达式或另一个。 例如。 “ // book / title | // book / author”。 “and”和“or”运算符可用于指定更复杂的谓词。 例如。 // book [price <40 and price> 30]将选择价格大于30磅且小于40磅的所有书籍。 同样，// book [2] / author [firstname =“ John”or firstname =“ Fred”]将选择第二本书中所有名字为John或Fred的作者。"
   ]
  },
  {
   "cell_type": "markdown",
   "metadata": {},
   "source": [
    "<img src='imgs/Operators.png' width=\"600\" height=\"300\" align=\"left\"/> <br>"
   ]
  },
  {
   "cell_type": "code",
   "execution_count": 19,
   "metadata": {},
   "outputs": [
    {
     "name": "stdout",
     "output_type": "stream",
     "text": [
      "######## selecting title or author within the book node ###########\n",
      "\n",
      "########### Node start ###############\n",
      "<title lang=\"ge\">\n",
      "    Harry Potter\n",
      "  </title>\n",
      "  \n",
      "\n",
      "########### Node end ###############\n",
      "########### Node start ###############\n",
      "<author lang=\"ge\">\n",
      "    <firstname>Joanne</firstname>\n",
      "    <lastname> Rowling</lastname>\n",
      "  </author>\n",
      "\n",
      "\n",
      "########### Node end ###############\n",
      "########### Node start ###############\n",
      "<title lang=\"en\">Learning XML</title>\n",
      "  \n",
      "\n",
      "########### Node end ###############\n",
      "########### Node start ###############\n",
      "<author lang=\"en\">\n",
      "    <firstname>John</firstname>\n",
      "    <lastname> Smith</lastname>\n",
      "  </author>\n",
      "  \n",
      "\n",
      "########### Node end ###############\n",
      "########### Node start ###############\n",
      "<author lang=\"en\">\n",
      "    <firstname>Fred</firstname>\n",
      "    <lastname> Blogs</lastname>\n",
      "  </author>\n",
      "\n",
      "\n",
      "########### Node end ###############\n",
      "length of node list: 5\n",
      "\n",
      "######## selecting books with price less than 40 or greater than 30 ###########\n",
      "\n",
      "########### Node start ###############\n",
      "<book>\n",
      "  <title lang=\"en\">Learning XML</title>\n",
      "  <price currency=\"dollars\">39.95</price>\n",
      "  <author lang=\"en\">\n",
      "    <firstname>John</firstname>\n",
      "    <lastname> Smith</lastname>\n",
      "  </author>\n",
      "  <author lang=\"en\">\n",
      "    <firstname>Fred</firstname>\n",
      "    <lastname> Blogs</lastname>\n",
      "  </author>\n",
      "</book>\n",
      "\n",
      "\n",
      "\n",
      "########### Node end ###############\n",
      "length of node list: 1\n",
      "\n",
      "######## selecting authors with firstname John or Fred in the second book ###########\n",
      "\n",
      "########### Node start ###############\n",
      "<author lang=\"en\">\n",
      "    <firstname>John</firstname>\n",
      "    <lastname> Smith</lastname>\n",
      "  </author>\n",
      "  \n",
      "\n",
      "########### Node end ###############\n",
      "########### Node start ###############\n",
      "<author lang=\"en\">\n",
      "    <firstname>Fred</firstname>\n",
      "    <lastname> Blogs</lastname>\n",
      "  </author>\n",
      "\n",
      "\n",
      "########### Node end ###############\n",
      "length of node list: 2\n",
      "\n"
     ]
    }
   ],
   "source": [
    "print(\"######## selecting title or author within the book node ###########\\n\")\n",
    "nodes = root.xpath('//book/title | //book/author')\n",
    "print_nodes(nodes)\n",
    "print(\"length of node list: \"+str(len(nodes))+\"\\n\")\n",
    "\n",
    "print(\"######## selecting books with price less than 40 or greater than 30 ###########\\n\")\n",
    "nodes = root.xpath('//book[price < 40 and price > 30]')\n",
    "print_nodes(nodes)\n",
    "print(\"length of node list: \"+str(len(nodes))+\"\\n\")\n",
    "\n",
    "print(\"######## selecting authors with firstname John or Fred in the second book ###########\\n\")\n",
    "nodes = root.xpath('//book[2]/author[firstname=\"John\" or firstname=\"Fred\"]')\n",
    "print_nodes(nodes)\n",
    "print(\"length of node list: \"+str(len(nodes))+\"\\n\")"
   ]
  },
  {
   "cell_type": "markdown",
   "metadata": {},
   "source": [
    "### 练习\n",
    "1)、请求获取豆瓣-三生三世电影的评论页面：  https://movie.douban.com/subject/25823277/comments?status=P\n",
    "\n",
    "2)、请求并获取安普网维生素相关化工品是网页信息：  http://www.anpel.com.cn/Searchnew.aspx?Types=6&Type=0&KeyWord=CDCT"
   ]
  },
  {
   "cell_type": "code",
   "execution_count": 20,
   "metadata": {},
   "outputs": [],
   "source": [
    "#Getting the page and parsing it\n",
    "get_url=' https://movie.douban.com/subject/25823277/comments?status=P'\n",
    "ss=requests.Session()   #设置会话方式请求\n",
    "\n",
    "#设置User-Agent信息\n",
    "headers = {\n",
    "    'User-Agent': 'Mozilla/5.0 (Windows NT 10.0; Win64; x64; rv:70.0) Gecko/20100101 Firefox/70.0'\n",
    "}\n",
    "\n",
    "pageDB = ss.get(get_url,headers=headers)\n",
    "#print(pageDB.text)"
   ]
  },
  {
   "cell_type": "code",
   "execution_count": 21,
   "metadata": {},
   "outputs": [
    {
     "name": "stdout",
     "output_type": "stream",
     "text": [
      "<Element html at 0x221fc7c06d8>\n",
      "b'<html lang=\"zh-CN\" class=\"ua-windows ua-ff70\">\\n<head>\\n    \\n    <meta name=\"renderer\" content=\"webkit\">\\n    <meta name=\"referrer\" content=\"always\">\\n    <meta name=\"google-site-verification\" content=\"ok0wCgT20tBBgo9_zat2iAcimtN4Ftf5ccsh092Xeyw\">\\n    <title>\\n\\n\\xe4\\xb8\\x89\\xe7\\x94\\x9f\\xe4\\xb8\\x89\\xe4\\xb8\\x96\\xe5\\x8d\\x81\\xe9\\x87\\x8c\\xe6\\xa1\\x83\\xe8\\x8a\\xb1 \\xe7\\x9f\\xad\\xe8\\xaf\\x84\\n</title>\\n    \\n    <meta name=\"baidu-site-verification\" content=\"cZdR4xxR7RxmM4zE\">\\n    <meta http-equiv=\"Pragma\" content=\"no-cache\">\\n    <meta http-equiv=\"Expires\" content=\"Sun, 6 Mar 2005 01:00:00 GMT\">\\n    \\n    <meta name=\"keywords\" content=\"\\xe4\\xb8\\x89\\xe7\\x94\\x9f\\xe4\\xb8\\x89\\xe4\\xb8\\x96\\xe5\\x8d\\x81\\xe9\\x87\\x8c\\xe6\\xa1\\x83\\xe8\\x8a\\xb1,\\xe5\\xbd\\xb1\\xe8\\xae\\xaf,\\xe6\\x8e\\x92\\xe7\\x89\\x87,\\xe6\\x94\\xbe\\xe6\\x98\\xa0\\xe6\\x97\\xb6\\xe9\\x97\\xb4,\\xe7\\x94\\xb5\\xe5\\xbd\\xb1\\xe7\\xa5\\xa8\\xe4\\xbb\\xb7,\\xe5\\x9c\\xa8\\xe7\\xba\\xbf\\xe8\\xb4\\xad\\xe7\\xa5\\xa8\">\\n    <meta name=\"description\" content=\"\\xe4\\xb8\\x89\\xe7\\x94\\x9f\\xe4\\xb8\\x89\\xe4\\xb8\\x96\\xe5\\x8d\\x81\\xe9\\x87\\x8c\\xe6\\xa1\\x83\\xe8\\x8a\\xb1\\xe7\\x9f\\xad\\xe8\\xaf\\x84\">\\n    <meta name=\"mobile-agent\" content=\"format=html5; url=http://m.douban.com/movie/subject/25823277/comments\">\\n    <script type=\"text/javascript\" src=\"https://img3.doubanio.com/f/shire/77323ae72a612bba8b65f845491513ff3329b1bb/js/do.js\" data-cfg-autoload=\"false\"></script>\\n\\n    <link rel=\"apple-touch-icon\" href=\"https://img3.doubanio.com/f/movie/d59b2715fdea4968a450ee5f6c95c7d7a2030065/pics/movie/apple-touch-icon.png\">\\n    <link href=\"https://img3.doubanio.com/f/shire/3e5dfc68b0f376484c50cf08a58bbca3700911dc/css/douban.css\" rel=\"stylesheet\" type=\"text/css\">\\n    <link href=\"https://img3.doubanio.com/f/shire/ae3f5a3e3085968370b1fc63afcecb22d3284848/css/separation/_all.css\" rel=\"stylesheet\" type=\"text/css\">\\n    <link href=\"https://img3.doubanio.com/f/movie/8864d3756094f5272d3c93e30ee2e324665855b0/css/movie/base/init.css\" rel=\"stylesheet\">\\n    <script type=\"text/javascript\">var _head_start = new Date();</script>\\n    <script type=\"text/javascript\" src=\"https://img3.doubanio.com/f/movie/0495cb173e298c28593766009c7b0a953246c5b5/js/movie/lib/jquery.js\"></script>\\n    <script type=\"text/javascript\" src=\"https://img3.doubanio.com/f/shire/5ecaf46d6954d5a30bc7d99be86ae34031646e00/js/douban.js\"></script>\\n    <script type=\"text/javascript\" src=\"https://img3.doubanio.com/f/shire/0efdc63b77f895eaf85281fb0e44d435c6239a3f/js/separation/_all.js\"></script>\\n    \\n    <style type=\"text/css\"></style>\\n    <style type=\"text/css\">img { max-width: 100%; }</style>\\n    <script type=\"text/javascript\"></script>\\n    <link rel=\"stylesheet\" href=\"https://img3.doubanio.com/misc/mixed_static/73f5e3064e750b6c.css\">\\n\\n    <link rel=\"shortcut icon\" href=\"https://img3.doubanio.com/favicon.ico\" type=\"image/x-icon\">\\n</head>\\n\\n<body>\\n  \\n    <script type=\"text/javascript\">var _body_start = new Date();</script>\\n\\n    \\n    \\n\\n\\n\\n    <link href=\"//img3.doubanio.com/dae/accounts/resources/1f8d15e/shire/bundle.css\" rel=\"stylesheet\" type=\"text/css\">\\n\\n\\n\\n<div id=\"db-global-nav\" class=\"global-nav\">\\n  <div class=\"bd\">\\n    \\n<div class=\"top-nav-info\">\\n  <a href=\"https://accounts.douban.com/passport/login?source=movie\" class=\"nav-login\" rel=\"nofollow\">\\xe7\\x99\\xbb\\xe5\\xbd\\x95/\\xe6\\xb3\\xa8\\xe5\\x86\\x8c</a>\\n</div>\\n\\n\\n    <div class=\"top-nav-doubanapp\">\\n  <a href=\"https://www.douban.com/doubanapp/app?channel=top-nav\" class=\"lnk-doubanapp\">\\xe4\\xb8\\x8b\\xe8\\xbd\\xbd\\xe8\\xb1\\x86\\xe7\\x93\\xa3\\xe5\\xae\\xa2\\xe6\\x88\\xb7\\xe7\\xab\\xaf</a>\\n  <div id=\"doubanapp-tip\">\\n    <a href=\"https://www.douban.com/doubanapp/app?channel=qipao\" class=\"tip-link\">\\xe8\\xb1\\x86\\xe7\\x93\\xa3 <span class=\"version\">6.0</span> \\xe5\\x85\\xa8\\xe6\\x96\\xb0\\xe5\\x8f\\x91\\xe5\\xb8\\x83</a>\\n    <a href=\"javascript:%20void%200;\" class=\"tip-close\">\\xc3\\x97</a>\\n  </div>\\n  <div id=\"top-nav-appintro\" class=\"more-items\">\\n    <p class=\"appintro-title\">\\xe8\\xb1\\x86\\xe7\\x93\\xa3</p>\\n    <p class=\"qrcode\">\\xe6\\x89\\xab\\xe7\\xa0\\x81\\xe7\\x9b\\xb4\\xe6\\x8e\\xa5\\xe4\\xb8\\x8b\\xe8\\xbd\\xbd</p>\\n    <div class=\"download\">\\n      <a href=\"https://www.douban.com/doubanapp/redirect?channel=top-nav&amp;direct_dl=1&amp;download=iOS\">iPhone</a>\\n      <span>\\xc2\\xb7</span>\\n      <a href=\"https://www.douban.com/doubanapp/redirect?channel=top-nav&amp;direct_dl=1&amp;download=Android\" class=\"download-android\">Android</a>\\n    </div>\\n  </div>\\n</div>\\n\\n    \\n\\n\\n<div class=\"global-nav-items\">\\n  <ul>\\n    <li class=\"\">\\n      <a href=\"https://www.douban.com\" target=\"_blank\" data-moreurl-dict=\\'{\"from\":\"top-nav-click-main\",\"uid\":\"0\"}\\'>\\xe8\\xb1\\x86\\xe7\\x93\\xa3</a>\\n    </li>\\n    <li class=\"\">\\n      <a href=\"https://book.douban.com\" target=\"_blank\" data-moreurl-dict=\\'{\"from\":\"top-nav-click-book\",\"uid\":\"0\"}\\'>\\xe8\\xaf\\xbb\\xe4\\xb9\\xa6</a>\\n    </li>\\n    <li class=\"on\">\\n      <a href=\"https://movie.douban.com\" data-moreurl-dict=\\'{\"from\":\"top-nav-click-movie\",\"uid\":\"0\"}\\'>\\xe7\\x94\\xb5\\xe5\\xbd\\xb1</a>\\n    </li>\\n    <li class=\"\">\\n      <a href=\"https://music.douban.com\" target=\"_blank\" data-moreurl-dict=\\'{\"from\":\"top-nav-click-music\",\"uid\":\"0\"}\\'>\\xe9\\x9f\\xb3\\xe4\\xb9\\x90</a>\\n    </li>\\n    <li class=\"\">\\n      <a href=\"https://www.douban.com/location\" target=\"_blank\" data-moreurl-dict=\\'{\"from\":\"top-nav-click-location\",\"uid\":\"0\"}\\'>\\xe5\\x90\\x8c\\xe5\\x9f\\x8e</a>\\n    </li>\\n    <li class=\"\">\\n      <a href=\"https://www.douban.com/group\" target=\"_blank\" data-moreurl-dict=\\'{\"from\":\"top-nav-click-group\",\"uid\":\"0\"}\\'>\\xe5\\xb0\\x8f\\xe7\\xbb\\x84</a>\\n    </li>\\n    <li class=\"\">\\n      <a href=\"https://read.douban.com/?dcs=top-nav&amp;dcm=douban\" target=\"_blank\" data-moreurl-dict=\\'{\"from\":\"top-nav-click-read\",\"uid\":\"0\"}\\'>\\xe9\\x98\\x85\\xe8\\xaf\\xbb</a>\\n    </li>\\n    <li class=\"\">\\n      <a href=\"https://douban.fm/?from_=shire_top_nav\" target=\"_blank\" data-moreurl-dict=\\'{\"from\":\"top-nav-click-fm\",\"uid\":\"0\"}\\'>FM</a>\\n    </li>\\n    <li class=\"\">\\n      <a href=\"https://time.douban.com/?dt_time_source=douban-web_top_nav\" target=\"_blank\" data-moreurl-dict=\\'{\"from\":\"top-nav-click-time\",\"uid\":\"0\"}\\'>\\xe6\\x97\\xb6\\xe9\\x97\\xb4</a>\\n    </li>\\n    <li class=\"\">\\n      <a href=\"https://market.douban.com/?utm_campaign=douban_top_nav&amp;utm_source=douban&amp;utm_medium=pc_web\" target=\"_blank\" data-moreurl-dict=\\'{\"from\":\"top-nav-click-market\",\"uid\":\"0\"}\\'>\\xe8\\xb1\\x86\\xe5\\x93\\x81</a>\\n    </li>\\n  </ul>\\n</div>\\n\\n  </div>\\n</div>\\n<script>\\n  ;window._GLOBAL_NAV = {\\n    DOUBAN_URL: \"https://www.douban.com\",\\n    N_NEW_NOTIS: 0,\\n    N_NEW_DOUMAIL: 0\\n  };\\n</script>\\n\\n\\n\\n    <script src=\"//img3.doubanio.com/dae/accounts/resources/1f8d15e/shire/bundle.js\" defer></script>\\n\\n\\n\\n\\n    \\n\\n\\n\\n    <link href=\"//img3.doubanio.com/dae/accounts/resources/1f8d15e/movie/bundle.css\" rel=\"stylesheet\" type=\"text/css\">\\n\\n\\n\\n\\n<div id=\"db-nav-movie\" class=\"nav\">\\n  <div class=\"nav-wrap\">\\n  <div class=\"nav-primary\">\\n    <div class=\"nav-logo\">\\n      <a href=\"https://movie.douban.com\">\\xe8\\xb1\\x86\\xe7\\x93\\xa3\\xe7\\x94\\xb5\\xe5\\xbd\\xb1</a>\\n    </div>\\n    <div class=\"nav-search\">\\n      <form action=\"https://search.douban.com/movie/subject_search\" method=\"get\">\\n        <fieldset>\\n          <legend>\\xe6\\x90\\x9c\\xe7\\xb4\\xa2\\xef\\xbc\\x9a</legend>\\n          <label for=\"inp-query\">\\n          </label>\\n          <div class=\"inp\"><input id=\"inp-query\" name=\"search_text\" size=\"22\" maxlength=\"60\" placeholder=\"\\xe6\\x90\\x9c\\xe7\\xb4\\xa2\\xe7\\x94\\xb5\\xe5\\xbd\\xb1\\xe3\\x80\\x81\\xe7\\x94\\xb5\\xe8\\xa7\\x86\\xe5\\x89\\xa7\\xe3\\x80\\x81\\xe7\\xbb\\xbc\\xe8\\x89\\xba\\xe3\\x80\\x81\\xe5\\xbd\\xb1\\xe4\\xba\\xba\" value=\"\"></div>\\n          <div class=\"inp-btn\"><input type=\"submit\" value=\"\\xe6\\x90\\x9c\\xe7\\xb4\\xa2\"></div>\\n          <input type=\"hidden\" name=\"cat\" value=\"1002\">\\n        </fieldset>\\n      </form>\\n    </div>\\n  </div>\\n  </div>\\n  <div class=\"nav-secondary\">\\n    \\n\\n<div class=\"nav-items\">\\n  <ul>\\n    <li>\\n<a href=\"https://movie.douban.com/cinema/nowplaying/\">\\xe5\\xbd\\xb1\\xe8\\xae\\xaf&amp;\\xe8\\xb4\\xad\\xe7\\xa5\\xa8</a>\\n    </li>\\n    <li>\\n<a href=\"https://movie.douban.com/explore\">\\xe9\\x80\\x89\\xe7\\x94\\xb5\\xe5\\xbd\\xb1</a>\\n    </li>\\n    <li>\\n<a href=\"https://movie.douban.com/tv/\">\\xe7\\x94\\xb5\\xe8\\xa7\\x86\\xe5\\x89\\xa7</a>\\n    </li>\\n    <li>\\n<a href=\"https://movie.douban.com/chart\">\\xe6\\x8e\\x92\\xe8\\xa1\\x8c\\xe6\\xa6\\x9c</a>\\n    </li>\\n    <li>\\n<a href=\"https://movie.douban.com/tag/\">\\xe5\\x88\\x86\\xe7\\xb1\\xbb</a>\\n    </li>\\n    <li>\\n<a href=\"https://movie.douban.com/review/best/\">\\xe5\\xbd\\xb1\\xe8\\xaf\\x84</a>\\n    </li>\\n    <li>\\n<a href=\"https://movie.douban.com/annual/2019?source=navigation\">2019\\xe5\\xb9\\xb4\\xe5\\xba\\xa6\\xe6\\xa6\\x9c\\xe5\\x8d\\x95</a>\\n    </li>\\n    <li>\\n<a href=\"https://m.douban.com/standbyme/annual2019?source=navigation\" target=\"_blank\">2019\\xe4\\xb9\\xa6\\xe5\\xbd\\xb1\\xe9\\x9f\\xb3\\xe6\\x8a\\xa5\\xe5\\x91\\x8a</a>\\n    </li>\\n  </ul>\\n</div>\\n\\n    <a href=\"https://movie.douban.com/annual/2019?source=movie_navigation\" class=\"movieannual\"></a>\\n  </div>\\n</div>\\n\\n<script id=\"suggResult\" type=\"text/x-jquery-tmpl\">\\n  <li data-link=\"{{= url}}\">\\n            <a href=\"{{= url}}\" onclick=\"moreurl(this, {from:\\'movie_search_sugg\\', query:\\'{{= keyword }}\\', subject_id:\\'{{= id}}\\', i: \\'{{= index}}\\', type: \\'{{= type}}\\'})\">\\n            <img src=\"{{= img}}\" width=\"40\" />\\n            <p>\\n                <em>{{= title}}</em>\\n                {{if year}}\\n                    <span>{{= year}}</span>\\n                {{/if}}\\n                {{if sub_title}}\\n                    <br /><span>{{= sub_title}}</span>\\n                {{/if}}\\n                {{if address}}\\n                    <br /><span>{{= address}}</span>\\n                {{/if}}\\n                {{if episode}}\\n                    {{if episode==\"unknow\"}}\\n                        <br /><span>\\xe9\\x9b\\x86\\xe6\\x95\\xb0\\xe6\\x9c\\xaa\\xe7\\x9f\\xa5</span>\\n                    {{else}}\\n                        <br /><span>\\xe5\\x85\\xb1{{= episode}}\\xe9\\x9b\\x86</span>\\n                    {{/if}}\\n                {{/if}}\\n            </p>\\n        </a>\\n        </li>\\n  </script>\\n\\n\\n\\n\\n    <script src=\"//img3.doubanio.com/dae/accounts/resources/1f8d15e/movie/bundle.js\" defer></script>\\n\\n\\n\\n\\n\\n    \\n    <div id=\"wrapper\">\\n        \\n\\n        \\n    <div id=\"content\">\\n        \\n    <h1>\\xe4\\xb8\\x89\\xe7\\x94\\x9f\\xe4\\xb8\\x89\\xe4\\xb8\\x96\\xe5\\x8d\\x81\\xe9\\x87\\x8c\\xe6\\xa1\\x83\\xe8\\x8a\\xb1 \\xe7\\x9f\\xad\\xe8\\xaf\\x84</h1>\\n\\n        <div class=\"grid-16-8 clearfix\">\\n            \\n            \\n            <div class=\"article\">\\n                \\n    \\n\\n\\n\\n<div class=\"clearfix Comments-hd\">\\n    <ul class=\"fleft CommentTabs\">\\n            <li class=\"is-active\">\\n                <span>\\xe7\\x9c\\x8b\\xe8\\xbf\\x87(90244)</span>\\n            </li>\\n\\n            <li>\\n                <a href=\"?status=F\">\\xe6\\x83\\xb3\\xe7\\x9c\\x8b(3749)</a>\\n            </li>\\n    </ul>\\n    <div class=\"fright\">\\n        \\n        <a href=\"javascript:;\" class=\"comment_btn j a_show_login\" name=\"cbtn-25823277\">\\xe6\\x88\\x91\\xe6\\x9d\\xa5\\xe5\\x86\\x99\\xe7\\x9f\\xad\\xe8\\xaf\\x84</a>\\n    </div>\\n</div>\\n\\n    \\n    \\n    <div class=\"title_line clearfix color_gray\">\\n        <div class=\"fleft Comments-sortby\">\\n                <span>\\xe7\\x83\\xad\\xe9\\x97\\xa8</span>\\n                    <a href=\"?sort=time&amp;status=P\">\\xe6\\x9c\\x80\\xe6\\x96\\xb0</a>\\n            <a href=\"follows_comments?status=P\" class=\"j a_show_login\">\\xe5\\xa5\\xbd\\xe5\\x8f\\x8b</a>\\n        </div>\\n    </div>\\n\\n    <div class=\"comment-filter\">\\n        <label>\\n            <input type=\"radio\" name=\"sort\" value=\"\" checked><span class=\"filter-name\">\\xe5\\x85\\xa8\\xe9\\x83\\xa8</span><span class=\"comment-percent\"></span>\\n        </label>\\n        <label>\\n            <input type=\"radio\" name=\"sort\" value=\"h\"><span class=\"filter-name\">\\xe5\\xa5\\xbd\\xe8\\xaf\\x84</span><span class=\"comment-percent\">21%</span>\\n        </label>\\n        <label>\\n            <input type=\"radio\" name=\"sort\" value=\"m\"><span class=\"filter-name\">\\xe4\\xb8\\x80\\xe8\\x88\\xac</span><span class=\"comment-percent\">12%</span>\\n        </label>\\n        <label>\\n            <input type=\"radio\" name=\"sort\" value=\"l\"><span class=\"filter-name\">\\xe5\\xb7\\xae\\xe8\\xaf\\x84</span><span class=\"comment-percent\">67%</span>\\n        </label>\\n    </div>\\n\\n    <div class=\"mod-bd\" id=\"comments\">\\n        \\n\\n\\n\\n\\n\\n\\n\\n    \\n        \\n        <div class=\"comment-item\" data-cid=\"1224221400\">\\n            \\n    \\n        <div class=\"avatar\">\\n            <a title=\"\\xe8\\x92\\x8b\\xe9\\x9d\\x9e\\xe5\\x87\\xa1\" href=\"https://www.douban.com/people/54622180/\">\\n                <img src=\"https://img9.doubanio.com/icon/u54622180-24.jpg\" class=\"\">\\n            </a>\\n        </div>\\n    <div class=\"comment\">\\n        <h3>\\n            <span class=\"comment-vote\">\\n                <span class=\"votes\">2121</span>\\n                <input value=\"1224221400\" type=\"hidden\">\\n                <a href=\"javascript:;\" class=\"j a_show_login\" onclick=\"\">\\xe6\\x9c\\x89\\xe7\\x94\\xa8</a>\\n            </span>\\n            <span class=\"comment-info\">\\n                <a href=\"https://www.douban.com/people/54622180/\" class=\"\">\\xe8\\x92\\x8b\\xe9\\x9d\\x9e\\xe5\\x87\\xa1</a>\\n                    <span>\\xe7\\x9c\\x8b\\xe8\\xbf\\x87</span>\\n                    <span class=\"allstar20 rating\" title=\"\\xe8\\xbe\\x83\\xe5\\xb7\\xae\"></span>\\n                <span class=\"comment-time \" title=\"2017-08-03 21:01:33\">\\n                    2017-08-03\\n                </span>\\n            </span>\\n        </h3>\\n        <p class=\"\">\\n            \\n                <span class=\"short\">\\xe6\\x88\\x91\\xe5\\xa7\\x90\\xe6\\x98\\xaf\\xe4\\xb8\\x8d\\xe6\\x98\\xaf\\xe5\\xbe\\x88\\xe6\\x81\\xa8\\xe6\\x88\\x91\\xef\\xbc\\x8c\\xe6\\xaf\\x8f\\xe6\\xac\\xa1\\xe9\\x83\\xbd\\xe8\\xaf\\xb7\\xe6\\x88\\x91\\xe7\\x9c\\x8b\\xe8\\xbf\\x99\\xe7\\xa7\\x8d\\xe7\\x94\\xb5\\xe5\\xbd\\xb1TAT</span>\\n        </p>\\n    </div>\\n\\n        </div>\\n        \\n        <div class=\"comment-item\" data-cid=\"1226711706\">\\n            \\n    \\n        <div class=\"avatar\">\\n            <a title=\"\\xe8\\xb0\\xa2\\xe9\\xa3\\x9e\\xe5\\xaf\\xbc\\xe6\\xbc\\x94\" href=\"https://www.douban.com/people/114515320/\">\\n                <img src=\"https://img9.doubanio.com/icon/u114515320-26.jpg\" class=\"\">\\n            </a>\\n        </div>\\n    <div class=\"comment\">\\n        <h3>\\n            <span class=\"comment-vote\">\\n                <span class=\"votes\">447</span>\\n                <input value=\"1226711706\" type=\"hidden\">\\n                <a href=\"javascript:;\" class=\"j a_show_login\" onclick=\"\">\\xe6\\x9c\\x89\\xe7\\x94\\xa8</a>\\n            </span>\\n            <span class=\"comment-info\">\\n                <a href=\"https://www.douban.com/people/114515320/\" class=\"\">\\xe8\\xb0\\xa2\\xe9\\xa3\\x9e\\xe5\\xaf\\xbc\\xe6\\xbc\\x94</a>\\n                    <span>\\xe7\\x9c\\x8b\\xe8\\xbf\\x87</span>\\n                    <span class=\"allstar20 rating\" title=\"\\xe8\\xbe\\x83\\xe5\\xb7\\xae\"></span>\\n                <span class=\"comment-time \" title=\"2017-08-08 22:30:50\">\\n                    2017-08-08\\n                </span>\\n            </span>\\n        </h3>\\n        <p class=\"\">\\n            \\n                <span class=\"short\">        \\xe6\\xb2\\xa1\\xe6\\x9c\\x89\\xe7\\x9c\\x8b\\xe8\\xbf\\x87\\xe7\\x94\\xb5\\xe8\\xa7\\x86\\xe5\\x89\\xa7\\xe5\\x92\\x8c\\xe5\\xb0\\x8f\\xe8\\xaf\\xb4\\xef\\xbc\\x8c\\xe6\\x89\\x80\\xe4\\xbb\\xa5\\xe6\\x95\\x85\\xe4\\xba\\x8b\\xe7\\x9c\\x8b\\xe5\\xbe\\x97\\xe4\\xb8\\x80\\xe5\\xa4\\xb4\\xe9\\x9b\\xbe\\xe6\\xb0\\xb4\\xe3\\x80\\x82\\xe4\\xba\\x8c\\xe9\\xa2\\x97\\xe6\\x98\\x9f\\xe6\\x98\\xaf\\xe7\\xbb\\x99\\xe6\\x95\\xb0\\xe5\\xad\\x97\\xe8\\xa7\\x86\\xe8\\xa7\\x89\\xe7\\x89\\xb9\\xe6\\x95\\x88\\xe5\\x92\\x8c\\xe6\\x91\\x84\\xe5\\x88\\xb6\\xe4\\xba\\xba\\xe5\\x91\\x98\\xe7\\x9a\\x84\\xe8\\xbe\\x9b\\xe8\\x8b\\xa6\\xe3\\x80\\x82</span>\\n        </p>\\n    </div>\\n\\n        </div>\\n        \\n        <div class=\"comment-item\" data-cid=\"1224462273\">\\n            \\n    \\n        <div class=\"avatar\">\\n            <a title=\"[\\xe5\\xb7\\xb2\\xe6\\xb3\\xa8\\xe9\\x94\\x80]\" href=\"https://www.douban.com/people/110634996/\">\\n                <img src=\"https://img1.doubanio.com/icon/user_normal.jpg\" class=\"\">\\n            </a>\\n        </div>\\n    <div class=\"comment\">\\n        <h3>\\n            <span class=\"comment-vote\">\\n                <span class=\"votes\">925</span>\\n                <input value=\"1224462273\" type=\"hidden\">\\n                <a href=\"javascript:;\" class=\"j a_show_login\" onclick=\"\">\\xe6\\x9c\\x89\\xe7\\x94\\xa8</a>\\n            </span>\\n            <span class=\"comment-info\">\\n                <a href=\"https://www.douban.com/people/110634996/\" class=\"\">[\\xe5\\xb7\\xb2\\xe6\\xb3\\xa8\\xe9\\x94\\x80]</a>\\n                    <span>\\xe7\\x9c\\x8b\\xe8\\xbf\\x87</span>\\n                    <span class=\"allstar20 rating\" title=\"\\xe8\\xbe\\x83\\xe5\\xb7\\xae\"></span>\\n                <span class=\"comment-time \" title=\"2017-08-04 10:56:00\">\\n                    2017-08-04\\n                </span>\\n            </span>\\n        </h3>\\n        <p class=\"\">\\n            \\n                <span class=\"short\">\\xe6\\x9d\\xa8\\xe6\\xb4\\x8b\\xe6\\xb7\\xb1\\xe5\\x88\\xbb\\xe8\\xaf\\xa0\\xe9\\x87\\x8a\\xe4\\xba\\x86\\xe7\\x94\\xb7\\xe4\\xba\\xba\\xe7\\xa9\\xba\\xe6\\x9c\\x89\\xe4\\xb8\\x80\\xe5\\x89\\xaf\\xe7\\x9a\\xae\\xe5\\x9b\\x8a\\xe6\\x95\\xb4\\xe5\\xa4\\xa9\\xe8\\x87\\xaa\\xe6\\x81\\x8b\\xe8\\x80\\x8d\\xe5\\xb8\\x85\\xe6\\x98\\xaf\\xe5\\xa4\\x9a\\xe6\\x97\\xa0\\xe8\\xb6\\xa3</span>\\n        </p>\\n    </div>\\n\\n        </div>\\n        \\n        <div class=\"comment-item\" data-cid=\"1224989009\">\\n            \\n    \\n        <div class=\"avatar\">\\n            <a title=\"\\xe6\\x9d\\x8e\\xe8\\xa7\\x84\\xe7\\x84\\x89\" href=\"https://www.douban.com/people/starlv/\">\\n                <img src=\"https://img1.doubanio.com/icon/u1378208-247.jpg\" class=\"\">\\n            </a>\\n        </div>\\n    <div class=\"comment\">\\n        <h3>\\n            <span class=\"comment-vote\">\\n                <span class=\"votes\">526</span>\\n                <input value=\"1224989009\" type=\"hidden\">\\n                <a href=\"javascript:;\" class=\"j a_show_login\" onclick=\"\">\\xe6\\x9c\\x89\\xe7\\x94\\xa8</a>\\n            </span>\\n            <span class=\"comment-info\">\\n                <a href=\"https://www.douban.com/people/starlv/\" class=\"\">\\xe6\\x9d\\x8e\\xe8\\xa7\\x84\\xe7\\x84\\x89</a>\\n                    <span>\\xe7\\x9c\\x8b\\xe8\\xbf\\x87</span>\\n                    <span class=\"allstar20 rating\" title=\"\\xe8\\xbe\\x83\\xe5\\xb7\\xae\"></span>\\n                <span class=\"comment-time \" title=\"2017-08-05 12:55:40\">\\n                    2017-08-05\\n                </span>\\n            </span>\\n        </h3>\\n        <p class=\"\">\\n            \\n                <span class=\"short\">\\xe8\\x8b\\x8d\\xe5\\xa4\\xa9\\xe4\\xb8\\x8d\\xe8\\xb4\\x9f\\xe8\\x8b\\xa6\\xe5\\xbf\\x83\\xe4\\xba\\xba\\xef\\xbc\\x8c\\xe6\\xba\\xaa\\xe6\\xb0\\xb4\\xe5\\xa0\\x82\\xe5\\xa0\\x82\\xe5\\x87\\xba\\xe5\\x89\\x8d\\xe6\\x9d\\x91\\xe3\\x80\\x82\\xe5\\x9d\\x9a\\xe6\\x8c\\x81\\xe5\\xbf\\x85\\xe6\\x9c\\x89\\xe6\\x94\\xb6\\xe8\\x8e\\xb7\\xef\\xbc\\x8c\\xe6\\x84\\xbf\\xe6\\xaf\\x8f\\xe4\\xb8\\x80\\xe4\\xb8\\xaa\\xe6\\x9d\\xa8\\xe5\\xb9\\x82\\xe9\\x83\\xbd\\xe8\\x83\\xbd\\xe7\\xad\\x89\\xe6\\x9d\\xa5\\xe5\\xa5\\xb9\\xe7\\x9a\\x84\\xe5\\x88\\x98\\xe4\\xba\\xa6\\xe8\\x8f\\xb2\\xe3\\x80\\x82</span>\\n        </p>\\n    </div>\\n\\n        </div>\\n        \\n        <div class=\"comment-item\" data-cid=\"1223901119\">\\n            \\n    \\n        <div class=\"avatar\">\\n            <a title=\"Jamin\" href=\"https://www.douban.com/people/S19861224/\">\\n                <img src=\"https://img1.doubanio.com/icon/u103433969-28.jpg\" class=\"\">\\n            </a>\\n        </div>\\n    <div class=\"comment\">\\n        <h3>\\n            <span class=\"comment-vote\">\\n                <span class=\"votes\">24190</span>\\n                <input value=\"1223901119\" type=\"hidden\">\\n                <a href=\"javascript:;\" class=\"j a_show_login\" onclick=\"\">\\xe6\\x9c\\x89\\xe7\\x94\\xa8</a>\\n            </span>\\n            <span class=\"comment-info\">\\n                <a href=\"https://www.douban.com/people/S19861224/\" class=\"\">Jamin</a>\\n                    <span>\\xe7\\x9c\\x8b\\xe8\\xbf\\x87</span>\\n                    <span class=\"allstar10 rating\" title=\"\\xe5\\xbe\\x88\\xe5\\xb7\\xae\"></span>\\n                <span class=\"comment-time \" title=\"2017-08-03 05:32:42\">\\n                    2017-08-03\\n                </span>\\n            </span>\\n        </h3>\\n        <p class=\"\">\\n            \\n                <span class=\"short\">\\xe5\\x88\\x98\\xe4\\xba\\xa6\\xe8\\x8f\\xb2\\xe8\\xbf\\x99\\xe4\\xb9\\x88\\xe5\\xa4\\x9a\\xe5\\xb9\\xb4\\xe6\\xbc\\x94\\xe6\\x8a\\x80\\xe4\\xb8\\x80\\xe7\\x82\\xb9\\xe9\\x83\\xbd\\xe6\\xb2\\xa1\\xe6\\x9c\\x89\\xe8\\xbf\\x9b\\xe6\\xad\\xa5\\xe5\\x95\\x8a\\xef\\xbc\\x9b\\xe6\\x9d\\xa8\\xe6\\xb4\\x8b\\xe5\\xae\\x8c\\xe7\\xbe\\x8e\\xe7\\x9a\\x84\\xe5\\x91\\x88\\xe7\\x8e\\xb0\\xe4\\xba\\x86\\xe4\\xb8\\x80\\xe4\\xb8\\xaa\\xe6\\xb2\\xb9\\xe8\\x85\\xbb\\xe5\\x8f\\x88\\xe8\\xa3\\x85\\xe9\\x80\\xbc\\xe7\\x9a\\x84\\xe5\\xa4\\x9c\\xe5\\x8d\\x8e\\xef\\xbc\\x8c\\xe6\\x95\\x99\\xe4\\xb8\\xbb\\xe5\\x90\\x8e\\xe7\\xbb\\xa7\\xe6\\x9c\\x89\\xe4\\xba\\xba\\xe4\\xba\\x86\\xe3\\x80\\x82</span>\\n        </p>\\n    </div>\\n\\n        </div>\\n        \\n        <div class=\"comment-item\" data-cid=\"1183882054\">\\n            \\n    \\n        <div class=\"avatar\">\\n            <a title=\"Giroro\" href=\"https://www.douban.com/people/156084837/\">\\n                <img src=\"https://img9.doubanio.com/icon/u156084837-4.jpg\" class=\"\">\\n            </a>\\n        </div>\\n    <div class=\"comment\">\\n        <h3>\\n            <span class=\"comment-vote\">\\n                <span class=\"votes\">4306</span>\\n                <input value=\"1183882054\" type=\"hidden\">\\n                <a href=\"javascript:;\" class=\"j a_show_login\" onclick=\"\">\\xe6\\x9c\\x89\\xe7\\x94\\xa8</a>\\n            </span>\\n            <span class=\"comment-info\">\\n                <a href=\"https://www.douban.com/people/156084837/\" class=\"\">Giroro</a>\\n                    <span>\\xe7\\x9c\\x8b\\xe8\\xbf\\x87</span>\\n                    <span class=\"allstar30 rating\" title=\"\\xe8\\xbf\\x98\\xe8\\xa1\\x8c\"></span>\\n                <span class=\"comment-time \" title=\"2017-08-03 08:37:51\">\\n                    2017-08-03\\n                </span>\\n            </span>\\n        </h3>\\n        <p class=\"\">\\n            \\n                <span class=\"short\">\\xe6\\x88\\x91\\xe8\\xa7\\x89\\xe5\\xbe\\x97\\xe8\\xbf\\x98\\xe5\\xa5\\xbd\\xef\\xbc\\x8c\\xe6\\xb2\\xa1\\xe6\\x9c\\x89\\xe7\\xbd\\x91\\xe4\\xb8\\x8a\\xe8\\xaf\\xb4\\xe7\\x9a\\x84\\xe9\\x82\\xa3\\xe4\\xb9\\x88\\xe5\\xb7\\xae\\xef\\xbc\\x8c\\xe5\\xb0\\xb1\\xe6\\x98\\xaf\\xe6\\x83\\x85\\xe8\\x8a\\x82\\xe6\\x9c\\x89\\xe7\\x82\\xb9\\xe4\\xb9\\xb1\\xe7\\x9c\\x8b\\xe7\\x9a\\x84\\xe6\\x9c\\x89\\xe7\\x82\\xb9\\xe6\\x87\\xb5\\xef\\xbc\\x8c\\xe4\\xbd\\x86\\xe6\\x98\\xaf\\xe8\\xbf\\x98\\xe5\\xa5\\xbd\\xef\\xbc\\x8c\\xe5\\xae\\x8c\\xe5\\x85\\xa8\\xe4\\xb8\\x8d\\xe6\\x98\\xaf\\xe4\\xb8\\x80\\xe6\\x97\\xa0\\xe6\\x98\\xaf\\xe5\\xa4\\x84\\xe7\\x9a\\x84\\xef\\xbc\\x8c\\xe7\\x89\\xb9\\xe6\\x95\\x88\\xe5\\xbe\\x88\\xe6\\xa3\\x92\\xe5\\x9c\\xba\\xe6\\x99\\xaf\\xe5\\xbe\\x88\\xe7\\xbe\\x8e\\xef\\xbc\\x8c\\xe4\\xbd\\x86\\xe6\\x98\\xaf\\xe5\\xa4\\xa7\\xe5\\xa9\\x9a\\xe7\\x9a\\x84\\xe6\\x97\\xb6\\xe5\\x80\\x99\\xe5\\x88\\x98\\xe4\\xba\\xa6\\xe8\\x8f\\xb2\\xe9\\x80\\xa0\\xe5\\x9e\\x8b\\xe6\\x9c\\x89\\xe7\\x82\\xb9\\xe9\\x9b\\xb7\\xef\\xbc\\x8c\\xe6\\x9c\\x80\\xe5\\x90\\x8e\\xe6\\x95\\xa3\\xe5\\x9c\\xba\\xe6\\x97\\xb6\\xe5\\xa5\\xbd\\xe5\\xa4\\x9a\\xe4\\xba\\xba\\xe8\\xaf\\xb4\\xe8\\xbf\\x99\\xe5\\xb0\\xb1\\xe6\\xb2\\xa1\\xe4\\xba\\x86\\xe5\\x95\\x8a\\xef\\xbc\\x8c\\xe8\\xbf\\x98\\xe6\\x9c\\x89\\xe4\\xba\\xba\\xe8\\xaf\\xb4\\xef\\xbc\\x8c\\xe6\\x80\\x8e\\xe4\\xb9\\x88\\xe5\\x92\\x8c\\xe7\\x94\\xb5\\xe8\\xa7\\x86\\xe5\\x89\\xa7\\xe8\\xbf\\x98\\xe6\\x9c\\x89\\xe5\\xb0\\x8f\\xe8\\xaf\\xb4\\xe4\\xb8\\x8d\\xe4\\xb8\\x80\\xe6\\xa0\\xb7\\xef\\xbc\\x8c\\xe7\\x84\\xb6\\xe5\\x90\\x8e\\xe6\\x84\\x9f\\xe8\\xa7\\x89\\xe7\\xbb\\x93\\xe5\\xb1\\x80\\xe6\\x9c\\x89\\xe4\\xba\\x9b\\xe4\\xbb\\x93\\xe4\\xbf\\x83\\xef\\xbc\\x8c\\xe6\\x9c\\x89\\xe7\\x82\\xb9\\xe4\\xb8\\x8d\\xe6\\x87\\x82\\xef\\xbc\\x8c\\xe5\\x88\\xab\\xe7\\x9a\\x84\\xe5\\xb0\\xb1\\xe6\\xb2\\xa1\\xe4\\xba\\x86\\xef\\xbc\\x8c\\xe8\\xbf\\x98\\xe6\\x98\\xaf\\xe5\\x8f\\xaf\\xe4\\xbb\\xa5\\xe7\\x9a\\x84</span>\\n        </p>\\n    </div>\\n\\n        </div>\\n        \\n        <div class=\"comment-item\" data-cid=\"1153554410\">\\n            \\n    \\n        <div class=\"avatar\">\\n            <a title=\"\\xe6\\xa2\\xa6\\xe6\\xa2\\xa6\\xe6\\xa2\\xa6\\xe6\\xa2\\xa6\" href=\"https://www.douban.com/people/155986723/\">\\n                <img src=\"https://img9.doubanio.com/icon/u155986723-5.jpg\" class=\"\">\\n            </a>\\n        </div>\\n    <div class=\"comment\">\\n        <h3>\\n            <span class=\"comment-vote\">\\n                <span class=\"votes\">4626</span>\\n                <input value=\"1153554410\" type=\"hidden\">\\n                <a href=\"javascript:;\" class=\"j a_show_login\" onclick=\"\">\\xe6\\x9c\\x89\\xe7\\x94\\xa8</a>\\n            </span>\\n            <span class=\"comment-info\">\\n                <a href=\"https://www.douban.com/people/155986723/\" class=\"\">\\xe6\\xa2\\xa6\\xe6\\xa2\\xa6\\xe6\\xa2\\xa6\\xe6\\xa2\\xa6</a>\\n                    <span>\\xe7\\x9c\\x8b\\xe8\\xbf\\x87</span>\\n                    <span class=\"allstar40 rating\" title=\"\\xe6\\x8e\\xa8\\xe8\\x8d\\x90\"></span>\\n                <span class=\"comment-time \" title=\"2017-08-03 08:50:14\">\\n                    2017-08-03\\n                </span>\\n            </span>\\n        </h3>\\n        <p class=\"\">\\n            \\n                <span class=\"short\">\\xe7\\x94\\xb5\\xe5\\xbd\\xb1\\xe6\\xb2\\xa1\\xe4\\xb8\\x8a\\xe6\\x98\\xa0\\xe5\\xb0\\xb1\\xe4\\xb8\\x80\\xe7\\x9b\\xb4\\xe5\\x9c\\xa8\\xe5\\xae\\xa3\\xe4\\xbc\\xa0\\xe7\\x89\\xb9\\xe6\\x95\\x88\\xef\\xbc\\x8c\\xe4\\xb8\\x8d\\xe5\\xbe\\x97\\xe4\\xb8\\x8d\\xe8\\xaf\\xb4\\xe8\\xbf\\x99\\xe6\\xac\\xa1\\xe7\\x9a\\x84\\xe7\\x89\\xb9\\xe6\\x95\\x88\\xef\\xbc\\x8c\\xe5\\xb8\\x83\\xe6\\x99\\xaf\\xe7\\x9c\\x9f\\xe7\\x9a\\x84\\xe5\\xbe\\x88\\xe7\\xbe\\x8e\\xe5\\xbe\\x88\\xe6\\xbc\\x82\\xe4\\xba\\xae\\xe3\\x80\\x82\\xe5\\x88\\x98\\xe4\\xba\\xa6\\xe8\\x8f\\xb2\\xe6\\x9d\\xa8\\xe6\\xb4\\x8b\\xe9\\xa2\\x9c\\xe5\\x80\\xbc\\xe6\\xb2\\xa1\\xe7\\x9a\\x84\\xe6\\x8c\\x91\\xef\\xbc\\x8c\\xe4\\xb8\\xaa\\xe4\\xba\\xba\\xe6\\x84\\x9f\\xe8\\xa7\\x89\\xe8\\xbf\\x98\\xe4\\xb8\\x8d\\xe9\\x94\\x99\\xe5\\x95\\x8a\\xef\\xbc\\x8c\\xe7\\x9c\\x8b\\xe5\\x88\\xb0\\xe5\\xa5\\xbd\\xe5\\xa4\\x9a\\xe4\\xba\\xba\\xe6\\x89\\x93\\xe4\\xb8\\x80\\xe6\\x98\\x9f\\xef\\xbc\\x8c\\xe5\\xa5\\xbd\\xe5\\x83\\x8f\\xe4\\xb8\\x8d\\xe8\\x87\\xb3\\xe4\\xba\\x8e\\xe9\\x82\\xa3\\xe4\\xb9\\x88\\xe5\\xb7\\xae\\xe5\\x90\\xa7\\xe3\\x80\\x82\\xe8\\xbf\\x98\\xe6\\x98\\xaf\\xe5\\x80\\xbc\\xe5\\xbe\\x97\\xe4\\xb8\\x80\\xe7\\x9c\\x8b\\xe7\\x9a\\x84</span>\\n        </p>\\n    </div>\\n\\n        </div>\\n        \\n        <div class=\"comment-item\" data-cid=\"1224176725\">\\n            \\n    \\n        <div class=\"avatar\">\\n            <a title=\"\\xe7\\x8e\\x8b\\xe5\\xa4\\xa7\\xe6\\xa0\\xb9\" href=\"https://www.douban.com/people/diewithme/\">\\n                <img src=\"https://img1.doubanio.com/icon/u4640303-157.jpg\" class=\"\">\\n            </a>\\n        </div>\\n    <div class=\"comment\">\\n        <h3>\\n            <span class=\"comment-vote\">\\n                <span class=\"votes\">18121</span>\\n                <input value=\"1224176725\" type=\"hidden\">\\n                <a href=\"javascript:;\" class=\"j a_show_login\" onclick=\"\">\\xe6\\x9c\\x89\\xe7\\x94\\xa8</a>\\n            </span>\\n            <span class=\"comment-info\">\\n                <a href=\"https://www.douban.com/people/diewithme/\" class=\"\">\\xe7\\x8e\\x8b\\xe5\\xa4\\xa7\\xe6\\xa0\\xb9</a>\\n                    <span>\\xe7\\x9c\\x8b\\xe8\\xbf\\x87</span>\\n                    <span class=\"allstar10 rating\" title=\"\\xe5\\xbe\\x88\\xe5\\xb7\\xae\"></span>\\n                <span class=\"comment-time \" title=\"2017-08-03 19:21:41\">\\n                    2017-08-03\\n                </span>\\n            </span>\\n        </h3>\\n        <p class=\"\">\\n            \\n                <span class=\"short\">\\xe5\\xb9\\xb4\\xe5\\xba\\xa6\\xe6\\x9c\\x80\\xe7\\x83\\x82\\xef\\xbc\\x8c\\xe7\\x9c\\x9f\\xe7\\x9a\\x84\\xe6\\x98\\xaf\\xe5\\xb9\\xb4\\xe5\\xba\\xa6\\xe6\\x9c\\x80\\xe7\\x83\\x82\\xef\\xbc\\x8c\\xe5\\x89\\x8d\\xe5\\x8d\\x8a\\xe9\\x83\\xa8\\xe5\\x83\\x8f\\xe6\\x9d\\xa8\\xe6\\xb4\\x8b\\xe5\\x92\\x8c\\xe5\\x88\\x98\\xe4\\xba\\xa6\\xe8\\x8f\\xb2\\xe4\\xb8\\xbb\\xe6\\x8c\\x81\\xe7\\x9a\\x84\\xe5\\xb0\\x91\\xe5\\x84\\xbf\\xe8\\x8a\\x82\\xe7\\x9b\\xae\\xef\\xbc\\x8c\\xe5\\x90\\x8e\\xe5\\x8d\\x8a\\xe9\\x83\\xa8\\xe6\\xaf\\x81\\xe5\\xa4\\xa9\\xe7\\x81\\xad\\xe5\\x9c\\xb0\\xe5\\x8f\\xaa\\xe4\\xb8\\xba\\xe8\\xa1\\xac\\xe6\\x89\\x98\\xe4\\xbb\\x96\\xe4\\xbb\\xac\\xe7\\x8b\\x97\\xe5\\xb1\\x8e\\xe4\\xb8\\x80\\xe6\\xa0\\xb7\\xe7\\x9a\\x84\\xe7\\x88\\xb1\\xe6\\x83\\x85\\xe3\\x80\\x82\\xe6\\x9d\\xa8\\xe6\\xb4\\x8b\\xe7\\x8e\\xb0\\xe5\\x9c\\xa8\\xe8\\xa1\\xa8\\xe6\\xbc\\x94\\xe6\\x97\\xb6\\xe7\\x9a\\x84\\xe8\\x87\\xaa\\xe6\\x81\\x8b\\xe6\\x84\\x9f\\xef\\xbc\\x8c\\xe5\\xb7\\xb2\\xe7\\xbb\\x8f\\xe5\\x88\\xb0\\xe4\\xba\\x86\\xe4\\xbb\\x96\\xe6\\xb7\\xb1\\xe6\\x83\\x85\\xe6\\x9c\\x9b\\xe7\\x9d\\x80\\xe5\\xa5\\xb3\\xe6\\xbc\\x94\\xe5\\x91\\x98\\xe7\\x9a\\x84\\xe6\\x97\\xb6\\xe5\\x80\\x99\\xef\\xbc\\x8c\\xe4\\xbd\\xa0\\xe9\\x83\\xbd\\xe4\\xbc\\x9a\\xe6\\x80\\x80\\xe7\\x96\\x91\\xe4\\xbb\\x96\\xe6\\x98\\xaf\\xe4\\xb8\\x8d\\xe6\\x98\\xaf\\xe5\\x9c\\xa8\\xe7\\x9c\\x8b\\xe5\\xaf\\xb9\\xe6\\x96\\xb9\\xe7\\x9c\\xbc\\xe9\\x87\\x8c\\xe6\\x98\\xa0\\xe5\\x87\\xba\\xe7\\x9a\\x84\\xe4\\xbb\\x96\\xe8\\x87\\xaa\\xe5\\xb7\\xb1\\xe5\\xb8\\x85\\xe6\\xb0\\x94\\xe7\\x9a\\x84\\xe5\\x80\\x92\\xe5\\xbd\\xb1\\xe2\\x80\\xa6\\xe2\\x80\\xa6</span>\\n        </p>\\n    </div>\\n\\n        </div>\\n        \\n        <div class=\"comment-item\" data-cid=\"1223910856\">\\n            \\n    \\n        <div class=\"avatar\">\\n            <a title=\"\\xe5\\xa4\\xa9\\xe6\\x98\\xaf\\xe7\\xba\\xa2\\xe6\\xb2\\xb3\\xe5\\xb2\\xb8\" href=\"https://www.douban.com/people/ronghua1983/\">\\n                <img src=\"https://img3.doubanio.com/icon/u134634804-2.jpg\" class=\"\">\\n            </a>\\n        </div>\\n    <div class=\"comment\">\\n        <h3>\\n            <span class=\"comment-vote\">\\n                <span class=\"votes\">18427</span>\\n                <input value=\"1223910856\" type=\"hidden\">\\n                <a href=\"javascript:;\" class=\"j a_show_login\" onclick=\"\">\\xe6\\x9c\\x89\\xe7\\x94\\xa8</a>\\n            </span>\\n            <span class=\"comment-info\">\\n                <a href=\"https://www.douban.com/people/ronghua1983/\" class=\"\">\\xe5\\xa4\\xa9\\xe6\\x98\\xaf\\xe7\\xba\\xa2\\xe6\\xb2\\xb3\\xe5\\xb2\\xb8</a>\\n                    <span>\\xe7\\x9c\\x8b\\xe8\\xbf\\x87</span>\\n                    <span class=\"allstar10 rating\" title=\"\\xe5\\xbe\\x88\\xe5\\xb7\\xae\"></span>\\n                <span class=\"comment-time \" title=\"2017-08-03 07:53:41\">\\n                    2017-08-03\\n                </span>\\n            </span>\\n        </h3>\\n        <p class=\"\">\\n            \\n                <span class=\"short\">\\xe6\\x9d\\xa8\\xe6\\xb4\\x8b\\xe4\\xb9\\x8b\\xe5\\x90\\x8e\\xe5\\x86\\x8d\\xe6\\x97\\xa0\\xe5\\xa6\\x82\\xe6\\xad\\xa4\\xe7\\x8c\\xa5\\xe7\\x90\\x90\\xe6\\xb2\\xb9\\xe8\\x85\\xbb\\xe4\\xb9\\x8b\\xe5\\xa4\\x9c\\xe5\\x8d\\x8e\\xe3\\x80\\x82</span>\\n        </p>\\n    </div>\\n\\n        </div>\\n        \\n        <div class=\"comment-item\" data-cid=\"1224195842\">\\n            \\n    \\n        <div class=\"avatar\">\\n            <a title=\"\\xe7\\x9b\\xb8\\xe6\\x80\\x9d\\xe4\\xb8\\x8d\\xe4\\xbc\\xbc\\xe7\\x9b\\xb8\\xe9\\x80\\xa2\\xe5\\xa5\\xbd\" href=\"https://www.douban.com/people/fengjun/\">\\n                <img src=\"https://img9.doubanio.com/icon/u4604003-45.jpg\" class=\"\">\\n            </a>\\n        </div>\\n    <div class=\"comment\">\\n        <h3>\\n            <span class=\"comment-vote\">\\n                <span class=\"votes\">1000</span>\\n                <input value=\"1224195842\" type=\"hidden\">\\n                <a href=\"javascript:;\" class=\"j a_show_login\" onclick=\"\">\\xe6\\x9c\\x89\\xe7\\x94\\xa8</a>\\n            </span>\\n            <span class=\"comment-info\">\\n                <a href=\"https://www.douban.com/people/fengjun/\" class=\"\">\\xe7\\x9b\\xb8\\xe6\\x80\\x9d\\xe4\\xb8\\x8d\\xe4\\xbc\\xbc\\xe7\\x9b\\xb8\\xe9\\x80\\xa2\\xe5\\xa5\\xbd</a>\\n                    <span>\\xe7\\x9c\\x8b\\xe8\\xbf\\x87</span>\\n                    <span class=\"allstar20 rating\" title=\"\\xe8\\xbe\\x83\\xe5\\xb7\\xae\"></span>\\n                <span class=\"comment-time \" title=\"2017-08-03 20:07:32\">\\n                    2017-08-03\\n                </span>\\n            </span>\\n        </h3>\\n        <p class=\"\">\\n            \\n                <span class=\"short\">\\xe6\\x88\\x91\\xe6\\xad\\xa3\\xe5\\x9c\\xa8\\xe7\\x9c\\x8b\\xef\\xbc\\x8c\\xe6\\x88\\x91\\xe4\\xb8\\x80\\xe7\\x9c\\xbc\\xe9\\x83\\xbd\\xe4\\xb8\\x8d\\xe6\\x83\\xb3\\xe7\\x9c\\x8b\\xe6\\x9d\\xa8\\xe6\\xb4\\x8b\\xef\\xbc\\x8c\\xe7\\x9c\\x8b\\xe4\\xb8\\x80\\xe7\\x9c\\xbc\\xe9\\x83\\xbd\\xe8\\xb7\\x9f\\xe8\\xa2\\xab\\xe6\\xaf\\x92\\xe6\\xb0\\x94\\xe7\\x86\\x8f\\xe4\\xba\\x86\\xe7\\x9c\\xbc\\xe4\\xb8\\x80\\xe7\\x9c\\xbc\\xe3\\x80\\x82\\xe8\\xbf\\x99\\xe8\\xb4\\x9f\\xe5\\x88\\x86\\xe7\\x9a\\x84\\xe6\\xbc\\x94\\xe6\\x8a\\x80\\xe7\\xac\\x94\\xe7\\x9b\\xb4\\xe7\\x9a\\x84\\xe8\\x82\\xa9\\xe9\\xa2\\x88\\xe6\\xb2\\xb9\\xe8\\x85\\xbb\\xe7\\x9a\\x84\\xe7\\xac\\x91\\xe5\\xae\\xb9\\xe7\\x9c\\x9f\\xe9\\x80\\xbc\\xe5\\xbe\\x97\\xe6\\x88\\x91\\xe7\\x9c\\x8b\\xe4\\xb8\\x80\\xe7\\x9c\\xbc\\xe6\\x89\\xad\\xe8\\xbf\\x87\\xe5\\xa4\\xb4\\xe4\\xb8\\x80\\xe7\\x9c\\xbc\\xe3\\x80\\x82\\xe8\\xba\\xab\\xe8\\xbe\\xb9\\xe8\\xbf\\x98\\xe6\\x9c\\x89\\xe7\\x8e\\xb0\\xe5\\x9c\\xba\\xe5\\xa6\\xb9\\xe5\\xad\\x90\\xe4\\xbb\\xac\\xe7\\x9c\\x8b\\xe4\\xb8\\x80\\xe7\\x9c\\xbc\\xe4\\xb8\\x80\\xe9\\x98\\xb5\\xe7\\x9a\\x84\\xe5\\x96\\x98\\xe6\\x81\\xaf\\xef\\xbc\\x8c\\xe5\\xa5\\xbd\\xe7\\xbb\\x9d\\xe6\\x9c\\x9b\\xe3\\x80\\x82</span>\\n        </p>\\n    </div>\\n\\n        </div>\\n        \\n        <div class=\"comment-item\" data-cid=\"1224242731\">\\n            \\n    \\n        <div class=\"avatar\">\\n            <a title=\"\\xe5\\x90\\xb5\" href=\"https://www.douban.com/people/chaosinchaos/\">\\n                <img src=\"https://img9.doubanio.com/icon/u1363225-44.jpg\" class=\"\">\\n            </a>\\n        </div>\\n    <div class=\"comment\">\\n        <h3>\\n            <span class=\"comment-vote\">\\n                <span class=\"votes\">581</span>\\n                <input value=\"1224242731\" type=\"hidden\">\\n                <a href=\"javascript:;\" class=\"j a_show_login\" onclick=\"\">\\xe6\\x9c\\x89\\xe7\\x94\\xa8</a>\\n            </span>\\n            <span class=\"comment-info\">\\n                <a href=\"https://www.douban.com/people/chaosinchaos/\" class=\"\">\\xe5\\x90\\xb5</a>\\n                    <span>\\xe7\\x9c\\x8b\\xe8\\xbf\\x87</span>\\n                    <span class=\"allstar20 rating\" title=\"\\xe8\\xbe\\x83\\xe5\\xb7\\xae\"></span>\\n                <span class=\"comment-time \" title=\"2017-08-03 21:42:39\">\\n                    2017-08-03\\n                </span>\\n            </span>\\n        </h3>\\n        <p class=\"\">\\n            \\n                <span class=\"short\">\\xe5\\x93\\x87\\xe7\\x9c\\x9f\\xe7\\x9a\\x84\\xe5\\xa4\\xaa\\xe8\\xa0\\xa2\\xe4\\xba\\x86\\xef\\xbc\\x8c\\xe6\\x9d\\xa8\\xe6\\xb4\\x8b\\xe4\\xb8\\x80\\xe5\\x89\\xaf\\xe5\\x95\\x8a\\xe6\\x88\\x91\\xe7\\x9c\\x9f\\xe6\\x98\\xaf\\xe5\\xb8\\x85\\xe6\\xad\\xbb\\xe4\\xba\\x86\\xe7\\x9a\\x84\\xe8\\xa1\\xa8\\xe6\\x83\\x85\\xe7\\xbb\\x93\\xe6\\x9e\\x9c\\xe7\\x9c\\x9f\\xe7\\x9a\\x84\\xe6\\xad\\xbb\\xe4\\xba\\x86</span>\\n        </p>\\n    </div>\\n\\n        </div>\\n        \\n        <div class=\"comment-item\" data-cid=\"1223692637\">\\n            \\n    \\n        <div class=\"avatar\">\\n            <a title=\"Echo\" href=\"https://www.douban.com/people/echo/\">\\n                <img src=\"https://img3.doubanio.com/icon/u1000911-1.jpg\" class=\"\">\\n            </a>\\n        </div>\\n    <div class=\"comment\">\\n        <h3>\\n            <span class=\"comment-vote\">\\n                <span class=\"votes\">16119</span>\\n                <input value=\"1223692637\" type=\"hidden\">\\n                <a href=\"javascript:;\" class=\"j a_show_login\" onclick=\"\">\\xe6\\x9c\\x89\\xe7\\x94\\xa8</a>\\n            </span>\\n            <span class=\"comment-info\">\\n                <a href=\"https://www.douban.com/people/echo/\" class=\"\">Echo</a>\\n                    <span>\\xe7\\x9c\\x8b\\xe8\\xbf\\x87</span>\\n                    <span class=\"allstar10 rating\" title=\"\\xe5\\xbe\\x88\\xe5\\xb7\\xae\"></span>\\n                <span class=\"comment-time \" title=\"2017-08-02 18:27:00\">\\n                    2017-08-02\\n                </span>\\n            </span>\\n        </h3>\\n        <p class=\"\">\\n            \\n                <span class=\"short\">\\xe6\\x95\\x85\\xe4\\xba\\x8b\\xef\\xbc\\x8c\\xe5\\x87\\xa1\\xe6\\x98\\xaf\\xe5\\x8e\\xbb\\xe7\\x9c\\x8b\\xe7\\x9a\\x84\\xef\\xbc\\x8c\\xe5\\xa4\\xa7\\xe6\\xa6\\x82\\xe9\\x83\\xbd\\xe6\\x98\\xaf\\xe7\\x9f\\xa5\\xe9\\x81\\x93\\xe5\\x89\\x8d\\xe5\\x89\\x8d\\xe5\\x90\\x8e\\xe5\\x90\\x8e\\xe7\\x9a\\x84\\xe3\\x80\\x82\\xe8\\xae\\xb2\\xe8\\xae\\xb2\\xe5\\x85\\xb6\\xe4\\xbb\\x96\\xef\\xbc\\x8c\\xe8\\xa1\\xa8\\xe6\\xbc\\x94\\xe5\\xbe\\x88\\xe4\\xbd\\x8e\\xe5\\xbb\\x89\\xef\\xbc\\x8c\\xe6\\x9c\\x8d\\xe8\\xa3\\x85\\xe5\\xbe\\x88\\xe7\\xb2\\x97\\xe7\\xb3\\x99\\xef\\xbc\\x8c\\xe6\\x84\\x9f\\xe8\\xa7\\x89\\xe9\\x83\\xbd\\xe6\\x98\\xaf\\xe5\\x8c\\x96\\xe7\\xba\\xa4\\xe7\\x9a\\x84\\xef\\xbc\\x8c\\xe4\\xb8\\x80\\xe6\\x91\\xa9\\xe6\\x93\\xa6\\xe5\\xb0\\xb1\\xe8\\xb5\\xb7\\xe9\\x9d\\x99\\xe7\\x94\\xb5\\xe3\\x80\\x82\\xe3\\x80\\x82\\xe7\\xbe\\x8e\\xe6\\x9c\\xaf\\xe5\\xbe\\x88\\xe9\\xad\\x94\\xe5\\xb9\\xbb\\xe3\\x80\\x82\\xe3\\x80\\x82\\xe9\\x82\\xa3\\xe4\\xba\\x9b\\xe5\\xb8\\x83\\xe6\\x99\\xaf\\xef\\xbc\\x8c\\xe6\\x80\\xbb\\xe8\\xa7\\x89\\xe5\\xbe\\x97\\xe5\\x83\\x8f\\xe5\\x9c\\xa8\\xe7\\x9c\\x8b\\xe5\\xb1\\xb1\\xe5\\xaf\\xa8\\xe7\\x89\\x88\\xe7\\x9a\\x84\\xe9\\x9c\\x8d\\xe6\\xaf\\x94\\xe7\\x89\\xb9\\xe4\\xba\\xba</span>\\n        </p>\\n    </div>\\n\\n        </div>\\n        \\n        <div class=\"comment-item\" data-cid=\"1224290665\">\\n            \\n    \\n        <div class=\"avatar\">\\n            <a title=\"\\xe9\\x99\\x86\\xe6\\x94\\xaf\\xe7\\xbe\\xbd\" href=\"https://www.douban.com/people/luzhiyu/\">\\n                <img src=\"https://img3.doubanio.com/icon/u2866549-132.jpg\" class=\"\">\\n            </a>\\n        </div>\\n    <div class=\"comment\">\\n        <h3>\\n            <span class=\"comment-vote\">\\n                <span class=\"votes\">207</span>\\n                <input value=\"1224290665\" type=\"hidden\">\\n                <a href=\"javascript:;\" class=\"j a_show_login\" onclick=\"\">\\xe6\\x9c\\x89\\xe7\\x94\\xa8</a>\\n            </span>\\n            <span class=\"comment-info\">\\n                <a href=\"https://www.douban.com/people/luzhiyu/\" class=\"\">\\xe9\\x99\\x86\\xe6\\x94\\xaf\\xe7\\xbe\\xbd</a>\\n                    <span>\\xe7\\x9c\\x8b\\xe8\\xbf\\x87</span>\\n                    <span class=\"allstar20 rating\" title=\"\\xe8\\xbe\\x83\\xe5\\xb7\\xae\"></span>\\n                <span class=\"comment-time \" title=\"2017-08-03 23:01:08\">\\n                    2017-08-03\\n                </span>\\n            </span>\\n        </h3>\\n        <p class=\"\">\\n            \\n                <span class=\"short\">2.0\\xe3\\x80\\x82\\xe6\\x9d\\xa8\\xe6\\xb4\\x8b\\xe5\\xbe\\x88\\xe5\\xb8\\x85\\xef\\xbc\\x8c\\xe5\\x88\\x98\\xe4\\xba\\xa6\\xe8\\x8f\\xb2\\xe5\\xbe\\x88\\xe7\\xbe\\x8e\\xef\\xbc\\x9b\\xe8\\xbf\\x99\\xe7\\x89\\x87\\xe5\\xad\\x90\\xe4\\xb8\\x8d\\xe5\\xb0\\xb1\\xe4\\xb8\\xba\\xe4\\xba\\x86\\xe5\\x8d\\x96\\xe4\\xba\\xba\\xe8\\xae\\xbe\\xe5\\x98\\x9b\\xef\\xbc\\x8c\\xe7\\x8b\\x82\\xe5\\x96\\xb7\\xe7\\x9a\\x84\\xe9\\x83\\xbd\\xe6\\x98\\xaf\\xe4\\xb8\\xba\\xe4\\xba\\x86\\xe8\\xb5\\x9a\\xe6\\xb5\\x81\\xe9\\x87\\x8f\\xe3\\x80\\x82</span>\\n        </p>\\n    </div>\\n\\n        </div>\\n        \\n        <div class=\"comment-item\" data-cid=\"1223869246\">\\n            \\n    \\n        <div class=\"avatar\">\\n            <a title=\"\\xe6\\x97\\xb6\\xe6\\x93\\xa6\" href=\"https://www.douban.com/people/127714403/\">\\n                <img src=\"https://img3.doubanio.com/icon/u127714403-11.jpg\" class=\"\">\\n            </a>\\n        </div>\\n    <div class=\"comment\">\\n        <h3>\\n            <span class=\"comment-vote\">\\n                <span class=\"votes\">12681</span>\\n                <input value=\"1223869246\" type=\"hidden\">\\n                <a href=\"javascript:;\" class=\"j a_show_login\" onclick=\"\">\\xe6\\x9c\\x89\\xe7\\x94\\xa8</a>\\n            </span>\\n            <span class=\"comment-info\">\\n                <a href=\"https://www.douban.com/people/127714403/\" class=\"\">\\xe6\\x97\\xb6\\xe6\\x93\\xa6</a>\\n                    <span>\\xe7\\x9c\\x8b\\xe8\\xbf\\x87</span>\\n                    <span class=\"allstar10 rating\" title=\"\\xe5\\xbe\\x88\\xe5\\xb7\\xae\"></span>\\n                <span class=\"comment-time \" title=\"2017-08-03 00:56:58\">\\n                    2017-08-03\\n                </span>\\n            </span>\\n        </h3>\\n        <p class=\"\">\\n            \\n                <span class=\"short\">\\xe7\\x89\\xb9\\xe6\\x95\\x88\\xe5\\xbe\\x88\\xe5\\xb7\\xae\\xef\\xbc\\x8c\\xe6\\xbc\\x94\\xe5\\x91\\x98\\xe6\\xbc\\x94\\xe6\\x8a\\x80\\xe5\\xb7\\xae\\xe5\\x88\\xb0\\xe8\\xae\\xa9\\xe4\\xba\\xba\\xe5\\xb0\\xb4\\xe5\\xb0\\xac\\xef\\xbc\\x8c\\xe6\\x9d\\xa8\\xe6\\xb4\\x8b\\xe7\\x9a\\x84\\xe5\\xad\\x98\\xe5\\x9c\\xa8\\xe5\\xb0\\xb1\\xe6\\x98\\xaf\\xe4\\xb8\\xba\\xe4\\xba\\x86\\xe8\\xa1\\xac\\xe6\\x89\\x98\\xe5\\x88\\x98\\xe4\\xba\\xa6\\xe8\\x8f\\xb2\\xe7\\x9a\\x84\\xe6\\xbc\\x94\\xe6\\x8a\\x80\\xe3\\x80\\x82</span>\\n        </p>\\n    </div>\\n\\n        </div>\\n        \\n        <div class=\"comment-item\" data-cid=\"1224810694\">\\n            \\n    \\n        <div class=\"avatar\">\\n            <a title=\"\\xe8\\x82\\x96\\xe6\\x81\\xa9\\xe6\\x81\\xa9\\xe6\\x81\\xa9\\xe6\\x81\\xa9\\xe8\\x82\\x96\" href=\"https://www.douban.com/people/60599665/\">\\n                <img src=\"https://img3.doubanio.com/icon/u60599665-40.jpg\" class=\"\">\\n            </a>\\n        </div>\\n    <div class=\"comment\">\\n        <h3>\\n            <span class=\"comment-vote\">\\n                <span class=\"votes\">239</span>\\n                <input value=\"1224810694\" type=\"hidden\">\\n                <a href=\"javascript:;\" class=\"j a_show_login\" onclick=\"\">\\xe6\\x9c\\x89\\xe7\\x94\\xa8</a>\\n            </span>\\n            <span class=\"comment-info\">\\n                <a href=\"https://www.douban.com/people/60599665/\" class=\"\">\\xe8\\x82\\x96\\xe6\\x81\\xa9\\xe6\\x81\\xa9\\xe6\\x81\\xa9\\xe6\\x81\\xa9\\xe8\\x82\\x96</a>\\n                    <span>\\xe7\\x9c\\x8b\\xe8\\xbf\\x87</span>\\n                    <span class=\"allstar20 rating\" title=\"\\xe8\\xbe\\x83\\xe5\\xb7\\xae\"></span>\\n                <span class=\"comment-time \" title=\"2017-08-04 23:44:36\">\\n                    2017-08-04\\n                </span>\\n            </span>\\n        </h3>\\n        <p class=\"\">\\n            \\n                <span class=\"short\">1 \\xe8\\xb0\\x81\\xe7\\x9a\\x84\\xe9\\xbc\\xbb\\xe5\\xad\\x90\\xe6\\x98\\xaf\\xe7\\x9c\\x9f\\xe7\\x9a\\x84\\xe8\\xb0\\x81\\xe8\\x83\\xbd\\xe5\\xbd\\x93\\xe5\\xa5\\xb3\\xe4\\xb8\\xbb\\xef\\xbc\\x88\\xe6\\x95\\xb4\\xe5\\xae\\xb9\\xe8\\x84\\xb8\\xe7\\x8e\\x84\\xe5\\xa5\\xb3\\xe7\\xb4\\xa0\\xe9\\x94\\xa6\\xe7\\x9b\\xb8\\xe6\\x8b\\xa5\\xe5\\x93\\xad\\xe7\\x9e\\x8e\\xef\\xbc\\x892 \\xe5\\xb8\\x8c\\xe6\\x9c\\x9b\\xe6\\x9d\\xa8\\xe6\\xb4\\x8b\\xe6\\x97\\xa9\\xe6\\x97\\xa5\\xe6\\x9c\\xac\\xe8\\x89\\xb2\\xe5\\x87\\xba\\xe6\\xbc\\x94\\xe4\\xb8\\x80\\xe4\\xb8\\xaa\\xe8\\x87\\xaa\\xe6\\x81\\x8b\\xe6\\xb0\\xb4\\xe4\\xbb\\x99\\xe5\\xb0\\x91\\xe5\\xb9\\xb4\\xef\\xbc\\x88\\xe6\\x98\\x8f\\xe8\\xbf\\xb7\\xe9\\x83\\xbd\\xe8\\x83\\xbd\\xe6\\xbc\\x94\\xe5\\xbe\\x97\\xe8\\xbf\\x99\\xe4\\xb9\\x88\\xe8\\xa3\\x85\\xe9\\x80\\xbc\\xef\\xbc\\x8c\\xe5\\xbd\\xb1\\xe5\\xb8\\x9d\\xe4\\xb9\\x9f\\xe5\\x81\\x9a\\xe4\\xb8\\x8d\\xe5\\x88\\xb0\\xe5\\x95\\x8a\\xef\\xbc\\x81\\xef\\xbc\\x893 \\xe6\\x9d\\xa8\\xe6\\xb4\\x8b\\xe7\\x9a\\x84\\xe5\\xb8\\x85\\xe5\\x93\\xa5\\xe5\\x8c\\x85\\xe8\\xa2\\xb1\\xe5\\x9c\\xa8\\xe8\\xa1\\xa8\\xe6\\xbc\\x94\\xef\\xbc\\x8c\\xe5\\x88\\x98\\xe4\\xba\\xa6\\xe8\\x8f\\xb2\\xe7\\x9a\\x84\\xe7\\xbe\\x8e\\xe5\\xa5\\xb3\\xe5\\x8c\\x85\\xe8\\xa2\\xb1\\xe5\\x9c\\xa8\\xe9\\x80\\x89\\xe7\\x89\\x874 \\xe7\\x9c\\x8b\\xe8\\xbf\\x87\\xe5\\xbd\\xb1\\xe7\\x89\\x88\\xe6\\x89\\x8d\\xe7\\x9f\\xa5\\xe5\\x88\\x98\\xe4\\xba\\xa6\\xe8\\x8f\\xb2\\xe5\\xa4\\x9a\\xe7\\xbe\\x8e\\xef\\xbc\\x8c\\xe5\\xaf\\xb9\\xe6\\xaf\\x94\\xe5\\x89\\xa7\\xe7\\x89\\x88\\xe6\\x89\\x8d\\xe7\\x9f\\xa5\\xe6\\x9d\\xa8\\xe5\\xb9\\x82\\xe5\\xa4\\x9a\\xe8\\x81\\xaa\\xe6\\x98\\x8e 5\\xe9\\x81\\x93\\xe5\\x85\\xb7\\xe6\\x9c\\x8d\\xe8\\xa3\\x85\\xe7\\xbb\\x84\\xe8\\xaf\\xb7\\xe8\\x87\\xaa\\xe8\\xa7\\x89\\xe4\\xb8\\x8b\\xe5\\xb2\\x97</span>\\n        </p>\\n    </div>\\n\\n        </div>\\n        \\n        <div class=\"comment-item\" data-cid=\"1223860368\">\\n            \\n    \\n        <div class=\"avatar\">\\n            <a title=\"\\xe8\\x8a\\xb1\\xe9\\x97\\xb4\\xe4\\xb8\\xbb\\xe5\\xb8\\xad\" href=\"https://www.douban.com/people/shochiu/\">\\n                <img src=\"https://img1.doubanio.com/icon/u41859437-19.jpg\" class=\"\">\\n            </a>\\n        </div>\\n    <div class=\"comment\">\\n        <h3>\\n            <span class=\"comment-vote\">\\n                <span class=\"votes\">11835</span>\\n                <input value=\"1223860368\" type=\"hidden\">\\n                <a href=\"javascript:;\" class=\"j a_show_login\" onclick=\"\">\\xe6\\x9c\\x89\\xe7\\x94\\xa8</a>\\n            </span>\\n            <span class=\"comment-info\">\\n                <a href=\"https://www.douban.com/people/shochiu/\" class=\"\">\\xe8\\x8a\\xb1\\xe9\\x97\\xb4\\xe4\\xb8\\xbb\\xe5\\xb8\\xad</a>\\n                    <span>\\xe7\\x9c\\x8b\\xe8\\xbf\\x87</span>\\n                    <span class=\"allstar10 rating\" title=\"\\xe5\\xbe\\x88\\xe5\\xb7\\xae\"></span>\\n                <span class=\"comment-time \" title=\"2017-08-03 00:31:54\">\\n                    2017-08-03\\n                </span>\\n            </span>\\n        </h3>\\n        <p class=\"\">\\n            \\n                <span class=\"short\">\\xe4\\xb8\\xa4\\xe4\\xb8\\xaa\\xe6\\xbc\\x94\\xe6\\x8a\\x80\\xe4\\xb8\\xba\\xe8\\xb4\\x9f\\xe7\\x9a\\x84\\xe4\\xb8\\xbb\\xe8\\xa7\\x92\\xe4\\xb9\\x9f\\xe5\\xb0\\xb1\\xe7\\xbd\\xa2\\xe4\\xba\\x86\\xef\\xbc\\x8c\\xe8\\xbe\\xa3\\xe9\\xb8\\xa1\\xe5\\x89\\xa7\\xe6\\x83\\x85\\xe7\\x9a\\x84\\xe5\\x8f\\xa4\\xe5\\x91\\x95\\xe5\\xb0\\x8f\\xe8\\xa8\\x80\\xe4\\xb9\\x9f\\xe5\\xb0\\xb1\\xe7\\xbd\\xa2\\xe4\\xba\\x86\\xef\\xbc\\x8c\\xe8\\xb5\\xb7\\xe7\\xa0\\x81\\xe7\\xa1\\xac\\xe4\\xbb\\xb6\\xe5\\x81\\x9a\\xe7\\x9a\\x84\\xe8\\x89\\xaf\\xe5\\xbf\\x83\\xe7\\x82\\xb9\\xe5\\x90\\xa7\\xef\\xbc\\x9f\\xe7\\xbb\\x93\\xe6\\x9e\\x9c\\xe4\\xb9\\x9f\\xe6\\xb2\\xa1\\xe6\\x9c\\x89\\xef\\xbc\\x8c\\xe6\\x9c\\x8d\\xe7\\xbe\\x8e\\xe6\\x98\\xaf\\xe5\\xbd\\xb1\\xe6\\xa5\\xbc\\xe5\\x8c\\x96\\xe7\\xba\\xa4\\xe9\\xa3\\x8e\\xe7\\x9a\\x84\\xef\\xbc\\x8c\\xe7\\xbe\\x8e\\xe6\\x8c\\x87\\xe6\\x98\\xaf\\xe4\\xb8\\xad\\xe4\\xb8\\x8d\\xe4\\xb8\\xad\\xe8\\xa5\\xbf\\xe4\\xb8\\x8d\\xe8\\xa5\\xbf\\xe7\\x9a\\x84\\xe5\\xb1\\xb1\\xe5\\xaf\\xa8\\xe9\\xa3\\x8e\\xe7\\x9a\\x84\\xef\\xbc\\x8c\\xe7\\x89\\xb9\\xe6\\x95\\x88\\xe6\\x98\\xaf\\xe5\\x85\\xab\\xe6\\xb5\\x81\\xe9\\xa1\\xb5\\xe6\\xb8\\xb8\\xe6\\xb0\\xb4\\xe5\\xb9\\xb3\\xe7\\x9a\\x84\\xef\\xbc\\x8c\\xe8\\xbf\\x9e\\xe6\\xb5\\xb7\\xe6\\x8a\\xa5\\xe9\\x83\\xbd\\xe6\\x98\\xaf\\xe7\\xbd\\x91\\xe5\\x8f\\x8bps\\xe5\\x85\\xa5\\xe9\\x97\\xa8\\xe6\\xb0\\xb4\\xe5\\xb9\\xb3\\xe7\\x9a\\x84\\xef\\xbc\\x8c\\xe9\\x92\\xb1\\xe5\\xa4\\xa7\\xe6\\xa6\\x82\\xe9\\x83\\xbd\\xe8\\x8a\\xb1\\xe5\\x8e\\xbb\\xe7\\xa0\\xb8\\xe7\\xac\\xac\\xe4\\xb8\\x80\\xe5\\xa4\\xa9\\xe7\\x9a\\x84\\xe9\\xa2\\x84\\xe5\\x94\\xae\\xe7\\xa5\\xa8\\xe6\\x88\\xbf\\xe4\\xbc\\x98\\xe6\\x83\\xa0\\xe4\\xba\\x86\\xe5\\x90\\xa7</span>\\n        </p>\\n    </div>\\n\\n        </div>\\n        \\n        <div class=\"comment-item\" data-cid=\"1224064112\">\\n            \\n    \\n        <div class=\"avatar\">\\n            <a title=\"\\xe6\\xb2\\xa7\\xe6\\xb5\\xb7\\xe4\\xb8\\x80\\xe5\\xb0\\x8f\\xe7\\x94\\x9f\" href=\"https://www.douban.com/people/157276889/\">\\n                <img src=\"https://img9.doubanio.com/icon/u157276889-5.jpg\" class=\"\">\\n            </a>\\n        </div>\\n    <div class=\"comment\">\\n        <h3>\\n            <span class=\"comment-vote\">\\n                <span class=\"votes\">1769</span>\\n                <input value=\"1224064112\" type=\"hidden\">\\n                <a href=\"javascript:;\" class=\"j a_show_login\" onclick=\"\">\\xe6\\x9c\\x89\\xe7\\x94\\xa8</a>\\n            </span>\\n            <span class=\"comment-info\">\\n                <a href=\"https://www.douban.com/people/157276889/\" class=\"\">\\xe6\\xb2\\xa7\\xe6\\xb5\\xb7\\xe4\\xb8\\x80\\xe5\\xb0\\x8f\\xe7\\x94\\x9f</a>\\n                    <span>\\xe7\\x9c\\x8b\\xe8\\xbf\\x87</span>\\n                    <span class=\"allstar30 rating\" title=\"\\xe8\\xbf\\x98\\xe8\\xa1\\x8c\"></span>\\n                <span class=\"comment-time \" title=\"2017-08-03 15:17:12\">\\n                    2017-08-03\\n                </span>\\n            </span>\\n        </h3>\\n        <p class=\"\">\\n            \\n                <span class=\"short\">\\xe6\\x9d\\xa5\\xe7\\x94\\xb5\\xe5\\xbd\\xb1\\xe9\\x99\\xa2\\xe7\\x9c\\x8b\\xe4\\xba\\x86\\xe5\\x86\\x8d\\xe8\\xaf\\xb4\\xef\\xbc\\x8c\\xe8\\xbf\\x99\\xe9\\x83\\xa8\\xe5\\xbd\\xb1\\xe7\\x89\\x87\\xe6\\x95\\xb4\\xe4\\xbd\\x93\\xe5\\x88\\xb6\\xe4\\xbd\\x9c\\xe5\\x8f\\xaf\\xe4\\xbb\\xa5\\xe4\\xb8\\x89\\xe6\\x98\\x9f\\xef\\xbc\\x8c\\xe5\\x88\\x98\\xe4\\xba\\xa6\\xe8\\x8f\\xb2\\xe5\\x92\\x8c\\xe6\\x9d\\xa8\\xe6\\xb4\\x8b\\xe7\\x9a\\x84\\xe6\\xbc\\x94\\xe7\\xbb\\x8e\\xe4\\xb9\\x9f\\xe6\\x83\\xb3\\xe4\\xb8\\x80\\xe5\\x90\\x90\\xe4\\xb8\\xba\\xe5\\xbf\\xab\\xe3\\x80\\x82\\xe7\\x99\\xbd\\xe6\\xb5\\x85\\xe6\\x98\\xaf\\xe6\\x9c\\x89\\xe6\\x95\\x85\\xe4\\xba\\x8b\\xe3\\x80\\x81\\xe6\\x9c\\x89\\xe8\\xbf\\x87\\xe5\\xbe\\x80\\xe7\\x9a\\x84\\xe8\\xa7\\x92\\xe8\\x89\\xb2\\xef\\xbc\\x8c\\xe5\\x8e\\x86\\xe5\\x8a\\xab\\xe4\\xb8\\x89\\xe7\\x94\\x9f\\xe4\\xb8\\x89\\xe4\\xb8\\x96\\xef\\xbc\\x8c\\xe5\\x88\\x98\\xe4\\xba\\xa6\\xe8\\x8f\\xb2\\xe7\\x9a\\x84\\xe6\\xbc\\x94\\xe6\\x8a\\x80\\xe5\\xba\\x94\\xe8\\xaf\\xa5\\xe5\\x8f\\xaf\\xe4\\xbb\\xa5\\xe6\\x91\\x86\\xe8\\x84\\xb1\\xe4\\xb8\\x8d\\xe9\\xa3\\x9f\\xe4\\xba\\xba\\xe9\\x97\\xb4\\xe7\\x83\\x9f\\xe7\\x81\\xab\\xe7\\x9a\\x84\\xe7\\xa5\\x9e\\xe4\\xbb\\x99\\xe5\\xa7\\x90\\xe5\\xa7\\x90\\xef\\xbc\\x8c\\xe8\\xae\\xa9\\xe4\\xba\\xba\\xe5\\x88\\xae\\xe7\\x9b\\xae\\xe7\\x9b\\xb8\\xe7\\x9c\\x8b\\xef\\xbc\\x9b\\xe8\\x80\\x8c\\xe6\\x9d\\xa8\\xe6\\xb4\\x8b\\xef\\xbc\\x8c\\xe5\\xb0\\xbd\\xe7\\xae\\xa1\\xe6\\x9c\\x89\\xe7\\x91\\x95\\xe7\\x96\\xb5\\xef\\xbc\\x8c\\xe4\\xbd\\x86\\xe6\\x98\\xaf\\xe5\\xa4\\x9c\\xe5\\x8d\\x8e\\xe7\\x9a\\x84\\xe6\\xb2\\x89\\xe7\\xa8\\xb3\\xe7\\x9d\\xbf\\xe6\\x99\\xba\\xe3\\x80\\x81\\xe5\\x86\\xb7\\xe5\\xb3\\xbb\\xe5\\x88\\x9a\\xe6\\xaf\\x85\\xe9\\x83\\xbd\\xe8\\xa2\\xab\\xe4\\xbb\\x96\\xe6\\xbc\\x94\\xe7\\xbb\\x8e\\xe5\\xbe\\x97\\xe8\\xbf\\x87\\xe7\\x9b\\xae\\xe4\\xb8\\x8d\\xe5\\xbf\\x98\\xe5\\x90\\xa7\\xef\\xbc\\x81\\xe5\\xae\\x9e\\xe8\\xaf\\x9d\\xef\\xbc\\x8c\\xe5\\x80\\xbc\\xe5\\xbe\\x97\\xe4\\xb8\\x80\\xe7\\x9c\\x8b\\xef\\xbc\\x81</span>\\n        </p>\\n    </div>\\n\\n        </div>\\n        \\n        <div class=\"comment-item\" data-cid=\"1224019880\">\\n            \\n    \\n        <div class=\"avatar\">\\n            <a title=\"\\xe5\\x85\\x83&gt;O&lt;\\xe6\\x9e\\xab\" href=\"https://www.douban.com/people/151081935/\">\\n                <img src=\"https://img3.doubanio.com/icon/u151081935-1.jpg\" class=\"\">\\n            </a>\\n        </div>\\n    <div class=\"comment\">\\n        <h3>\\n            <span class=\"comment-vote\">\\n                <span class=\"votes\">810</span>\\n                <input value=\"1224019880\" type=\"hidden\">\\n                <a href=\"javascript:;\" class=\"j a_show_login\" onclick=\"\">\\xe6\\x9c\\x89\\xe7\\x94\\xa8</a>\\n            </span>\\n            <span class=\"comment-info\">\\n                <a href=\"https://www.douban.com/people/151081935/\" class=\"\">\\xe5\\x85\\x83&gt;O&lt;\\xe6\\x9e\\xab</a>\\n                    <span>\\xe7\\x9c\\x8b\\xe8\\xbf\\x87</span>\\n                    <span class=\"allstar20 rating\" title=\"\\xe8\\xbe\\x83\\xe5\\xb7\\xae\"></span>\\n                <span class=\"comment-time \" title=\"2017-08-03 13:29:37\">\\n                    2017-08-03\\n                </span>\\n            </span>\\n        </h3>\\n        <p class=\"\">\\n            \\n                <span class=\"short\">\\xe6\\x8a\\x9b\\xe5\\xbc\\x80\\xe5\\x8e\\x9f\\xe7\\xbd\\xaa\\xe5\\x8f\\xaa\\xe8\\xb0\\x88\\xe7\\x94\\xb5\\xe5\\xbd\\xb1\\xef\\xbc\\x8c\\xe5\\xa6\\x82\\xe6\\x9e\\x9c\\xe4\\xb8\\x8d\\xe6\\x98\\xaf\\xe5\\xaa\\xb3\\xe5\\xa6\\x87\\xe5\\x84\\xbf\\xe6\\x89\\xa7\\xe6\\x84\\x8f\\xe8\\xa6\\x81\\xe7\\x9c\\x8b\\xef\\xbc\\x8c\\xe6\\x88\\x91\\xe7\\xbb\\x9d\\xe5\\xaf\\xb9\\xe9\\x82\\xa3\\xe8\\xbf\\x99\\xe7\\xa5\\xa8\\xe9\\x92\\xb1\\xe5\\x86\\x8d\\xe5\\x88\\xb7\\xe6\\x88\\x98\\xe7\\x8b\\xbc2\\xef\\xbc\\x8c\\xe4\\xbb\\x8e\\xe5\\x89\\xa7\\xe6\\x83\\x85\\xef\\xbc\\x8c\\xe5\\x88\\xb0\\xe4\\xba\\xba\\xe8\\xae\\xbe\\xe6\\xb2\\xa1\\xe6\\x9c\\x89\\xe7\\x9c\\x8b\\xe5\\x88\\xb0\\xe4\\xb8\\x80\\xe7\\x82\\xb9\\xe8\\xaf\\x9a\\xe6\\x84\\x8f\\xef\\xbc\\x8c\\xe5\\x85\\xa8\\xe5\\x9c\\xba\\xe9\\x83\\xbd\\xe6\\x98\\xaf\\xef\\xbc\\x8c\\xe5\\x95\\x8a\\xef\\xbc\\x8c\\xe6\\x88\\x91\\xe5\\xae\\xb6\\xe6\\x9d\\xa8\\xe6\\xb4\\x8b\\xe5\\xa5\\xbd\\xe5\\xb8\\x85\\xef\\xbc\\x8c\\xe6\\x9c\\x8d\\xe4\\xba\\x86\\xef\\xbc\\x8c\\xe7\\x9c\\x9f\\xe7\\x9a\\x84\\xe6\\x9c\\x8d\\xe4\\xba\\x86\\xef\\xbc\\x8c\\xe8\\xbf\\x99\\xe4\\xba\\x9b\\xe4\\xba\\xba\\xe5\\x9c\\x88\\xe9\\x92\\xb1\\xe5\\xb7\\xb2\\xe7\\xbb\\x8f\\xe5\\xbc\\x80\\xe5\\xa7\\x8b\\xe8\\xb5\\xa4\\xe8\\xa3\\xb8\\xe8\\xa3\\xb8\\xe7\\x9a\\x84\\xef\\xbc\\x8c\\xe7\\x83\\xad\\xe9\\x97\\xa8IP\\xef\\xbc\\x8c\\xe6\\xb5\\x81\\xe9\\x87\\x8f\\xe5\\xb0\\x8f\\xe7\\x94\\x9f\\xef\\xbc\\x8c\\xe5\\xbd\\xb1\\xe6\\xa5\\xbc\\xe7\\x94\\xbb\\xe9\\x9d\\xa2\\xef\\xbc\\x8c\\xe6\\x9c\\x80\\xe5\\x90\\x8e\\xe7\\xbb\\x99\\xe4\\xb8\\xa4\\xe6\\x98\\x9f\\xef\\xbc\\x8c\\xe6\\x9d\\xa8\\xe6\\xb4\\x8b\\xe7\\x9a\\x84\\xe7\\x9b\\x9b\\xe4\\xb8\\x96\\xe7\\xbe\\x8e\\xe9\\xa2\\x9c\\xe5\\x92\\x8c\\xe7\\xa5\\xad\\xe5\\xa5\\xa0\\xe4\\xbb\\x99\\xe5\\x89\\x91\\xe9\\x87\\x8c\\xe7\\x9a\\x84\\xe5\\x88\\x98\\xe4\\xba\\xa6\\xe8\\x8f\\xb2\\xe3\\x80\\x82</span>\\n        </p>\\n    </div>\\n\\n        </div>\\n        \\n        <div class=\"comment-item\" data-cid=\"1111950525\">\\n            \\n    \\n        <div class=\"avatar\">\\n            <a title=\"\\xe6\\x96\\xb9\\xe6\\x9e\\xaa\\xe6\\x9e\\xaa\" href=\"https://www.douban.com/people/yalindongdong/\">\\n                <img src=\"https://img9.doubanio.com/icon/u2586116-96.jpg\" class=\"\">\\n            </a>\\n        </div>\\n    <div class=\"comment\">\\n        <h3>\\n            <span class=\"comment-vote\">\\n                <span class=\"votes\">165</span>\\n                <input value=\"1111950525\" type=\"hidden\">\\n                <a href=\"javascript:;\" class=\"j a_show_login\" onclick=\"\">\\xe6\\x9c\\x89\\xe7\\x94\\xa8</a>\\n            </span>\\n            <span class=\"comment-info\">\\n                <a href=\"https://www.douban.com/people/yalindongdong/\" class=\"\">\\xe6\\x96\\xb9\\xe6\\x9e\\xaa\\xe6\\x9e\\xaa</a>\\n                    <span>\\xe7\\x9c\\x8b\\xe8\\xbf\\x87</span>\\n                    <span class=\"allstar20 rating\" title=\"\\xe8\\xbe\\x83\\xe5\\xb7\\xae\"></span>\\n                <span class=\"comment-time \" title=\"2017-08-04 15:00:32\">\\n                    2017-08-04\\n                </span>\\n            </span>\\n        </h3>\\n        <p class=\"\">\\n            \\n                <span class=\"short\">\\xe8\\x8a\\xb140\\xe5\\x9d\\x97\\xe6\\x9d\\xa5\\xe5\\xbd\\xb1\\xe9\\x99\\xa2\\xe5\\x90\\xb9\\xe4\\xba\\x86\\xe4\\xb8\\x80\\xe7\\x99\\xbe\\xe6\\x9d\\xa5\\xe5\\x88\\x86\\xe9\\x92\\x9f\\xe7\\xa9\\xba\\xe8\\xb0\\x83\\xef\\xbc\\x8c\\xe7\\x9c\\x8b\\xe4\\xba\\x86\\xe4\\xb8\\xaa\\xe5\\x8a\\xa8\\xe7\\x89\\xa9\\xe4\\xb8\\x96\\xe7\\x95\\x8c+\\xe8\\x88\\x8c\\xe5\\xb0\\x96\\xe4\\xb8\\x8a\\xe7\\x9a\\x84\\xe4\\xb8\\xad\\xe5\\x9b\\xbd\\xe4\\xb9\\x8b\\xe6\\x8b\\x89\\xe9\\x9d\\xa2\\xe7\\x9a\\x84\\xe8\\xaf\\xb1\\xe6\\x83\\x91+\\xe6\\xb3\\xb0\\xe5\\x9d\\xa6\\xe5\\xb0\\xbc\\xe5\\x85\\x8b\\xe5\\x8f\\xb7\\xe8\\x88\\xac\\xe4\\xba\\xba\\xe4\\xbd\\x93\\xe7\\xb4\\xa0\\xe6\\x8f\\x8f+\\xe4\\xb8\\x9c\\xe9\\x82\\xaa\\xe8\\xa5\\xbf\\xe6\\xaf\\x92\\xe4\\xb9\\x8b\\xe9\\x86\\x89\\xe7\\x94\\x9f\\xe6\\xa2\\xa6\\xe6\\xad\\xbb\\xe5\\xbf\\x98\\xe6\\x83\\x85\\xe6\\xb0\\xb4\\xef\\xbc\\x8c\\xe7\\x84\\xb6\\xe5\\x90\\x8e\\xe8\\xbf\\x98\\xe6\\x9c\\x89\\xe5\\x90\\x84\\xe7\\xa7\\x8d\\xe5\\xb0\\xb4\\xe5\\xb0\\xac\\xe5\\x88\\xb0\\xe9\\xb8\\xa1\\xe7\\x9a\\xae\\xe7\\x96\\x99\\xe7\\x98\\xa9\\xe7\\x9a\\x84\\xe6\\xa2\\x97\\xe3\\x80\\x82\\xe4\\xbd\\x86\\xe6\\x88\\x91\\xe8\\xbf\\x98\\xe6\\x98\\xaf\\xe8\\xa7\\x89\\xe5\\xbe\\x97\\xe8\\xbf\\x99\\xe7\\xa5\\xa8\\xe4\\xb9\\xb0\\xe7\\x9a\\x84\\xe5\\x86\\xa4\\xe6\\x9e\\x89\\xef\\xbc\\x81</span>\\n        </p>\\n    </div>\\n\\n        </div>\\n        \\n        <div class=\"comment-item\" data-cid=\"1223907234\">\\n            \\n    \\n        <div class=\"avatar\">\\n            <a title=\"\\xe6\\x8a\\x96\\xe6\\xa3\\xae\\xe5\\xa4\\xab\\xe4\\xba\\xba\" href=\"https://www.douban.com/people/87728542/\">\\n                <img src=\"https://img1.doubanio.com/icon/u87728542-9.jpg\" class=\"\">\\n            </a>\\n        </div>\\n    <div class=\"comment\">\\n        <h3>\\n            <span class=\"comment-vote\">\\n                <span class=\"votes\">9306</span>\\n                <input value=\"1223907234\" type=\"hidden\">\\n                <a href=\"javascript:;\" class=\"j a_show_login\" onclick=\"\">\\xe6\\x9c\\x89\\xe7\\x94\\xa8</a>\\n            </span>\\n            <span class=\"comment-info\">\\n                <a href=\"https://www.douban.com/people/87728542/\" class=\"\">\\xe6\\x8a\\x96\\xe6\\xa3\\xae\\xe5\\xa4\\xab\\xe4\\xba\\xba</a>\\n                    <span>\\xe7\\x9c\\x8b\\xe8\\xbf\\x87</span>\\n                    <span class=\"allstar10 rating\" title=\"\\xe5\\xbe\\x88\\xe5\\xb7\\xae\"></span>\\n                <span class=\"comment-time \" title=\"2017-08-03 07:21:10\">\\n                    2017-08-03\\n                </span>\\n            </span>\\n        </h3>\\n        <p class=\"\">\\n            \\n                <span class=\"short\">\\xe6\\x9d\\xa8\\xe6\\xb4\\x8b\\xe5\\x92\\x8c\\xe5\\x88\\x98\\xe4\\xba\\xa6\\xe8\\x8f\\xb2 \\xe6\\xaf\\x81\\xe5\\xae\\xb9\\xe5\\xbc\\x8f\\xe6\\xbc\\x94\\xe6\\x8a\\x80\\xe3\\x80\\x82\\xe5\\x88\\x98\\xe4\\xba\\xa6\\xe8\\x8f\\xb2\\xe6\\xbc\\x94\\xe4\\xba\\x86\\xe8\\xbf\\x99\\xe4\\xb9\\x88\\xe5\\xa4\\x9a\\xe5\\xb9\\xb4\\xe6\\x88\\x8f\\xe8\\xbf\\x98\\xe5\\x81\\x9c\\xe7\\x95\\x99\\xe5\\x9c\\xa8\\xe6\\xbc\\x94\\xe5\\x95\\xa5\\xe9\\x83\\xbd\\xe4\\xb8\\x80\\xe4\\xb8\\xaa\\xe9\\x9d\\xa2\\xe7\\x98\\xab\\xe6\\xa0\\xb7\\xe7\\x9a\\x84\\xe9\\x98\\xb6\\xe6\\xae\\xb5 \\xe4\\xb9\\x9f\\xe6\\x98\\xaf\\xe8\\x9b\\xae\\xe5\\x8e\\x89\\xe5\\xae\\xb3\\xe7\\x9a\\x84</span>\\n        </p>\\n    </div>\\n\\n        </div>\\n\\n\\n\\n\\n    <div class=\"comments-footer-tips\">\\n        * \\xe5\\xbd\\xb1\\xe7\\x89\\x87\\xe4\\xb8\\x8a\\xe6\\x98\\xa0\\xe4\\xb9\\x8b\\xe5\\x89\\x8d\\xe7\\x9a\\x84\\xe3\\x80\\x81\\xe4\\xb8\\x8e\\xe5\\xbd\\xb1\\xe7\\x89\\x87\\xe6\\x97\\xa0\\xe5\\x85\\xb3\\xe7\\x9a\\x84\\xe6\\x88\\x96\\xe5\\x8c\\x85\\xe5\\x90\\xab\\xe4\\xba\\xba\\xe8\\xba\\xab\\xe6\\x94\\xbb\\xe5\\x87\\xbb\\xe7\\xad\\x89\\xe5\\x86\\x85\\xe5\\xae\\xb9\\xe7\\x9a\\x84\\xe7\\x9f\\xad\\xe8\\xaf\\x84\\xe9\\x83\\xbd\\xe5\\xb0\\x86\\xe6\\x9c\\x89\\xe5\\x8f\\xaf\\xe8\\x83\\xbd\\xe8\\xa2\\xab\\xe6\\x8a\\x98\\xe5\\x8f\\xa0\\xef\\xbc\\x8c\\xe4\\xb8\\x94\\xe8\\xaf\\x84\\xe5\\x88\\x86\\xe4\\xb8\\x8d\\xe8\\xae\\xa1\\xe5\\x85\\xa5\\xe8\\xb1\\x86\\xe7\\x93\\xa3\\xe8\\xaf\\x84\\xe5\\x88\\x86\\xe3\\x80\\x82<br>\\n        * \\xe7\\x9f\\xad\\xe8\\xaf\\x84\\xe7\\x9a\\x84\\xe6\\x8e\\x92\\xe5\\xba\\x8f\\xe6\\x98\\xaf\\xe5\\xb0\\x86\\xe8\\xb1\\x86\\xe7\\x93\\xa3\\xe6\\x88\\x90\\xe5\\x91\\x98\\xe7\\x9a\\x84\\xe6\\x8a\\x95\\xe7\\xa5\\xa8\\xe5\\x8a\\xa0\\xe6\\x9d\\x83\\xe5\\xb9\\xb3\\xe5\\x9d\\x87\\xe8\\xae\\xa1\\xe7\\xae\\x97\\xe5\\x90\\x8e\\xe7\\x9a\\x84\\xe7\\xbb\\x93\\xe6\\x9e\\x9c\\xef\\xbc\\x8c\\xe9\\x80\\x9a\\xe8\\xbf\\x87\\xe7\\xae\\x97\\xe6\\xb3\\x95\\xe7\\x9a\\x84\\xe8\\xb0\\x83\\xe6\\xa0\\xa1\\xef\\xbc\\x8c\\xe6\\x9b\\xb4\\xe5\\xa5\\xbd\\xe5\\x9c\\xb0\\xe5\\x8f\\x8d\\xe6\\x98\\xa0\\xe7\\x9f\\xad\\xe8\\xaf\\x84\\xe5\\x86\\x85\\xe5\\xae\\xb9\\xe7\\x9a\\x84\\xe4\\xbb\\xb7\\xe5\\x80\\xbc\\xe3\\x80\\x82<br>\\n    </div>\\n\\n\\n        <div id=\"paginator\" class=\"center\">\\n                <span class=\"first\">&lt;&lt; \\xe9\\xa6\\x96\\xe9\\xa1\\xb5</span>\\n                <span class=\"prev\">&lt; \\xe5\\x89\\x8d\\xe9\\xa1\\xb5</span>\\n                <a href=\"?start=20&amp;limit=20&amp;sort=new_score&amp;status=P&amp;percent_type=\" data-page=\"\" class=\"next\">\\xe5\\x90\\x8e\\xe9\\xa1\\xb5 &gt;</a>\\n        </div>\\n\\n\\n\\n\\n\\n        \\n        \\n    </div>\\n\\n            </div>\\n            <div class=\"aside\">\\n                \\n\\n    \\n<p class=\"pl2\">&gt; <a href=\"https://movie.douban.com/subject/25823277/\">\\xe5\\x8e\\xbb \\xe4\\xb8\\x89\\xe7\\x94\\x9f\\xe4\\xb8\\x89\\xe4\\xb8\\x96\\xe5\\x8d\\x81\\xe9\\x87\\x8c\\xe6\\xa1\\x83\\xe8\\x8a\\xb1 \\xe7\\x9a\\x84\\xe9\\xa1\\xb5\\xe9\\x9d\\xa2</a></p>\\n\\n    <div class=\"indent\">\\n        \\n\\n\\n\\n\\n\\n\\n\\n\\n\\n<div class=\"movie-summary\">\\n        <div class=\"movie-pic\"><a href=\"https://movie.douban.com/subject/25823277/\"><img alt=\"\\xe4\\xb8\\x89\\xe7\\x94\\x9f\\xe4\\xb8\\x89\\xe4\\xb8\\x96\\xe5\\x8d\\x81\\xe9\\x87\\x8c\\xe6\\xa1\\x83\\xe8\\x8a\\xb1\" title=\"\\xe4\\xb8\\x89\\xe7\\x94\\x9f\\xe4\\xb8\\x89\\xe4\\xb8\\x96\\xe5\\x8d\\x81\\xe9\\x87\\x8c\\xe6\\xa1\\x83\\xe8\\x8a\\xb1\" src=\"https://img1.doubanio.com/view/photo/s_ratio_poster/public/p2494279388.jpg\" rel=\"v:image\" width=\"100px\"></a></div>\\n    <span class=\"attrs\">\\n        \\n            \\n        <p>\\n            <span class=\"pl\">\\xe5\\xaf\\xbc\\xe6\\xbc\\x94:</span>\\n                <a href=\"https://movie.douban.com/celebrity/1274347/\">\\xe8\\xb5\\xb5\\xe5\\xb0\\x8f\\xe4\\xb8\\x81</a> / <a href=\"https://movie.douban.com/celebrity/1289344/\">\\xe5\\xae\\x89\\xe4\\xb8\\x9c\\xe5\\xb0\\xbc\\xc2\\xb7\\xe6\\x8b\\x89\\xe9\\xbb\\x98\\xe9\\x87\\x8c\\xe7\\xba\\xb3\\xe6\\x8b\\x89</a>\\n        </p>\\n\\n        \\n            \\n        <p>\\n            <span class=\"pl\">\\xe4\\xb8\\xbb\\xe6\\xbc\\x94:</span>\\n                <a href=\"https://movie.douban.com/celebrity/1049732/\">\\xe5\\x88\\x98\\xe4\\xba\\xa6\\xe8\\x8f\\xb2</a> / <a href=\"https://movie.douban.com/celebrity/1276051/\">\\xe6\\x9d\\xa8\\xe6\\xb4\\x8b</a> / <a href=\"https://movie.douban.com/celebrity/1276171/\">\\xe7\\xbd\\x97\\xe6\\x99\\x8b</a> / <a href=\"https://movie.douban.com/celebrity/1313653/\">\\xe4\\xb8\\xa5\\xe5\\xb1\\xb9\\xe5\\xae\\xbd</a> / <a href=\"https://movie.douban.com/celebrity/1330356/\">\\xe6\\x9d\\x8e\\xe7\\xba\\xaf</a> / <a href=\"https://movie.douban.com/celebrity/1316959/\">\\xe9\\xa1\\xbe\\xe7\\x92\\x87</a> / <a href=\"https://movie.douban.com/celebrity/1280571/\">\\xe9\\x99\\x88\\xe4\\xbd\\xa9\\xe6\\x96\\xaf</a> / <a href=\"https://movie.douban.com/celebrity/1370832/\">\\xe5\\xbd\\xad\\xe5\\xad\\x90\\xe8\\x8b\\x8f</a> / <a href=\"https://movie.douban.com/celebrity/1374389/\">\\xe5\\xbc\\xa0\\xe8\\xb4\\xba\\xe8\\x8c\\x97</a> / <a href=\"https://movie.douban.com/celebrity/1351724/\">\\xe7\\x8e\\x8b\\xe7\\xbe\\xbd\\xe9\\x93\\xae</a> / <a href=\"https://movie.douban.com/celebrity/1373011/\">\\xe5\\xa1\\x94\\xe6\\x8b\\x89</a> / <a href=\"https://movie.douban.com/celebrity/1366884/\">\\xe9\\x99\\x88\\xe6\\x98\\x9f\\xe6\\x97\\xad</a> / <a href=\"https://movie.douban.com/celebrity/1367835/\">\\xe5\\xbc\\xa0\\xe9\\x9b\\x85\\xe9\\x92\\xa6</a> / <a href=\"https://movie.douban.com/celebrity/1405086/\">\\xe5\\xbc\\xa0\\xe5\\x86\\x89\\xe6\\x80\\xa1</a> / <a href=\"https://movie.douban.com/celebrity/1391417/\">\\xe8\\x91\\xa3\\xe6\\x96\\x87\\xe8\\x85\\xbe</a> / <a href=\"https://movie.douban.com/celebrity/1421617/\">\\xe9\\x9d\\x92\\xe7\\x90\\xb3\\xe6\\x98\\x8a</a>\\n        </p>\\n\\n        \\n            \\n        <p>\\n            <span class=\"pl\">\\xe7\\xb1\\xbb\\xe5\\x9e\\x8b:</span>\\n                \\xe7\\x88\\xb1\\xe6\\x83\\x85, \\xe5\\xa5\\x87\\xe5\\xb9\\xbb\\n        </p>\\n\\n        \\n            \\n        <p>\\n            <span class=\"pl\">\\xe5\\x9c\\xb0\\xe5\\x8c\\xba:</span>\\n                \\xe4\\xb8\\xad\\xe5\\x9b\\xbd\\xe5\\xa4\\xa7\\xe9\\x99\\x86\\n        </p>\\n\\n        \\n            \\n        <p>\\n            <span class=\"pl\">\\xe7\\x89\\x87\\xe9\\x95\\xbf:</span>\\n                109\\xe5\\x88\\x86\\xe9\\x92\\x9f\\n        </p>\\n\\n        \\n            \\n        <p>\\n            <span class=\"pl\">\\xe4\\xb8\\x8a\\xe6\\x98\\xa0:</span>\\n                2017-08-03(\\xe4\\xb8\\xad\\xe5\\x9b\\xbd\\xe5\\xa4\\xa7\\xe9\\x99\\x86)\\n        </p>\\n\\n        <a class=\"trail_link\" data-trailer-id=\"219833\" href=\"https://movie.douban.com/trailer/219833/#content\">\\xe9\\xa2\\x84\\xe5\\x91\\x8a\\xe7\\x89\\x87</a>\\n    </span>\\n</div>\\n\\n\\n\\n    </div>\\n    <div id=\"dale_movie_subject_comments_bottom_right\"></div>\\n    <a href=\"https://help.douban.com/blackroom\">&gt; \\xe8\\xb1\\x86\\xe7\\x93\\xa3\\xe8\\xbf\\x9d\\xe8\\xa7\\x84\\xe5\\x85\\xac\\xe7\\xa4\\xba</a>\\n\\n            </div>\\n            <div class=\"extra\">\\n                \\n            </div>\\n        </div>\\n    </div>\\n\\n        \\n    <div id=\"footer\">\\n            <div class=\"footer-extra\"></div>\\n        \\n<span id=\"icp\" class=\"fleft gray-link\">\\n    \\xc2\\xa9 2005\\xef\\xbc\\x8d2020 douban.com, all rights reserved \\xe5\\x8c\\x97\\xe4\\xba\\xac\\xe8\\xb1\\x86\\xe7\\xbd\\x91\\xe7\\xa7\\x91\\xe6\\x8a\\x80\\xe6\\x9c\\x89\\xe9\\x99\\x90\\xe5\\x85\\xac\\xe5\\x8f\\xb8\\n</span>\\n\\n<a href=\"https://www.douban.com/hnypt/variformcyst.py\" style=\"display: none;\"></a>\\n\\n<span class=\"fright\">\\n    <a href=\"https://www.douban.com/about\">\\xe5\\x85\\xb3\\xe4\\xba\\x8e\\xe8\\xb1\\x86\\xe7\\x93\\xa3</a>\\n    \\xc2\\xb7 <a href=\"https://www.douban.com/jobs\">\\xe5\\x9c\\xa8\\xe8\\xb1\\x86\\xe7\\x93\\xa3\\xe5\\xb7\\xa5\\xe4\\xbd\\x9c</a>\\n    \\xc2\\xb7 <a href=\"https://www.douban.com/about?topic=contactus\">\\xe8\\x81\\x94\\xe7\\xb3\\xbb\\xe6\\x88\\x91\\xe4\\xbb\\xac</a>\\n    \\xc2\\xb7 <a href=\"https://www.douban.com/about/legal\">\\xe6\\xb3\\x95\\xe5\\xbe\\x8b\\xe5\\xa3\\xb0\\xe6\\x98\\x8e</a>\\n    \\n    \\xc2\\xb7 <a href=\"https://help.douban.com/?app=movie\" target=\"_blank\">\\xe5\\xb8\\xae\\xe5\\x8a\\xa9\\xe4\\xb8\\xad\\xe5\\xbf\\x83</a>\\n    \\xc2\\xb7 <a href=\"https://www.douban.com/doubanapp/\">\\xe7\\xa7\\xbb\\xe5\\x8a\\xa8\\xe5\\xba\\x94\\xe7\\x94\\xa8</a>\\n    \\xc2\\xb7 <a href=\"https://www.douban.com/partner/\">\\xe8\\xb1\\x86\\xe7\\x93\\xa3\\xe5\\xb9\\xbf\\xe5\\x91\\x8a</a>\\n</span>\\n\\n    </div>\\n\\n    </div>\\n    <script type=\"text/javascript\" src=\"https://img3.doubanio.com/misc/mixed_static/40694b08f0df7a55.js\"></script>\\n        \\n        \\n    <link rel=\"stylesheet\" type=\"text/css\" href=\"https://img3.doubanio.com/f/shire/8377b9498330a2e6f056d863987cc7a37eb4d486/css/ui/dialog.css\">\\n    <link rel=\"stylesheet\" type=\"text/css\" href=\"https://img3.doubanio.com/f/movie/4aca95d66d37ec0712b3d19973b5d8feb75f2f05/css/movie/mod/reg_login_pop.css\">\\n    <script type=\"text/javascript\" src=\"https://img3.doubanio.com/f/shire/77323ae72a612bba8b65f845491513ff3329b1bb/js/do.js\" data-cfg-autoload=\"false\"></script>\\n    <script type=\"text/javascript\" src=\"https://img3.doubanio.com/f/shire/383a6e43f2108dc69e3ff2681bc4dc6c72a5ffb0/js/ui/dialog.js\"></script>\\n    <script type=\"text/javascript\">\\n        var HTTPS_DB=\\'https://www.douban.com\\';\\nvar account_pop={open:function(o,e){e?referrer=\"?referrer=\"+encodeURIComponent(e):referrer=\"?referrer=\"+window.location.href;var n=\"\",i=\"\",t=448;n=\"\\xe7\\x94\\xa8\\xe6\\x88\\xb7\\xe7\\x99\\xbb\\xe5\\xbd\\x95\",i=\"https://accounts.douban.com/passport/login_popup?source=movie\";var r=document.location.protocol+\"//\"+document.location.hostname,a=dui.Dialog({width:340,title:n,height:t,cls:\"account_pop\",isHideTitle:!0,modal:!0,content:\"<iframe scrolling=\\'no\\' frameborder=\\'0\\' width=\\'340\\' height=\\'\"+t+\"\\' src=\\'\"+i+\"\\' name=\\'\"+r+\"\\'></iframe>\"},!0),c=a.node;if(c.undelegate(),c.delegate(\".dui-dialog-close\",\"click\",function(){var o=$(\"body\");o.find(\"#login_msk\").hide(),o.find(\".account_pop\").remove()}),$(window).width()<478){var d=\"\";\"reg\"===o?d=HTTPS_DB+\"/accounts/register\"+referrer:\"login\"===o&&(d=HTTPS_DB+\"/accounts/login\"+referrer),window.location.href=d}else a.open();$(window).bind(\"message\",function(o){\"https://accounts.douban.com\"===o.originalEvent.origin&&(c.find(\"iframe\").css(\"height\",o.originalEvent.data),c.height(o.originalEvent.data),a.update())})}};Douban&&Douban.init_show_login&&(Douban.init_show_login=function(o){var e=$(o);e.click(function(){var o=e.data(\"ref\")||\"\";return account_pop.open(\"login\",o),!1})}),Do(function(){$(\"body\").delegate(\".pop_register\",\"click\",function(o){o.preventDefault();var e=$(this).data(\"ref\")||\"\";return account_pop.open(\"reg\",e),!1}),$(\"body\").delegate(\".pop_login\",\"click\",function(o){o.preventDefault();var e=$(this).data(\"ref\")||\"\";return account_pop.open(\"login\",e),!1})});\\n    </script>\\n\\n    \\n    \\n\\n\\n\\n\\n    \\n<script type=\"text/javascript\">\\n    (function (global) {\\n        var newNode = global.document.createElement(\\'script\\'),\\n            existingNode = global.document.getElementsByTagName(\\'script\\')[0],\\n            adSource = \\'//erebor.douban.com/\\',\\n            userId = \\'\\',\\n            browserId = \\'tY-BZepKqmU\\',\\n            criteria = \\'3:/subject/25823277/comments?status=P\\',\\n            preview = \\'\\',\\n            debug = false,\\n            adSlots = [\\'dale_movie_subject_comments_bottom_right\\'];\\n\\n        global.DoubanAdRequest = {src: adSource, uid: userId, bid: browserId, crtr: criteria, prv: preview, debug: debug};\\n        global.DoubanAdSlots = (global.DoubanAdSlots || []).concat(adSlots);\\n\\n        newNode.setAttribute(\\'type\\', \\'text/javascript\\');\\n        newNode.setAttribute(\\'src\\', \\'//img1.doubanio.com/MjdoZ3B1OC9mL2FkanMvOGFjYzUwMTRmMmUwMjBmMWRmYjI0NzAyNjVkNTE1ODJlMzY2NDQxNS9hZC5yZWxlYXNlLmpz\\');\\n        newNode.setAttribute(\\'async\\', true);\\n        existingNode.parentNode.insertBefore(newNode, existingNode);\\n    })(this);\\n</script>\\n\\n\\n\\n\\n\\n\\n\\n\\n\\n\\n    \\n\\n    \\n  \\n\\n\\n\\n\\n\\n\\n\\n\\n\\n<script type=\"text/javascript\">\\nvar _paq = _paq || [];\\n_paq.push([\\'trackPageView\\']);\\n_paq.push([\\'enableLinkTracking\\']);\\n(function() {\\n    var p=((\\'https:\\' == document.location.protocol) ? \\'https\\' : \\'http\\'), u=p+\\'://fundin.douban.com/\\';\\n    _paq.push([\\'setTrackerUrl\\', u+\\'piwik\\']);\\n    _paq.push([\\'setSiteId\\', \\'100001\\']);\\n    var d=document, g=d.createElement(\\'script\\'), s=d.getElementsByTagName(\\'script\\')[0];\\n    g.type=\\'text/javascript\\';\\n    g.defer=true;\\n    g.async=true;\\n    g.src=p+\\'://img3.doubanio.com/dae/fundin/piwik.js\\';\\n    s.parentNode.insertBefore(g,s);\\n})();\\n</script>\\n\\n<script type=\"text/javascript\">\\nvar setMethodWithNs = function(namespace) {\\n  var ns = namespace ? namespace + \\'.\\' : \\'\\'\\n    , fn = function(string) {\\n        if(!ns) {return string}\\n        return ns + string\\n      }\\n  return fn\\n}\\n\\nvar gaWithNamespace = function(fn, namespace) {\\n  var method = setMethodWithNs(namespace)\\n  fn.call(this, method)\\n}\\n\\nvar _gaq = _gaq || []\\n  , accounts = [\\n      { id: \\'UA-7019765-1\\', namespace: \\'douban\\' }\\n    , { id: \\'UA-7019765-19\\', namespace: \\'\\' }\\n    ]\\n  , gaInit = function(account) {\\n      gaWithNamespace(function(method) {\\n        gaInitFn.call(this, method, account)\\n      }, account.namespace)\\n    }\\n  , gaInitFn = function(method, account) {\\n      _gaq.push([method(\\'_setAccount\\'), account.id]);\\n      _gaq.push([method(\\'_setSampleRate\\'), \\'5\\']);\\n\\n      \\n  _gaq.push([method(\\'_addOrganic\\'), \\'google\\', \\'q\\'])\\n  _gaq.push([method(\\'_addOrganic\\'), \\'baidu\\', \\'wd\\'])\\n  _gaq.push([method(\\'_addOrganic\\'), \\'soso\\', \\'w\\'])\\n  _gaq.push([method(\\'_addOrganic\\'), \\'youdao\\', \\'q\\'])\\n  _gaq.push([method(\\'_addOrganic\\'), \\'so.360.cn\\', \\'q\\'])\\n  _gaq.push([method(\\'_addOrganic\\'), \\'sogou\\', \\'query\\'])\\n  if (account.namespace) {\\n    _gaq.push([method(\\'_addIgnoredOrganic\\'), \\'\\xe8\\xb1\\x86\\xe7\\x93\\xa3\\'])\\n    _gaq.push([method(\\'_addIgnoredOrganic\\'), \\'douban\\'])\\n    _gaq.push([method(\\'_addIgnoredOrganic\\'), \\'\\xe8\\xb1\\x86\\xe7\\x93\\xa3\\xe7\\xbd\\x91\\'])\\n    _gaq.push([method(\\'_addIgnoredOrganic\\'), \\'www.douban.com\\'])\\n  }\\n\\n      if (account.namespace === \\'douban\\') {\\n        _gaq.push([method(\\'_setDomainName\\'), \\'.douban.com\\'])\\n      }\\n\\n        _gaq.push([method(\\'_setCustomVar\\'), 1, \\'responsive_view_mode\\', \\'desktop\\', 3])\\n\\n        _gaq.push([method(\\'_setCustomVar\\'), 2, \\'login_status\\', \\'0\\', 2]);\\n\\n      _gaq.push([method(\\'_trackPageview\\')])\\n    }\\n\\nfor(var i = 0, l = accounts.length; i < l; i++) {\\n  var account = accounts[i]\\n  gaInit(account)\\n}\\n\\n\\n;(function() {\\n    var ga = document.createElement(\\'script\\');\\n    ga.src = (\\'https:\\' == document.location.protocol ? \\'https://ssl\\' : \\'http://www\\') + \\'.google-analytics.com/ga.js\\';\\n    ga.setAttribute(\\'async\\', \\'true\\');\\n    document.documentElement.firstChild.appendChild(ga);\\n})()\\n</script>\\n\\n\\n\\n\\n\\n\\n\\n\\n      \\n    \\n\\n    <!-- dae-web-movie--default-5f57f99457-lfzk8-->\\n\\n  <script>_SPLITTEST=\\'\\'</script>\\n</body>\\n\\n</html>\\n'\n"
     ]
    }
   ],
   "source": [
    "rootDB = html.fromstring(pageDB.text)\n",
    "print(rootDB)\n",
    "strs = (html.tostring(rootDB, encoding = \"utf-8\", pretty_print = True))\n",
    "print(strs)  #设漂亮打印pretty_print"
   ]
  },
  {
   "cell_type": "code",
   "execution_count": 22,
   "metadata": {},
   "outputs": [
    {
     "name": "stdout",
     "output_type": "stream",
     "text": [
      "我姐是不是很恨我，每次都请我看这种电影TAT\n"
     ]
    }
   ],
   "source": [
    "review=rootDB.xpath('//span[@class=\"short\"]/text()')[0]\n",
    "print(review)"
   ]
  },
  {
   "cell_type": "markdown",
   "metadata": {},
   "source": [
    "## lxml扩展"
   ]
  },
  {
   "cell_type": "markdown",
   "metadata": {},
   "source": [
    "### 1 文件解析与输出（问题1）\n",
    ">这部分讲述如何将XML文件解析为Element对象，以及如何将Element对象输出为XML文件。"
   ]
  },
  {
   "cell_type": "markdown",
   "metadata": {},
   "source": [
    "#### 1.1.文件解析\n",
    "\n",
    "__文件解析常用的有fromstring、XML和HTML三个方法。接受的参数都是字符串__"
   ]
  },
  {
   "cell_type": "code",
   "execution_count": 4,
   "metadata": {},
   "outputs": [],
   "source": [
    "from lxml import etree"
   ]
  },
  {
   "cell_type": "code",
   "execution_count": 5,
   "metadata": {},
   "outputs": [],
   "source": [
    "xml_data = '<root>data</root>'"
   ]
  },
  {
   "cell_type": "code",
   "execution_count": 6,
   "metadata": {},
   "outputs": [
    {
     "name": "stdout",
     "output_type": "stream",
     "text": [
      "root\n",
      "b'<root>data</root>'\n"
     ]
    }
   ],
   "source": [
    "root1=etree.fromstring(xml_data)    ## fromstring方法\n",
    "print(root1.tag)\n",
    "print(etree.tostring(root1))"
   ]
  },
  {
   "cell_type": "code",
   "execution_count": 7,
   "metadata": {},
   "outputs": [
    {
     "name": "stdout",
     "output_type": "stream",
     "text": [
      "root\n",
      "b'<root>data</root>'\n"
     ]
    }
   ],
   "source": [
    "root2=etree.XML(xml_data)           ## XML方法，与fromstring方法基本一样\n",
    "print(root2.tag)\n",
    "print(etree.tostring(root2))"
   ]
  },
  {
   "cell_type": "code",
   "execution_count": 8,
   "metadata": {},
   "outputs": [
    {
     "name": "stdout",
     "output_type": "stream",
     "text": [
      "html\n",
      "b'<html><body><root>data</root></body></html>'\n"
     ]
    }
   ],
   "source": [
    "root3=etree.HTML(xml_data)         ## HTML方法，如果没有<html>和<body>标签，会自动补上\n",
    "print(root3.tag)\n",
    "print(etree.tostring(root3))"
   ]
  },
  {
   "cell_type": "markdown",
   "metadata": {},
   "source": [
    "#### 1.2.输出\n",
    "\n",
    "__输出其实就是前面一直在用的tostring方法了，这里补充xml_declaration和encoding两个参数，前者是XML声明，后者是指定编码__"
   ]
  },
  {
   "cell_type": "code",
   "execution_count": 9,
   "metadata": {},
   "outputs": [
    {
     "name": "stdout",
     "output_type": "stream",
     "text": [
      "b'<root><a><b/></a></root>'\n"
     ]
    }
   ],
   "source": [
    "root = etree.XML('<root><a><b/></a></root>')\n",
    "print(etree.tostring(root))"
   ]
  },
  {
   "cell_type": "code",
   "execution_count": 10,
   "metadata": {},
   "outputs": [
    {
     "name": "stdout",
     "output_type": "stream",
     "text": [
      "b\"<?xml version='1.0' encoding='ASCII'?>\\n<root><a><b/></a></root>\"\n"
     ]
    }
   ],
   "source": [
    "print(etree.tostring(root,xml_declaration=True))   ## XML声明"
   ]
  },
  {
   "cell_type": "code",
   "execution_count": 11,
   "metadata": {},
   "outputs": [
    {
     "name": "stdout",
     "output_type": "stream",
     "text": [
      "b\"<?xml version='1.0' encoding='iso-8859-1'?>\\n<root><a><b/></a></root>\"\n"
     ]
    }
   ],
   "source": [
    "print(etree.tostring(root,encoding='iso-8859-1'))   ## 指定编码"
   ]
  },
  {
   "cell_type": "markdown",
   "metadata": {},
   "source": [
    "## 2 ElementPath(问题2)\n",
    ">讲ElementPath前，需要引入ElementTree类，一个ElementTree对象可理解为一个完整的XML树，每个节点都是一个Element对象。  \n",
    "而ElementPath则相当于XML中的XPath。用于搜索和定位Element元素"
   ]
  },
  {
   "cell_type": "markdown",
   "metadata": {},
   "source": [
    "__这里介绍两个常用方法，可以满足大部分搜索、查询需求，它们的参数都是XPath语句：__\n",
    "\n",
    "    - findall()：返回所有匹配的元素，返回列表  \n",
    "    - find()：返回匹配到的第一个元素"
   ]
  },
  {
   "cell_type": "code",
   "execution_count": 12,
   "metadata": {},
   "outputs": [
    {
     "name": "stdout",
     "output_type": "stream",
     "text": [
      "b'<root>\\n  <a x=\"123\">aText<b>test<c/>Tset</b></a>\\n  <b>bText</b>\\n</root>\\n'\n"
     ]
    }
   ],
   "source": [
    "root = etree.XML(\"<root><a x='123'>aText<b>test<c/>Tset</b></a><b>bText</b></root>\")\n",
    "print(etree.tostring(root,pretty_print=True))"
   ]
  },
  {
   "cell_type": "code",
   "execution_count": 13,
   "metadata": {},
   "outputs": [
    {
     "name": "stdout",
     "output_type": "stream",
     "text": [
      "<Element b at 0x1d8bc2a4a48>\n",
      "bText\n",
      "test\n",
      "<Element a at 0x1d8bc2a4b48>\n",
      "aText\n",
      "a\n"
     ]
    }
   ],
   "source": [
    "## 查找第一个b标签\n",
    "print(root.find('b'))\n",
    "print(root.find('b').text)\n",
    "print(root.find('.//b').text)\n",
    "print(root.find('a'))\n",
    "print(root.find('a').text)\n",
    "print(root.find('a').tag)"
   ]
  },
  {
   "cell_type": "code",
   "execution_count": 14,
   "metadata": {},
   "outputs": [
    {
     "data": {
      "text/plain": [
       "['test', 'bText']"
      ]
     },
     "execution_count": 14,
     "metadata": {},
     "output_type": "execute_result"
    }
   ],
   "source": [
    "## 查找所有b标签，返回Element对象组成的列表\n",
    "[b.text for b in root.findall('.//b')]"
   ]
  },
  {
   "cell_type": "code",
   "execution_count": 15,
   "metadata": {},
   "outputs": [
    {
     "name": "stdout",
     "output_type": "stream",
     "text": [
      "a\n"
     ]
    }
   ],
   "source": [
    "## 根据属性查询\n",
    "print(root.findall('.//a[@x]')[0].tag)"
   ]
  },
  {
   "cell_type": "code",
   "execution_count": 16,
   "metadata": {},
   "outputs": [
    {
     "name": "stdout",
     "output_type": "stream",
     "text": [
      "[]\n"
     ]
    }
   ],
   "source": [
    "print(root.findall('.//a[@y]'))"
   ]
  },
  {
   "cell_type": "code",
   "execution_count": 17,
   "metadata": {},
   "outputs": [
    {
     "name": "stdout",
     "output_type": "stream",
     "text": [
      "['aText']\n"
     ]
    }
   ],
   "source": [
    "print(root.xpath('//a/text()') )"
   ]
  },
  {
   "cell_type": "code",
   "execution_count": 18,
   "metadata": {},
   "outputs": [
    {
     "name": "stdout",
     "output_type": "stream",
     "text": [
      "['test', 'Tset', 'bText']\n"
     ]
    }
   ],
   "source": [
    "print(root.xpath('//b/text()'))"
   ]
  },
  {
   "cell_type": "markdown",
   "metadata": {},
   "source": [
    "## 3 lxml_XPath查找定位"
   ]
  },
  {
   "cell_type": "code",
   "execution_count": 19,
   "metadata": {},
   "outputs": [
    {
     "name": "stdout",
     "output_type": "stream",
     "text": [
      "b'<html><body><div>\\n    <ul>\\n         <li class=\"item-0\"><a href=\"link1.html\">first item</a></li>\\n         <li class=\"item-1\"><a href=\"link2.html\">second item</a></li>\\n         <li class=\"item-inactive\"><a href=\"link3.html\"><span class=\"bold\">third item</span></a></li>\\n         <li class=\"item-1\"><a href=\"link4.html\">fourth item</a></li>\\n         <li class=\"item-0\"><a href=\"link5.html\">fifth item</a>\\n     </li></ul>\\n </div>\\n</body></html>'\n"
     ]
    }
   ],
   "source": [
    "from lxml import etree\n",
    "text = '''\n",
    "<div>\n",
    "    <ul>\n",
    "         <li class=\"item-0\"><a href=\"link1.html\">first item</a></li>\n",
    "         <li class=\"item-1\"><a href=\"link2.html\">second item</a></li>\n",
    "         <li class=\"item-inactive\"><a href=\"link3.html\"><span class=\"bold\">third item</span></a></li>\n",
    "         <li class=\"item-1\"><a href=\"link4.html\">fourth item</a></li>\n",
    "         <li class=\"item-0\"><a href=\"link5.html\">fifth item</a>\n",
    "     </ul>\n",
    " </div>\n",
    "'''\n",
    "html = etree.HTML(text)              ## lxml 因为继承了 libxml2 的特性，具有自动修正 HTML 代码的功能,补全了 li 标签，还添加了 body，html 标签\n",
    "result = etree.tostring(html)\n",
    "print(result)"
   ]
  },
  {
   "cell_type": "code",
   "execution_count": 20,
   "metadata": {},
   "outputs": [
    {
     "name": "stdout",
     "output_type": "stream",
     "text": [
      "[<Element li at 0x1d8bc2a4c88>, <Element li at 0x1d8bc2be548>, <Element li at 0x1d8bc2be3c8>, <Element li at 0x1d8bc2be388>, <Element li at 0x1d8bc2be808>]\n",
      "5\n",
      "<class 'list'>\n",
      "<class 'lxml.etree._Element'>\n"
     ]
    }
   ],
   "source": [
    "result = html.xpath('//li')   ## 获取所有li标签\n",
    "print(result)\n",
    "print(len(result))\n",
    "print(type(result))\n",
    "print(type(result[0]))            ## 每个元素都是 Element 类型"
   ]
  },
  {
   "cell_type": "code",
   "execution_count": 21,
   "metadata": {},
   "outputs": [
    {
     "name": "stdout",
     "output_type": "stream",
     "text": [
      "['item-0', 'item-1', 'item-inactive', 'item-1', 'item-0']\n"
     ]
    }
   ],
   "source": [
    "print(html.xpath('//li/@class') )          ## 获取 <li> 标签的所有 class"
   ]
  },
  {
   "cell_type": "code",
   "execution_count": 22,
   "metadata": {},
   "outputs": [
    {
     "name": "stdout",
     "output_type": "stream",
     "text": [
      "[<Element a at 0x1d8bc2be848>]\n"
     ]
    }
   ],
   "source": [
    "print(html.xpath('//li/a[@href=\"link3.html\"]') )       ## 获取 <li> 标签下 href 为 link1.html 的 <a> 标签"
   ]
  },
  {
   "cell_type": "code",
   "execution_count": 23,
   "metadata": {},
   "outputs": [
    {
     "name": "stdout",
     "output_type": "stream",
     "text": [
      "[<Element span at 0x1d8bc2bea88>]\n"
     ]
    }
   ],
   "source": [
    "print(html.xpath('//li//span'))       ## 获取 <li> 标签下的所有 <span> 标签,注意要用‘//span’，因为<span> 并不是 <li> 的子元素，不能跨级"
   ]
  },
  {
   "cell_type": "code",
   "execution_count": 24,
   "metadata": {},
   "outputs": [
    {
     "name": "stdout",
     "output_type": "stream",
     "text": [
      "['bold']\n"
     ]
    }
   ],
   "source": [
    "print(html.xpath('//li/a//@class') )      ## 获取 <li> 标签下的所有 class，不包括 <li>"
   ]
  },
  {
   "cell_type": "code",
   "execution_count": 25,
   "metadata": {},
   "outputs": [
    {
     "name": "stdout",
     "output_type": "stream",
     "text": [
      "['link5.html']\n"
     ]
    }
   ],
   "source": [
    "print(html.xpath('//li[last()]/a/@href') )           ## 获取最后一个 <li> 的 <a> 的 href"
   ]
  },
  {
   "cell_type": "code",
   "execution_count": 26,
   "metadata": {},
   "outputs": [
    {
     "name": "stdout",
     "output_type": "stream",
     "text": [
      "['fourth item']\n"
     ]
    }
   ],
   "source": [
    "print(html.xpath('//li[last()-1]//text()'))        ## 获取倒数第二个元素的内容"
   ]
  },
  {
   "cell_type": "code",
   "execution_count": 27,
   "metadata": {},
   "outputs": [
    {
     "name": "stdout",
     "output_type": "stream",
     "text": [
      "span\n"
     ]
    }
   ],
   "source": [
    "print(html.xpath('//*[@class=\"bold\"]')[0].tag )         ## 获取 class 为 bold 的标签名"
   ]
  },
  {
   "cell_type": "code",
   "execution_count": null,
   "metadata": {},
   "outputs": [],
   "source": []
  }
 ],
 "metadata": {
  "kernelspec": {
   "display_name": "Python 3",
   "language": "python",
   "name": "python3"
  },
  "language_info": {
   "codemirror_mode": {
    "name": "ipython",
    "version": 3
   },
   "file_extension": ".py",
   "mimetype": "text/x-python",
   "name": "python",
   "nbconvert_exporter": "python",
   "pygments_lexer": "ipython3",
   "version": "3.7.0"
  }
 },
 "nbformat": 4,
 "nbformat_minor": 2
}
